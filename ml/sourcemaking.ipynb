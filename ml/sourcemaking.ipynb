{
 "cells": [
  {
   "cell_type": "code",
   "execution_count": 34,
   "id": "0766f779-f955-4a76-b438-3324d6f26b87",
   "metadata": {
    "tags": []
   },
   "outputs": [
    {
     "data": {
      "text/plain": [
       "array([0.05121738, 1.        , 0.04284098, 0.07670203, 0.48284168,\n",
       "       0.10158034, 0.10366835, 0.03624831, 0.05959083, 0.07536586,\n",
       "       0.08909311, 0.07943137, 0.18959729, 0.03546424, 0.15976178,\n",
       "       0.08516017, 0.05451818, 0.25027714, 0.08489095, 0.09934391,\n",
       "       0.05421544, 0.11411471, 0.05783469, 0.05042024, 0.06867472,\n",
       "       0.04543895, 0.01162515])"
      ]
     },
     "metadata": {},
     "output_type": "display_data"
    },
    {
     "data": {
      "text/plain": [
       "scipy.sparse._csr.csr_matrix"
      ]
     },
     "metadata": {},
     "output_type": "display_data"
    },
    {
     "data": {
      "text/plain": [
       "[0.003844784177838983,\n",
       " 0.008444123598290453,\n",
       " 0.00880833818902891,\n",
       " 0.009270325105996496,\n",
       " 0.011625145615039266,\n",
       " 0.012111171455819403,\n",
       " 0.01306295877104889,\n",
       " 0.013358824580659368,\n",
       " 0.013572330355389786,\n",
       " 0.015053467842486807,\n",
       " 0.01522253146493636,\n",
       " 0.01669750061407642,\n",
       " 0.01915229427643282,\n",
       " 0.01936862205342212,\n",
       " 0.021759532351951223,\n",
       " 0.023045842909206308,\n",
       " 0.02454996802374173,\n",
       " 0.025140145783517396,\n",
       " 0.0290361406061693,\n",
       " 0.029276466780194136,\n",
       " 0.029789562042543537,\n",
       " 0.03494059640924055,\n",
       " 0.04031878674960105,\n",
       " 0.049272883477182707,\n",
       " 0.05117368609038477,\n",
       " 0.056461283772131055,\n",
       " 1.0000000000000002]"
      ]
     },
     "metadata": {},
     "output_type": "display_data"
    }
   ],
   "source": [
    "import pandas as pd\n",
    "from sklearn.feature_extraction.text import TfidfVectorizer\n",
    "\n",
    "df = pd.read_csv('sourcemaking.csv')\n",
    "\n",
    "dp_1 = \"\"\"Design a drawing editor. A design is composed\n",
    "of te graphics (lines, rectangles and roses), positioned at precise\n",
    "positions. Each graphic form must be modeled by a class that\n",
    "provides a method draw(): void. A rose is a complex graphic designed\n",
    "by a black-box class component. This component performs\n",
    "this drawing in memory, and provides access through a method\n",
    "getRose(): int that returns the address of the drawing. It is probable\n",
    "that the system evolves in order to draw circles\"\"\".replace('\\n', ' ')\n",
    "\n",
    "corpus_with_dp = pd.concat([df['text'],pd.Series(dp_1)],ignore_index=True)\n",
    "\n",
    "vect = TfidfVectorizer(min_df=1, stop_words=\"english\",binary=True)                                                                                                                                                                                                   \n",
    "tfidf = vect.fit_transform(corpus_with_dp)                                                                                                                                                                                                                       \n",
    "pairwise_similarity = tfidf * tfidf.T \n",
    "\n",
    "display(pairwise_similarity.toarray()[1])\n",
    "\n",
    "display(type(pairwise_similarity))\n",
    "\n",
    "pairwise_similarity.toarray()[-1].sort()\n",
    "\n",
    "display(sorted(pairwise_similarity.toarray()[-1]))\n",
    "\n"
   ]
  },
  {
   "cell_type": "code",
   "execution_count": null,
   "id": "89caf6a7-12f1-45c9-9858-339f242de5a4",
   "metadata": {},
   "outputs": [],
   "source": []
  }
 ],
 "metadata": {
  "kernelspec": {
   "display_name": "Python 3 (ipykernel)",
   "language": "python",
   "name": "python3"
  },
  "language_info": {
   "codemirror_mode": {
    "name": "ipython",
    "version": 3
   },
   "file_extension": ".py",
   "mimetype": "text/x-python",
   "name": "python",
   "nbconvert_exporter": "python",
   "pygments_lexer": "ipython3",
   "version": "3.10.2"
  }
 },
 "nbformat": 4,
 "nbformat_minor": 5
}
