{
  "nbformat": 4,
  "nbformat_minor": 0,
  "metadata": {
    "colab": {
      "provenance": []
    },
    "kernelspec": {
      "name": "python3",
      "display_name": "Python 3"
    },
    "language_info": {
      "name": "python"
    }
  },
  "cells": [
    {
      "cell_type": "code",
      "execution_count": 1,
      "metadata": {
        "colab": {
          "base_uri": "https://localhost:8080/"
        },
        "id": "Psh3biPTjlG2",
        "outputId": "c18b03e2-2bdc-43ba-8859-c139b51f4221"
      },
      "outputs": [
        {
          "output_type": "stream",
          "name": "stdout",
          "text": [
            "Looking in indexes: https://pypi.org/simple, https://us-python.pkg.dev/colab-wheels/public/simple/\n",
            "Collecting mpld3\n",
            "  Downloading mpld3-0.5.9-py3-none-any.whl (201 kB)\n",
            "\u001b[2K     \u001b[90m━━━━━━━━━━━━━━━━━━━━━━━━━━━━━━━━━━━━━━━\u001b[0m \u001b[32m201.2/201.2 KB\u001b[0m \u001b[31m3.2 MB/s\u001b[0m eta \u001b[36m0:00:00\u001b[0m\n",
            "\u001b[?25hRequirement already satisfied: jinja2 in /usr/local/lib/python3.8/dist-packages (from mpld3) (2.11.3)\n",
            "Requirement already satisfied: matplotlib in /usr/local/lib/python3.8/dist-packages (from mpld3) (3.2.2)\n",
            "Requirement already satisfied: MarkupSafe>=0.23 in /usr/local/lib/python3.8/dist-packages (from jinja2->mpld3) (2.0.1)\n",
            "Requirement already satisfied: python-dateutil>=2.1 in /usr/local/lib/python3.8/dist-packages (from matplotlib->mpld3) (2.8.2)\n",
            "Requirement already satisfied: pyparsing!=2.0.4,!=2.1.2,!=2.1.6,>=2.0.1 in /usr/local/lib/python3.8/dist-packages (from matplotlib->mpld3) (3.0.9)\n",
            "Requirement already satisfied: kiwisolver>=1.0.1 in /usr/local/lib/python3.8/dist-packages (from matplotlib->mpld3) (1.4.4)\n",
            "Requirement already satisfied: cycler>=0.10 in /usr/local/lib/python3.8/dist-packages (from matplotlib->mpld3) (0.11.0)\n",
            "Requirement already satisfied: numpy>=1.11 in /usr/local/lib/python3.8/dist-packages (from matplotlib->mpld3) (1.21.6)\n",
            "Requirement already satisfied: six>=1.5 in /usr/local/lib/python3.8/dist-packages (from python-dateutil>=2.1->matplotlib->mpld3) (1.15.0)\n",
            "Installing collected packages: mpld3\n",
            "Successfully installed mpld3-0.5.9\n"
          ]
        }
      ],
      "source": [
        "# Source: http://brandonrose.org/clustering\n",
        "\n",
        "import numpy as np\n",
        "import pandas as pd\n",
        "import nltk\n",
        "import re\n",
        "import os\n",
        "import codecs\n",
        "from sklearn import feature_extraction\n",
        "!pip install mpld3\n",
        "import mpld3"
      ]
    },
    {
      "cell_type": "code",
      "source": [
        "# Get all the lists we need.\n",
        "# Source: https://stackoverflow.com/a/24662707\n",
        "\n",
        "import csv\n",
        "\n",
        "with open('scraped_pattern_data_gofpatterns_revised.csv', newline='') as f:\n",
        "    reader = csv.reader(f)\n",
        "    list_gof = list(reader)\n",
        "    list_gof.pop(0)\n",
        "    list_gof = np.array(list_gof)\n",
        "    id_gof = list_gof[:,0]\n",
        "    cat_gof = list_gof[:,1]\n",
        "    name_gof = list_gof[:,2]\n",
        "    overview_gof = list_gof[:,3]\n",
        "\n",
        "print(name_gof)"
      ],
      "metadata": {
        "colab": {
          "base_uri": "https://localhost:8080/"
        },
        "id": "KRQaOoYooJ0N",
        "outputId": "bbe00fe0-bd60-4d5b-a996-17cc18c839ca"
      },
      "execution_count": 2,
      "outputs": [
        {
          "output_type": "stream",
          "name": "stdout",
          "text": [
            "['abstract_factory_pattern' 'decorator_pattern' 'facade_pattern'\n",
            " 'composite_pattern' 'factory_method_pattern' 'prototype_pattern'\n",
            " 'adapter_pattern' 'builder_pattern' 'singleton_pattern' 'bridge_pattern'\n",
            " 'flyweight_pattern' 'proxy_pattern' 'memento_pattern'\n",
            " 'interpreter_pattern' 'iterator_pattern' 'observer_pattern'\n",
            " 'command_pattern' 'mediator_pattern' 'chain_of_responsibility'\n",
            " 'state_pattern' 'template_pattern' 'hierarchical_visitor_pattern'\n",
            " 'strategy_pattern']\n"
          ]
        }
      ]
    },
    {
      "cell_type": "code",
      "source": [
        "# load nltk's English stopwords as variable called 'stopwords'\n",
        "nltk.download('stopwords')\n",
        "stopwords = nltk.corpus.stopwords.words('english')"
      ],
      "metadata": {
        "colab": {
          "base_uri": "https://localhost:8080/"
        },
        "id": "jaGqVrXWkift",
        "outputId": "594f6790-4eb1-483d-ed27-8d6790ffb210"
      },
      "execution_count": 3,
      "outputs": [
        {
          "output_type": "stream",
          "name": "stderr",
          "text": [
            "[nltk_data] Downloading package stopwords to /root/nltk_data...\n",
            "[nltk_data]   Unzipping corpora/stopwords.zip.\n"
          ]
        }
      ]
    },
    {
      "cell_type": "code",
      "source": [
        "# load nltk's SnowballStemmer as variabled 'stemmer'\n",
        "from nltk.stem.snowball import SnowballStemmer\n",
        "stemmer = SnowballStemmer(\"english\")"
      ],
      "metadata": {
        "id": "qq1mc3pik1MG"
      },
      "execution_count": 4,
      "outputs": []
    },
    {
      "cell_type": "code",
      "source": [
        "# here I define a tokenizer and stemmer which returns the set of stems in the text that it is passed\n",
        "\n",
        "def tokenize_and_stem(text):\n",
        "    # first tokenize by sentence, then by word to ensure that punctuation is caught as it's own token\n",
        "    tokens = [word for sent in nltk.sent_tokenize(text) for word in nltk.word_tokenize(sent)]\n",
        "    filtered_tokens = []\n",
        "    # filter out any tokens not containing letters (e.g., numeric tokens, raw punctuation)\n",
        "    for token in tokens:\n",
        "        if re.search('[a-zA-Z]', token):\n",
        "            filtered_tokens.append(token)\n",
        "    stems = [stemmer.stem(t) for t in filtered_tokens]\n",
        "    return stems\n",
        "\n",
        "\n",
        "def tokenize_only(text):\n",
        "    # first tokenize by sentence, then by word to ensure that punctuation is caught as it's own token\n",
        "    tokens = [word.lower() for sent in nltk.sent_tokenize(text) for word in nltk.word_tokenize(sent)]\n",
        "    filtered_tokens = []\n",
        "    # filter out any tokens not containing letters (e.g., numeric tokens, raw punctuation)\n",
        "    for token in tokens:\n",
        "        if re.search('[a-zA-Z]', token):\n",
        "            filtered_tokens.append(token)\n",
        "    return filtered_tokens"
      ],
      "metadata": {
        "id": "sDhZW67Yk637"
      },
      "execution_count": 5,
      "outputs": []
    },
    {
      "cell_type": "code",
      "source": [
        "nltk.download('punkt')\n",
        "\n",
        "#not super pythonic, no, not at all.\n",
        "#use extend so it's a big flat list of vocab\n",
        "totalvocab_stemmed = []\n",
        "totalvocab_tokenized = []\n",
        "for i in overview_gof:\n",
        "    allwords_stemmed = tokenize_and_stem(i) #for each item in 'synopses', tokenize/stem\n",
        "    totalvocab_stemmed.extend(allwords_stemmed) #extend the 'totalvocab_stemmed' list\n",
        "    \n",
        "    allwords_tokenized = tokenize_only(i)\n",
        "    totalvocab_tokenized.extend(allwords_tokenized)"
      ],
      "metadata": {
        "colab": {
          "base_uri": "https://localhost:8080/"
        },
        "id": "kqdweo6iqHdc",
        "outputId": "de8c4d70-2b12-428e-9c1f-06240a9a859b"
      },
      "execution_count": 6,
      "outputs": [
        {
          "output_type": "stream",
          "name": "stderr",
          "text": [
            "[nltk_data] Downloading package punkt to /root/nltk_data...\n",
            "[nltk_data]   Unzipping tokenizers/punkt.zip.\n"
          ]
        }
      ]
    },
    {
      "cell_type": "code",
      "source": [
        "vocab_frame = pd.DataFrame({'words': totalvocab_tokenized}, index = totalvocab_stemmed)\n",
        "print('there are ' + str(vocab_frame.shape[0]) + ' items in vocab_frame')"
      ],
      "metadata": {
        "colab": {
          "base_uri": "https://localhost:8080/"
        },
        "id": "Eoce3K_muQiZ",
        "outputId": "37de7a06-6e51-4548-e65b-21560d08d378"
      },
      "execution_count": 7,
      "outputs": [
        {
          "output_type": "stream",
          "name": "stdout",
          "text": [
            "there are 5759 items in vocab_frame\n"
          ]
        }
      ]
    },
    {
      "cell_type": "code",
      "source": [
        "print(vocab_frame.head())\n",
        "print\n",
        "print\n",
        "print\n",
        "print"
      ],
      "metadata": {
        "colab": {
          "base_uri": "https://localhost:8080/"
        },
        "id": "CpKSvg5guaKd",
        "outputId": "96357212-7bc9-4ef4-a006-655dd6b21ff0"
      },
      "execution_count": 8,
      "outputs": [
        {
          "output_type": "stream",
          "name": "stdout",
          "text": [
            "             words\n",
            "question  question\n",
            "what          what\n",
            "is              is\n",
            "the            the\n",
            "abstract  abstract\n"
          ]
        },
        {
          "output_type": "execute_result",
          "data": {
            "text/plain": [
              "<function print>"
            ]
          },
          "metadata": {},
          "execution_count": 8
        }
      ]
    },
    {
      "cell_type": "code",
      "source": [
        "from sklearn.feature_extraction.text import TfidfVectorizer\n",
        "\n",
        "#define vectorizer parameters\n",
        "tfidf_vectorizer = TfidfVectorizer(max_df=0.8, max_features=200000,\n",
        "                                 min_df=0.2, stop_words='english',\n",
        "                                 use_idf=True, tokenizer=tokenize_and_stem, ngram_range=(1,3))\n",
        "\n",
        "%time tfidf_matrix = tfidf_vectorizer.fit_transform(overview_gof) #fit the vectorizer to synopses\n",
        "\n",
        "print(tfidf_matrix.shape)"
      ],
      "metadata": {
        "colab": {
          "base_uri": "https://localhost:8080/"
        },
        "id": "R95fns1UvOj0",
        "outputId": "58c25c11-6d8c-484a-b0c5-1ee88a4dfcae"
      },
      "execution_count": 9,
      "outputs": [
        {
          "output_type": "stream",
          "name": "stdout",
          "text": [
            "CPU times: user 187 ms, sys: 5.04 ms, total: 192 ms\n",
            "Wall time: 227 ms\n",
            "(23, 83)\n"
          ]
        },
        {
          "output_type": "stream",
          "name": "stderr",
          "text": [
            "/usr/local/lib/python3.8/dist-packages/sklearn/feature_extraction/text.py:396: UserWarning: Your stop_words may be inconsistent with your preprocessing. Tokenizing the stop words generated tokens ['abov', 'afterward', 'alon', 'alreadi', 'alway', 'ani', 'anoth', 'anyon', 'anyth', 'anywher', 'becam', 'becaus', 'becom', 'befor', 'besid', 'cri', 'describ', 'dure', 'els', 'elsewher', 'empti', 'everi', 'everyon', 'everyth', 'everywher', 'fifti', 'forti', 'henc', 'hereaft', 'herebi', 'howev', 'hundr', 'inde', 'mani', 'meanwhil', 'moreov', 'nobodi', 'noon', 'noth', 'nowher', 'onc', 'onli', 'otherwis', 'ourselv', 'perhap', 'pleas', 'sever', 'sinc', 'sincer', 'sixti', 'someon', 'someth', 'sometim', 'somewher', 'themselv', 'thenc', 'thereaft', 'therebi', 'therefor', 'togeth', 'twelv', 'twenti', 'veri', 'whatev', 'whenc', 'whenev', 'wherea', 'whereaft', 'wherebi', 'wherev', 'whi', 'yourselv'] not in stop_words.\n",
            "  warnings.warn(\n"
          ]
        }
      ]
    },
    {
      "cell_type": "code",
      "source": [
        "terms = tfidf_vectorizer.get_feature_names()"
      ],
      "metadata": {
        "colab": {
          "base_uri": "https://localhost:8080/"
        },
        "id": "kh53xkClvn9s",
        "outputId": "f550d97c-d72e-4bba-bc67-f172fc8bef45"
      },
      "execution_count": 10,
      "outputs": [
        {
          "output_type": "stream",
          "name": "stderr",
          "text": [
            "/usr/local/lib/python3.8/dist-packages/sklearn/utils/deprecation.py:87: FutureWarning: Function get_feature_names is deprecated; get_feature_names is deprecated in 1.0 and will be removed in 1.2. Please use get_feature_names_out instead.\n",
            "  warnings.warn(msg, category=FutureWarning)\n"
          ]
        }
      ]
    },
    {
      "cell_type": "code",
      "source": [
        "from sklearn.metrics.pairwise import cosine_similarity\n",
        "dist = 1 - cosine_similarity(tfidf_matrix)\n",
        "print\n",
        "print"
      ],
      "metadata": {
        "colab": {
          "base_uri": "https://localhost:8080/"
        },
        "id": "9aC4gq6Jvrdu",
        "outputId": "2cff9757-8c05-4838-d694-811b81bd02aa"
      },
      "execution_count": 11,
      "outputs": [
        {
          "output_type": "execute_result",
          "data": {
            "text/plain": [
              "<function print>"
            ]
          },
          "metadata": {},
          "execution_count": 11
        }
      ]
    },
    {
      "cell_type": "code",
      "source": [
        "from sklearn.cluster import KMeans\n",
        "\n",
        "num_clusters = 3\n",
        "\n",
        "km = KMeans(n_clusters=num_clusters)\n",
        "\n",
        "%time km.fit(tfidf_matrix)\n",
        "\n",
        "clusters = km.labels_.tolist()"
      ],
      "metadata": {
        "colab": {
          "base_uri": "https://localhost:8080/"
        },
        "id": "dGCxd6Llvw1w",
        "outputId": "2fdd69d0-abd5-4660-9406-20c85f554acc"
      },
      "execution_count": 12,
      "outputs": [
        {
          "output_type": "stream",
          "name": "stdout",
          "text": [
            "CPU times: user 125 ms, sys: 1.69 ms, total: 126 ms\n",
            "Wall time: 123 ms\n"
          ]
        }
      ]
    },
    {
      "cell_type": "code",
      "source": [
        "#!pip install sklearn\n",
        "#from sklearn.externals import joblib\n",
        "#import sklearn.external.joblib as extjoblib\n",
        "import joblib\n",
        "\n",
        "#uncomment the below to save your model \n",
        "#since I've already run my model I am loading from the pickle\n",
        "\n",
        "joblib.dump(km,  'doc_cluster.pkl')\n",
        "\n",
        "km = joblib.load('doc_cluster.pkl')\n",
        "clusters_gof = km.labels_.tolist()"
      ],
      "metadata": {
        "id": "FHoxnFqlv3gM"
      },
      "execution_count": 13,
      "outputs": []
    },
    {
      "cell_type": "code",
      "source": [
        "patterns_gof = { 'id': id_gof, 'cat': cat_gof, 'name': name_gof, 'overview': overview_gof, 'cluster': clusters_gof }\n",
        "\n",
        "frame_gof = pd.DataFrame(patterns_gof, index = [clusters] , columns = ['id', 'cat', 'name', 'cluster'])"
      ],
      "metadata": {
        "id": "MX82kEuh0-eD"
      },
      "execution_count": 14,
      "outputs": []
    },
    {
      "cell_type": "code",
      "source": [
        "frame_gof['cluster'].value_counts() #number of patterns per cluster (clusters from 0 to 2)"
      ],
      "metadata": {
        "colab": {
          "base_uri": "https://localhost:8080/"
        },
        "id": "I3qzttli2eny",
        "outputId": "2b5dbe90-b151-4e49-8e71-a2d6015a0bbc"
      },
      "execution_count": 15,
      "outputs": [
        {
          "output_type": "execute_result",
          "data": {
            "text/plain": [
              "0    15\n",
              "1     6\n",
              "2     2\n",
              "Name: cluster, dtype: int64"
            ]
          },
          "metadata": {},
          "execution_count": 15
        }
      ]
    },
    {
      "cell_type": "code",
      "source": [
        "grouped = frame_gof['id'].groupby(frame_gof['cluster']) #groupby cluster for aggregation purposes\n",
        "\n",
        "grouped.mean() #average id per cluster"
      ],
      "metadata": {
        "colab": {
          "base_uri": "https://localhost:8080/"
        },
        "id": "chR0vh352_xB",
        "outputId": "e2e7c7e8-a008-468c-9e83-019fe3efd508"
      },
      "execution_count": 16,
      "outputs": [
        {
          "output_type": "execute_result",
          "data": {
            "text/plain": [
              "cluster\n",
              "0    6.128626e+35\n",
              "1    1.685052e+16\n",
              "2    4.705650e+04\n",
              "Name: id, dtype: float64"
            ]
          },
          "metadata": {},
          "execution_count": 16
        }
      ]
    },
    {
      "cell_type": "code",
      "source": [
        "from __future__ import print_function\n",
        "\n",
        "print(\"Top terms per cluster:\")\n",
        "print()\n",
        "#sort cluster centers by proximity to centroid\n",
        "order_centroids = km.cluster_centers_.argsort()[:, ::-1] \n",
        "\n",
        "for i in range(num_clusters):\n",
        "    print(\"Cluster %d words:\" % i, end='')\n",
        "    \n",
        "    for ind in order_centroids[i, :6]: #replace 6 with n words per cluster\n",
        "        print(' %s' % vocab_frame.loc[terms[ind].split(' ')].values.tolist()[0][0].encode('utf-8', 'ignore'), end=',')\n",
        "    print() #add whitespace\n",
        "    print() #add whitespace\n",
        "    \n",
        "    print(\"Cluster %d titles:\" % i, end='')\n",
        "    for title in frame_gof.loc[i]['name'].values.tolist():\n",
        "        print(' %s,' % title, end='')\n",
        "    print() #add whitespace\n",
        "    print() #add whitespace\n",
        "    \n",
        "print()\n",
        "print()"
      ],
      "metadata": {
        "colab": {
          "base_uri": "https://localhost:8080/"
        },
        "id": "jkR0We8V3NM-",
        "outputId": "07114f71-5bb9-4586-ec91-267e853a44c5"
      },
      "execution_count": 17,
      "outputs": [
        {
          "output_type": "stream",
          "name": "stdout",
          "text": [
            "Top terms per cluster:\n",
            "\n",
            "Cluster 0 words: b'class', b'interface', b'creating', b'abstract', b'method', b'client',\n",
            "\n",
            "Cluster 0 titles: abstract_factory_pattern, decorator_pattern, facade_pattern, factory_method_pattern, prototype_pattern, adapter_pattern, builder_pattern, singleton_pattern, bridge_pattern, proxy_pattern, interpreter_pattern, command_pattern, chain_of_responsibility, template_pattern, strategy_pattern,\n",
            "\n",
            "Cluster 1 words: b'state', b'contain', b'dependent', b'change', b'components', b'simplifies',\n",
            "\n",
            "Cluster 1 titles: flyweight_pattern, memento_pattern, iterator_pattern, observer_pattern, mediator_pattern, state_pattern,\n",
            "\n",
            "Cluster 2 words: b'composite', b'structures', b'represented', b'operations', b'need', b'allows',\n",
            "\n",
            "Cluster 2 titles: composite_pattern, hierarchical_visitor_pattern,\n",
            "\n",
            "\n",
            "\n"
          ]
        }
      ]
    },
    {
      "cell_type": "code",
      "source": [
        "import os  # for os.path.basename\n",
        "\n",
        "import matplotlib.pyplot as plt\n",
        "import matplotlib as mpl\n",
        "\n",
        "from sklearn.manifold import MDS\n",
        "\n",
        "MDS()\n",
        "\n",
        "# convert two components as we're plotting points in a two-dimensional plane\n",
        "# \"precomputed\" because we provide a distance matrix\n",
        "# we will also specify `random_state` so the plot is reproducible.\n",
        "mds = MDS(n_components=2, dissimilarity=\"precomputed\", random_state=1)\n",
        "\n",
        "pos = mds.fit_transform(dist)  # shape (n_components, n_samples)\n",
        "\n",
        "xs, ys = pos[:, 0], pos[:, 1]\n",
        "print()\n",
        "print()"
      ],
      "metadata": {
        "colab": {
          "base_uri": "https://localhost:8080/"
        },
        "id": "UN3nha7U4U2I",
        "outputId": "8bedcc4f-9867-47d9-9824-7aed4cd08eb8"
      },
      "execution_count": 18,
      "outputs": [
        {
          "output_type": "stream",
          "name": "stdout",
          "text": [
            "\n",
            "\n"
          ]
        }
      ]
    },
    {
      "cell_type": "code",
      "source": [
        "#set up colors per clusters using a dict\n",
        "cluster_colors = {0: '#1b9e77', 1: '#d95f02', 2: '#7570b3'}\n",
        "\n",
        "#set up cluster names using a dict\n",
        "cluster_names = {0: 'cluster 0', \n",
        "                 1: 'cluster 1', \n",
        "                 2: 'cluster 2'}"
      ],
      "metadata": {
        "id": "Xe45coVQ4ZXi"
      },
      "execution_count": 19,
      "outputs": []
    },
    {
      "cell_type": "code",
      "source": [
        "#some ipython magic to show the matplotlib plots inline\n",
        "%matplotlib inline \n",
        "\n",
        "#create data frame that has the result of the MDS plus the cluster numbers and titles\n",
        "df_gof = pd.DataFrame(dict(x=xs, y=ys, label=clusters, name=name_gof)) \n",
        "\n",
        "#group by cluster\n",
        "groups = df_gof.groupby('label')\n",
        "\n",
        "\n",
        "# set up plot\n",
        "fig, ax = plt.subplots(figsize=(17, 9)) # set size\n",
        "ax.margins(0.05) # Optional, just adds 5% padding to the autoscaling\n",
        "\n",
        "#iterate through groups to layer the plot\n",
        "#note that I use the cluster_name and cluster_color dicts with the 'name' lookup to return the appropriate color/label\n",
        "for name, group in groups:\n",
        "    ax.plot(group.x, group.y, marker='o', linestyle='', ms=12, \n",
        "            label=cluster_names[name], color=cluster_colors[name], \n",
        "            mec='none')\n",
        "    ax.set_aspect('auto')\n",
        "    ax.tick_params(\\\n",
        "        axis= 'x',          # changes apply to the x-axis\n",
        "        which='both',      # both major and minor ticks are affected\n",
        "        bottom='off',      # ticks along the bottom edge are off\n",
        "        top='off',         # ticks along the top edge are off\n",
        "        labelbottom='off')\n",
        "    ax.tick_params(\\\n",
        "        axis= 'y',         # changes apply to the y-axis\n",
        "        which='both',      # both major and minor ticks are affected\n",
        "        left='off',      # ticks along the bottom edge are off\n",
        "        top='off',         # ticks along the top edge are off\n",
        "        labelleft='off')\n",
        "    \n",
        "ax.legend(numpoints=1)  #show legend with only 1 point\n",
        "\n",
        "#add label in x,y position with the label as the film title\n",
        "for i in range(len(df_gof)):\n",
        "    ax.text(df_gof.loc[i]['x'], df_gof.loc[i]['y'], df_gof.loc[i]['name'], size=8)  \n",
        "\n",
        "    \n",
        "    \n",
        "plt.show() #show the plot\n",
        "\n",
        "#uncomment the below to save the plot if need be\n",
        "plt.savefig('clusters_small_noaxes.png', dpi=200)"
      ],
      "metadata": {
        "colab": {
          "base_uri": "https://localhost:8080/",
          "height": 558
        },
        "id": "6stGDo-K4nTN",
        "outputId": "63ad6941-ca74-4bdc-a6f7-5c2b20d98769"
      },
      "execution_count": 20,
      "outputs": [
        {
          "output_type": "display_data",
          "data": {
            "text/plain": [
              "<Figure size 1224x648 with 1 Axes>"
            ],
            "image/png": "[encoded data removed]"
          },
          "metadata": {
            "needs_background": "light"
          }
        },
        {
          "output_type": "display_data",
          "data": {
            "text/plain": [
              "<Figure size 432x288 with 0 Axes>"
            ]
          },
          "metadata": {}
        }
      ]
    },
    {
      "cell_type": "code",
      "source": [
        "plt.close()"
      ],
      "metadata": {
        "id": "a1_2JWgV5GWm"
      },
      "execution_count": 21,
      "outputs": []
    },
    {
      "cell_type": "code",
      "source": [
        "#define custom toolbar location\n",
        "class TopToolbar(mpld3.plugins.PluginBase):\n",
        "    \"\"\"Plugin for moving toolbar to top of figure\"\"\"\n",
        "\n",
        "    JAVASCRIPT = \"\"\"\n",
        "    mpld3.register_plugin(\"toptoolbar\", TopToolbar);\n",
        "    TopToolbar.prototype = Object.create(mpld3.Plugin.prototype);\n",
        "    TopToolbar.prototype.constructor = TopToolbar;\n",
        "    function TopToolbar(fig, props){\n",
        "        mpld3.Plugin.call(this, fig, props);\n",
        "    };\n",
        "\n",
        "    TopToolbar.prototype.draw = function(){\n",
        "      // the toolbar svg doesn't exist\n",
        "      // yet, so first draw it\n",
        "      this.fig.toolbar.draw();\n",
        "\n",
        "      // then change the y position to be\n",
        "      // at the top of the figure\n",
        "      this.fig.toolbar.toolbar.attr(\"x\", 150);\n",
        "      this.fig.toolbar.toolbar.attr(\"y\", 400);\n",
        "\n",
        "      // then remove the draw function,\n",
        "      // so that it is not called again\n",
        "      this.fig.toolbar.draw = function() {}\n",
        "    }\n",
        "    \"\"\"\n",
        "    def __init__(self):\n",
        "        self.dict_ = {\"type\": \"toptoolbar\"}"
      ],
      "metadata": {
        "id": "quBGtuQa5LY1"
      },
      "execution_count": 22,
      "outputs": []
    },
    {
      "cell_type": "code",
      "source": [
        "#create data frame that has the result of the MDS plus the cluster numbers and titles\n",
        "df_gof = pd.DataFrame(dict(x=xs, y=ys, label=clusters, name=name_gof)) \n",
        "\n",
        "#group by cluster\n",
        "groups = df_gof.groupby('label')\n",
        "\n",
        "#define custom css to format the font and to remove the axis labeling\n",
        "css = \"\"\"\n",
        "text.mpld3-text, div.mpld3-tooltip {\n",
        "  font-family:Arial, Helvetica, sans-serif;\n",
        "}\n",
        "\n",
        "g.mpld3-xaxis, g.mpld3-yaxis {\n",
        "display: none; }\n",
        "\n",
        "svg.mpld3-figure {\n",
        "margin-left: -200px;}\n",
        "\"\"\"\n",
        "\n",
        "# Plot \n",
        "fig, ax = plt.subplots(figsize=(14,6)) #set plot size\n",
        "ax.margins(0.03) # Optional, just adds 5% padding to the autoscaling\n",
        "\n",
        "#iterate through groups to layer the plot\n",
        "#note that I use the cluster_name and cluster_color dicts with the 'name' lookup to return the appropriate color/label\n",
        "for name, group in groups:\n",
        "    points = ax.plot(group.x, group.y, marker='o', linestyle='', ms=18, \n",
        "                     label=cluster_names[name], mec='none', \n",
        "                     color=cluster_colors[name])\n",
        "    ax.set_aspect('auto')\n",
        "    labels = [i for i in group.name]\n",
        "    \n",
        "    #set tooltip using points, labels and the already defined 'css'\n",
        "    tooltip = mpld3.plugins.PointHTMLTooltip(points[0], labels,\n",
        "                                       voffset=10, hoffset=10, css=css)\n",
        "    #connect tooltip to fig\n",
        "    mpld3.plugins.connect(fig, tooltip, TopToolbar())    \n",
        "    \n",
        "    #set tick marks as blank\n",
        "    ax.axes.get_xaxis().set_ticks([])\n",
        "    ax.axes.get_yaxis().set_ticks([])\n",
        "    \n",
        "    #set axis as blank\n",
        "    ax.axes.get_xaxis().set_visible(False)\n",
        "    ax.axes.get_yaxis().set_visible(False)\n",
        "\n",
        "    \n",
        "ax.legend(numpoints=1) #show legend with only one dot\n",
        "\n",
        "mpld3.display() #show the plot\n",
        "\n",
        "#uncomment the below to export to html\n",
        "html = mpld3.fig_to_html(fig)\n",
        "#print(html)"
      ],
      "metadata": {
        "id": "fnp-5-L55MxE"
      },
      "execution_count": 23,
      "outputs": []
    },
    {
      "cell_type": "code",
      "source": [
        "from scipy.cluster.hierarchy import ward, dendrogram\n",
        "\n",
        "linkage_matrix = ward(dist) #define the linkage_matrix using ward clustering pre-computed distances\n",
        "\n",
        "fig, ax = plt.subplots(figsize=(15, 20)) # set size\n",
        "ax = dendrogram(linkage_matrix, orientation=\"right\", labels=name_gof);\n",
        "\n",
        "plt.tick_params(\\\n",
        "    axis= 'x',          # changes apply to the x-axis\n",
        "    which='both',      # both major and minor ticks are affected\n",
        "    bottom='off',      # ticks along the bottom edge are off\n",
        "    top='off',         # ticks along the top edge are off\n",
        "    labelbottom='off')\n",
        "\n",
        "plt.tight_layout() #show plot with tight layout\n",
        "\n",
        "#uncomment below to save figure\n",
        "plt.savefig('ward_clusters.png', dpi=200) #save figure as ward_clusters"
      ],
      "metadata": {
        "colab": {
          "base_uri": "https://localhost:8080/",
          "height": 1000
        },
        "id": "08PYO-gJ5eu5",
        "outputId": "d2c1c477-111b-44ca-cb20-3c6da2890edd"
      },
      "execution_count": 24,
      "outputs": [
        {
          "output_type": "display_data",
          "data": {
            "text/plain": [
              "<Figure size 1080x1440 with 1 Axes>"
            ],
            "image/png": "[encoded data removed]"
          },
          "metadata": {
            "needs_background": "light"
          }
        }
      ]
    },
    {
      "cell_type": "code",
      "source": [
        "plt.close()"
      ],
      "metadata": {
        "id": "8n5UxxSl5oSc"
      },
      "execution_count": 25,
      "outputs": []
    },
    {
      "cell_type": "code",
      "source": [
        "#strip any proper names from a text...unfortunately right now this is yanking the first word from a sentence too.\n",
        "import string\n",
        "def strip_proppers(text):\n",
        "    # first tokenize by sentence, then by word to ensure that punctuation is caught as it's own token\n",
        "    tokens = [word for sent in nltk.sent_tokenize(text) for word in nltk.word_tokenize(sent) if word.islower()]\n",
        "    return \"\".join([\" \"+i if not i.startswith(\"'\") and i not in string.punctuation else i for i in tokens]).strip()"
      ],
      "metadata": {
        "id": "327RnS2N5slC"
      },
      "execution_count": 26,
      "outputs": []
    },
    {
      "cell_type": "code",
      "source": [
        "#strip any proper nouns (NNP) or plural proper nouns (NNPS) from a text\n",
        "from nltk.tag import pos_tag\n",
        "\n",
        "def strip_proppers_POS(text):\n",
        "    tagged = pos_tag(text.split()) #use NLTK's part of speech tagger\n",
        "    non_propernouns = [word for word,pos in tagged if pos != 'NNP' and pos != 'NNPS']\n",
        "    return non_propernouns"
      ],
      "metadata": {
        "id": "lhcDm8Nv5uk8"
      },
      "execution_count": 27,
      "outputs": []
    },
    {
      "cell_type": "code",
      "source": [
        "from gensim import corpora, models, similarities \n",
        "\n",
        "#remove proper names\n",
        "%time preprocess = [strip_proppers(doc) for doc in overview_gof]\n",
        "\n",
        "#tokenize\n",
        "%time tokenized_text = [tokenize_and_stem(text) for text in preprocess]\n",
        "\n",
        "#remove stop words\n",
        "%time texts = [[word for word in text if word not in stopwords] for text in tokenized_text]"
      ],
      "metadata": {
        "colab": {
          "base_uri": "https://localhost:8080/"
        },
        "id": "8tAh54Zm5xXp",
        "outputId": "da8f7647-130b-49dc-d8f4-96c6429d73f4"
      },
      "execution_count": 28,
      "outputs": [
        {
          "output_type": "stream",
          "name": "stdout",
          "text": [
            "CPU times: user 91.3 ms, sys: 96 µs, total: 91.4 ms\n",
            "Wall time: 101 ms\n",
            "CPU times: user 144 ms, sys: 210 µs, total: 144 ms\n",
            "Wall time: 180 ms\n",
            "CPU times: user 17.1 ms, sys: 0 ns, total: 17.1 ms\n",
            "Wall time: 17.3 ms\n"
          ]
        }
      ]
    },
    {
      "cell_type": "code",
      "source": [
        "#create a Gensim dictionary from the texts\n",
        "dictionary = corpora.Dictionary(texts)\n",
        "\n",
        "#remove extremes (similar to the min/max df step used when creating the tf-idf matrix)\n",
        "dictionary.filter_extremes(no_below=1, no_above=0.8)\n",
        "\n",
        "#convert the dictionary to a bag of words corpus for reference\n",
        "corpus = [dictionary.doc2bow(text) for text in texts]"
      ],
      "metadata": {
        "id": "lKdpIj0o57dQ"
      },
      "execution_count": 29,
      "outputs": []
    },
    {
      "cell_type": "code",
      "source": [
        "%time lda = models.LdaModel(corpus, num_topics=3, id2word=dictionary, update_every=5, chunksize=10000, passes=100)"
      ],
      "metadata": {
        "colab": {
          "base_uri": "https://localhost:8080/"
        },
        "id": "ijw-yH9r587O",
        "outputId": "3bc423c5-b44f-4814-faa3-bd4736476141"
      },
      "execution_count": 30,
      "outputs": [
        {
          "output_type": "stream",
          "name": "stdout",
          "text": [
            "CPU times: user 3.83 s, sys: 20 ms, total: 3.85 s\n",
            "Wall time: 5 s\n"
          ]
        }
      ]
    },
    {
      "cell_type": "code",
      "source": [
        "lda.show_topics()"
      ],
      "metadata": {
        "colab": {
          "base_uri": "https://localhost:8080/"
        },
        "id": "TZnaY9_L6N-t",
        "outputId": "8903d9f6-4edf-4ac5-ab28-c06d54d888d6"
      },
      "execution_count": 31,
      "outputs": [
        {
          "output_type": "execute_result",
          "data": {
            "text/plain": [
              "[(0,\n",
              "  '0.024*\"behavior\" + 0.016*\"algorithm\" + 0.015*\"process\" + 0.015*\"class\" + 0.013*\"state\" + 0.011*\"command\" + 0.011*\"subclass\" + 0.009*\"chang\" + 0.009*\"handl\" + 0.009*\"proxi\"'),\n",
              " (1,\n",
              "  '0.047*\"class\" + 0.025*\"interfac\" + 0.020*\"creat\" + 0.015*\"implement\" + 0.012*\"method\" + 0.012*\"client\" + 0.012*\"factori\" + 0.011*\"subclass\" + 0.011*\"abstract\" + 0.010*\"want\"'),\n",
              " (2,\n",
              "  '0.022*\"composit\" + 0.022*\"class\" + 0.015*\"creat\" + 0.013*\"construct\" + 0.012*\"product\" + 0.011*\"structur\" + 0.011*\"client\" + 0.011*\"concret\" + 0.011*\"abstract\" + 0.011*\"factori\"')]"
            ]
          },
          "metadata": {},
          "execution_count": 31
        }
      ]
    },
    {
      "cell_type": "code",
      "source": [
        "topics_matrix = lda.show_topics(formatted=False, num_words=20)\n",
        "topics_matrix = np.array(topics_matrix)\n",
        "\n",
        "topic_words = topics_matrix[:,1]\n",
        "for i in topic_words:\n",
        "    print([str(word) for word in i])\n",
        "    print()"
      ],
      "metadata": {
        "colab": {
          "base_uri": "https://localhost:8080/"
        },
        "id": "dFOyB2dC6RKk",
        "outputId": "48c2f9e1-7c44-44b3-8d5d-95b1bc191811"
      },
      "execution_count": 32,
      "outputs": [
        {
          "output_type": "stream",
          "name": "stdout",
          "text": [
            "[\"('behavior', 0.023557914)\", \"('algorithm', 0.016454233)\", \"('process', 0.014694589)\", \"('class', 0.0146185085)\", \"('state', 0.0129636545)\", \"('command', 0.011213214)\", \"('subclass', 0.0111442255)\", \"('chang', 0.009404972)\", \"('handl', 0.009404646)\", \"('proxi', 0.009391743)\", \"('set', 0.0076656607)\", \"('illustr', 0.0076590353)\", \"('request', 0.007656129)\", \"('applic', 0.0076418626)\", \"('part', 0.0076401676)\", \"('differ', 0.0076398845)\", \"('without', 0.007633764)\", \"('depend', 0.0058881114)\", \"('figur', 0.0058872714)\", \"('certain', 0.0058769463)\"]\n",
            "\n",
            "[\"('class', 0.047013357)\", \"('interfac', 0.02541809)\", \"('creat', 0.02038865)\", \"('implement', 0.014631389)\", \"('method', 0.012477495)\", \"('client', 0.011750756)\", \"('factori', 0.011748105)\", \"('subclass', 0.011032192)\", \"('abstract', 0.011025673)\", \"('want', 0.010313313)\", \"('instanc', 0.010310262)\", \"('becaus', 0.009594341)\", \"('provid', 0.009591084)\", \"('one', 0.009585794)\", \"('new', 0.008874295)\", \"('subsystem', 0.00887085)\", \"('without', 0.008870784)\", \"('chang', 0.008864904)\", \"('code', 0.008155899)\", \"('need', 0.0074321576)\"]\n",
            "\n",
            "[\"('composit', 0.021618882)\", \"('class', 0.021615839)\", \"('creat', 0.0145097645)\", \"('construct', 0.012734703)\", \"('product', 0.011846785)\", \"('structur', 0.010968034)\", \"('client', 0.010966049)\", \"('concret', 0.010959048)\", \"('abstract', 0.0109586865)\", \"('factori', 0.010954805)\", \"('interfac', 0.010949911)\", \"('implement', 0.010070458)\", \"('travers', 0.0100666685)\", \"('would', 0.009192353)\", \"('allow', 0.009186505)\", \"('complex', 0.009184787)\", \"('one', 0.008292721)\", \"('share', 0.008290153)\", \"('onli', 0.0074103526)\", \"('system', 0.007409127)\"]\n",
            "\n"
          ]
        },
        {
          "output_type": "stream",
          "name": "stderr",
          "text": [
            "<ipython-input-32-37f9c4e5b9d9>:2: VisibleDeprecationWarning: Creating an ndarray from ragged nested sequences (which is a list-or-tuple of lists-or-tuples-or ndarrays with different lengths or shapes) is deprecated. If you meant to do this, you must specify 'dtype=object' when creating the ndarray.\n",
            "  topics_matrix = np.array(topics_matrix)\n"
          ]
        }
      ]
    },
    {
      "cell_type": "code",
      "source": [
        "# from Jonathan\n",
        "print(df_gof.sort_values(by=['label', 'name']))"
      ],
      "metadata": {
        "colab": {
          "base_uri": "https://localhost:8080/"
        },
        "id": "1Q1DQt6Ke84T",
        "outputId": "3009ecfa-000f-4c90-cde0-7753b7fc24e3"
      },
      "execution_count": 33,
      "outputs": [
        {
          "output_type": "stream",
          "name": "stdout",
          "text": [
            "           x         y  label                          name\n",
            "0  -0.329142 -0.289519      0      abstract_factory_pattern\n",
            "6  -0.546816 -0.211824      0               adapter_pattern\n",
            "9  -0.381166 -0.434520      0                bridge_pattern\n",
            "7  -0.237041 -0.444265      0               builder_pattern\n",
            "18  0.216195 -0.559986      0       chain_of_responsibility\n",
            "16  0.069351  0.244651      0               command_pattern\n",
            "1   0.172500 -0.285986      0             decorator_pattern\n",
            "2  -0.546818 -0.033578      0                facade_pattern\n",
            "4  -0.249383 -0.082289      0        factory_method_pattern\n",
            "13 -0.187561  0.637584      0           interpreter_pattern\n",
            "5  -0.118680 -0.189399      0             prototype_pattern\n",
            "11  0.235467  0.070209      0                 proxy_pattern\n",
            "8   0.360880 -0.351740      0             singleton_pattern\n",
            "22  0.119331  0.485663      0              strategy_pattern\n",
            "20 -0.149669  0.401564      0              template_pattern\n",
            "10  0.527320 -0.134474      1             flyweight_pattern\n",
            "14  0.005977 -0.629707      1              iterator_pattern\n",
            "17  0.316579  0.555433      1              mediator_pattern\n",
            "12  0.694590  0.020315      1               memento_pattern\n",
            "15  0.466839  0.307650      1              observer_pattern\n",
            "19  0.665058  0.184354      1                 state_pattern\n",
            "3  -0.558665  0.319086      2             composite_pattern\n",
            "21 -0.545144  0.420777      2  hierarchical_visitor_pattern\n"
          ]
        }
      ]
    },
    {
      "cell_type": "code",
      "source": [
        "# from Jonathan\n",
        "from collections import Counter\n",
        "patterns_gof_frame = pd.DataFrame(patterns_gof.items())\n",
        "print(patterns_gof)\n",
        "print(patterns_gof_frame)\n",
        "patterns_gof_frame.iloc[:5].loc[:, 'overview':].agg(' '.join, axis=1).apply(lambda x: display(Counter(x.split()).most_common(8)))"
      ],
      "metadata": {
        "colab": {
          "base_uri": "https://localhost:8080/",
          "height": 904
        },
        "id": "M-tUO3gHbmEc",
        "outputId": "1007a4ae-0f24-4b3a-82cc-cd5df6cf49b1"
      },
      "execution_count": 34,
      "outputs": [
        {
          "output_type": "stream",
          "name": "stdout",
          "text": [
            "{'id': array(['91', '92', '93', '94', '95', '96', '97', '98', '99', '100', '101',\n",
            "       '102', '103', '104', '105', '106', '107', '108', '109', '110',\n",
            "       '112', '113', '114'], dtype='<U4332'), 'cat': array(['0', '0', '0', '0', '0', '0', '0', '0', '0', '0', '0', '0', '0',\n",
            "       '0', '0', '0', '0', '0', '0', '0', '0', '0', '0'], dtype='<U4332'), 'name': array(['abstract_factory_pattern', 'decorator_pattern', 'facade_pattern',\n",
            "       'composite_pattern', 'factory_method_pattern', 'prototype_pattern',\n",
            "       'adapter_pattern', 'builder_pattern', 'singleton_pattern',\n",
            "       'bridge_pattern', 'flyweight_pattern', 'proxy_pattern',\n",
            "       'memento_pattern', 'interpreter_pattern', 'iterator_pattern',\n",
            "       'observer_pattern', 'command_pattern', 'mediator_pattern',\n",
            "       'chain_of_responsibility', 'state_pattern', 'template_pattern',\n",
            "       'hierarchical_visitor_pattern', 'strategy_pattern'], dtype='<U4332'), 'overview': array(['\\nQuestion:What is the abstract factory pattern?\\nAnswer: A factory pattern in which the factory class is abstract so that its implementation can be given as per requirement. \\r\\nThis pattern provids an interface for creating families of related or dependent objects without specifying their concrete classes.\\r\\nGiven a set of related abstract classes, the Abstract Factory pattern provides a way to create instances of those abstract classes from a matched set of concerte subclases. The \"Abstract Factory\" pattern provides an abstract class that determines the appropriate concrete class to instantiate to create a set of concrete products that implement a standard interface. \\r\\nThe client interacts only with the product interfaces and the Abstract Factory class. The client never knows about the concrete construction classes provided by this pattern. \\r\\nThe Abstract Factory pattern is similar to the Factory Method pattern, except it creates families of related objects.\\r\\n\\r\\nThe following lists the benefits of using the Abstract Factory pattern:\\r\\n\\nIsolates concrete classes.\\nMakes exchanging product families easy.\\nPromotes consistency among products.\\n\\n\\r\\nYou should use the Abstract Factory pattern when:\\r\\n\\nThe system should be independent of how its prodcuts are created, composed, and represented.\\nThe system should be configured with one of multiple families of products  a) MS Windows or b) Apple Macintosh\\nThe family of related product objects is designed to be used together, and you must enforce this constraint. \\tThis is the key point of the pattern, otherwise you could use a Factory Pattern.\\n\\nGang of Four Patterns\\n\\nA realization is a semantic relationship between classifiers, where one classifier specifies a contract that another classifier guarantees to carry out.\\nGeneralization relationship is an association with a small triangle next to the class being inherited from whereas an aggregation relationship is an association with a diamond next to the class representing the aggregate. \\n\\n\\r\\nThe abstract factory pattern is a software design pattern that provides a way to encapsulate a group of individual factories that have a common theme. In normal usage, the client software creates a concrete implementation of the abstract factory and then uses the generic interfaces to create the concrete objects that are part of the theme. The client does not know (or care) which concrete objects it gets from each of these internal factories, since it uses only the generic interfaces of their products. \\r\\nThis pattern separates the details of implementation of a set of objects from their general usage. \\r\\nAn example of this would be an abstract factory class DocumentCreator that provides interfaces to create a number of products  (e.g. createLetter() and createResume()). The system would have any number of derived concrete versions of the DocumentCreator class like FancyDocumentCreator or ModernDocumentCreator, each with a different implementation of createLetter() and createResume() that would create a corresponding object like FancyLetter or ModernResume. \\r\\nEach of these products is derived from a simple abstract class like Letter or Resume of which the client is aware. The client code would get an appropriate instance of the DocumentCreator and call its factory methods. Each of the resulting objects would be created from the same DocumentCreator implementation and would share a common theme (they would all be fancy or modern objects). The client would need to know how to handle only the abstract Letter or Resume class, not the specific version that it got from the concrete factory.\\r\\n\\r\\nA factory is the location or a concrete class in the code at which objects are constructed. \\r\\nThe intent in employing the pattern is to insulate the creation of objects from their usage. \\r\\nThis allows for new derived types to be introduced with no change to the code that uses the base class. \\r\\nUse of this pattern makes it possible to interchange concrete implementations without changing the code that uses them, even at runtime.\\r\\nHowever, employment of this pattern, as with similar design patterns, may result in unnecessary complexity and extra work in the initial writing of code. Used correctly the \"extra work\" pays off in the second implementation of the factory.\\r\\nClassic Computer Science Problems\\n\\n\\n\\n\\n\\n\\n',\n",
            "       \"The Decorator pattern enables you to add or remove object functionality without changing the external appearance or function of  the object.  It changes the functionality of an object in a way that is transparent to its clients by using an instance of a subclass of the original class that delegates operations to the original object.\\r\\nThe Decorator pattern attaches additional responsibilities to an object dynamically to provide a flexible alternative to changing object functionality without using static inheritance\\r\\n\\r\\nThe following lists the benefits of using the Decorator pattern:\\r\\n\\nMore flexibility than static inheritance.\\nAvoids feature-laden  classes high up in the hierarchy \\nSimplifies coding because you write a series of classes, each targeted at a specific part of the functionality, rather than coding all behavior into the object\\nEnhances the object's extensibility because you make changes by coding new classes.\\n\\n\\r\\nYou should use the Decorator pattern when:\\r\\n\\nYou want to add responsibilities to individual objects dynamically  and transparently, that is without affecting other objects \\nYou want to add responsibilities to the object that you want to change in the future\\nWhen extension by static sub-classing is impractical.\\n\\nSeptember 23, 2020\",\n",
            "       '\\r\\nThe Facade pattern provides a unified interface to a group of interfaces in a subsystem.  \\r\\nThe Facade pattern defines a higher-level interface that makes the subsystem easier to use because you have only one interface. \\r\\nThis unified interface enables an object to access the subsystem using the interface to communicate with the subsystem. \\r\\nThe figure below illustrates the Facade pattern.\\r\\n\\r\\nThe following lists the benefits of using the facade pattern.\\r\\n\\nProvides a simple interface to a complex system without reducing the options provided by the system.\\nShields clients from subsystem components.\\nPromotes weak coupling between the subsystem and its clients.\\nReduces coupling between subsystems if every subsystem uses its own Facade pattern and other parts of the system use the \\r\\nFacade pattern to communicate with the subsystem.\\nTranslates the client requests to the subsystems that can fulfill those requests.\\n\\nFacade Pattern Code\\r\\nYou should use the Facade pattern when:\\r\\n\\nYou want to provide a simple interface to a complex subsystem.\\nThere are many dependencies between clients and implementation classes of an abstraction.\\nYou want to layer your subsystems.\\n\\n\\n\\n\\n\\n\\n\\n\\n',\n",
            "       '\\r\\nThe Composite pattern enables you to create hierarchical tree structures of varying complexity, while allowing every element in the structure to operate with a uniform interface. The Composite pattern combines objects into tree structures to represent either the whole hierarchy or a part of the hierarchy. This means the Composite pattern allows clients to treat individual objects and compositions of objects uniformly. The figure below illustrates the Composite pattern.\\r\\n\\r\\nFurthermore, the composite pattern is a partitioning design pattern. The composite pattern describes that a group of objects are to be treated in the same way as a single instance of an object. \\r\\nThe intent of a composite is to \"compose\" objects into tree structures to represent part-whole hierarchies. Implementing the composite pattern lets clients treat individual objects and compositions uniformly.\\r\\n\\r\\nWhen dealing with Tree-structured data, programmers often have to discriminate between a leaf-node and a branch. The solution is an interface that allows treating complex and primitive objects uniformly. \\r\\nIn object-oriented programming,  a composite is an object designed as a composition of one-or-more similar objects,  all exhibiting similar functionality. \\r\\n\\r\\nThis is known as a \"has-a\" relationship between objects. \\r\\nThe key concept is that you can manipulate a single instance of the object just as you would manipulate a group of  them. The operations you can perform on all the composite objects often have a least common denominator relationship. \\r\\nFor example, if defining a system to portray grouped shapes on a screen, it would be useful to define resizing a group of shapes  to have the same effect (in some sense) as resizing a single shape.\\r\\n\\r\\nThe following lists the benefits of using the Composite pattern:\\r\\n\\nDefines class hierarchies consisting of primitive objects and composite objects\\nMakes it easier to add new kinds of components\\nProvides flexibility of structure and a manageable interface\\n\\n\\r\\nYou should use the Composite pattern when:\\r\\n\\nYou want to represent the whole hierarchy or part of the hierarchy of objects.\\nYou want clients to be able to ignore the difference between compositions of objects and individual objects.\\nThe structure can have any level of complexity, and is dynamic.\\n\\n\\n\\n\\n\\n\\n\\n\\n',\n",
            "       \"\\r\\nIn a factory pattern, a concrete class with static methods is used to create instances of objects that implement an interface.\\r\\n\\r\\nThe Factory Method pattern defines an interface for creating an object, but lets the subclasses decide which class to instantiate. The Factory method lets a class defer instantiation to subclasses, which is useful for constructing individual objects for a specific purpose without the requestor \\r\\nknowing the specific class being instantiated.  This allows you to introduce new classes without modifying the code because the new class implements only the interface so it can be used by the client. \\r\\nYou create a new factory class to create the new class and the factory class implements the factory interface.\\r\\n\\r\\nThe following lists the benefits of using the Factory Method pattern.\\r\\n\\nEliminates the need to bind application classes into your code. The code deals only with the interface, so you can work with any classes that implement that interface.\\nEnables the subclasses to provide an extended version of an object,  because creating an object inside a class is more flexible than creating the object directly in the client.\\n\\nYou should use the Factory method pattern when: \\r\\n\\nA class cannot anticipate the class of objects it must create.\\nA class wants its subclasses to specify the objects it creates.\\nClasses delegate responsibility to one of several helper subclasses, and you want to localize the knowledge of which helper subclass is the delegate.\\r\\n\\n\\n\\r\\n The factory method pattern is an object-oriented creational design pattern to implement the concept of factories and deals with the problem of creating objects (products) without specifying the exact class of object that will be created. The essence of this pattern is to\\r\\n\\r\\nDefine an interface for creating an object, but let the classes that implement the interface decide which class to instantiate. \\r\\nThe Factory method lets a class defer instantiation to subclasses.\\r\\n\\n\\r\\nCreating an object often requires complex processes not appropriate to include within a composing object. \\r\\nThe object's creation may lead to a significant duplication of code, may require information not accessible to the composing object, may not provide a sufficient level of abstraction, or may otherwise not be part of the composing object's concerns. \\r\\nThe factory method design pattern handles these problems by defining a separate method for creating the objects,  which subclasses can then override to specify the derived type of product that will be created. \\r\\nSome of the processes required in the creation of an object include determining which object to create, managing the lifetime of the object, and managing specialized build-up and tear-down concerns of the object. Outside the scope of design patterns, \\r\\nthe term factory method can also refer to a method of a factory whose main purpose is creation of objects. The factory method pattern relies on inheritance, as object creation is delegated to subclasses that implement the factory method to create objects. \\r\\n\\r\\nThe Factory Method is related to the idea on which libraries work because  library uses abstract classes for defining and maintaining relations between objects. One type of responsibility is creating such objects. The library knows when an object needs to be created, but not what kind of object it should create, this being specific to the application using the library. \\r\\nThe Factory method works the same way because it defines an interface for creating an object, but leaves the choice of its type to the subclasses.  \\r\\nA simple real life example of the Factory Method is the hotel. When staying in a hotel you first have to check in. The person working at the front desk will give you a key to your room after you have paid for the room you want.\\r\\n\\r\\nThis room can be conceived as a room factory.  While staying at the hotel, you might need to make a phone call, so you call the front desk and the person there will connect you with the number you need, \\r\\nbecoming a phone-call factory, because he controls the access to calls. \\r\\n\\n\\n\\n\\n\\n\\n\\n\",\n",
            "       '\\r\\nThe Prototype pattern allows an object to create customized objects without knowing their exact class or the details of how to create them.It specifies the kinds of objects to create using a prototypical instance, and creates new objects by copying this prototype.  The Prototype pattern works by giving prototypical objects to an object and then initiates the creation of objects. The creation-initiating object then creates objects by asking the prototypical objects to make copies of themselves. \\r\\nThe Prototype pattern makes creating objects dynamically easier by defining classes whose objects can duplicate themselves.\\r\\n\\r\\nThe following lists the benefits of using the Prototype pattern:\\r\\n\\nAdding and removing products at run time.\\nSpecifying new objects by varying values.\\nSpecifying new objects by varying structure\\nReduced subclassing\\nConfiguring an application with classes dynamically\\n\\n\\n\\nThe classes to instantiate are specified at run time, for example, by dynamic loading.\\nTo avoid building a class hierarchy of factories that parallels the class hierarchy of products\\nWhen instances of a class can have one of only a few different combinations of state\\n\\n\\r\\nThe prototype pattern is a creational design pattern used in software development when the type of objects to create \\r\\nis determined by a prototypical instance, which is cloned to produce new objects. This pattern is used to: \\r\\n\\navoid subclasses of an object creator in the client application, like the abstract factory pattern does.\\navoid the inherent cost of creating a new object in the standard way (e.g., using the \\'new\\' keyword) when it \\r\\n    is prohibitively expensive for a given application.\\r\\n\\t\\n\\n\\r\\nTo implement the pattern, declare an abstract base class that specifies a pure virtual clone() method. \\r\\nAny class that needs a \"polymorphic constructor\" capability derives itself from the abstract base class, and implements the clone() operation.\\r\\nThe client, instead of writing code that invokes the \"new\" operator on a hard-coded class name, \\r\\ncalls the clone() method on the prototype, calls a factory method with a parameter designating the particular concrete derived class desired, or invokes the clone() method through \\r\\nsome mechanism provided by another design pattern.\\r\\n\\n\\n\\n\\n\\n\\n\\n',\n",
            "       \"\\r\\nThe Adapter pattern acts as an intermediary between two classes, converting the interface of one class so that it can be used with the other. \\r\\nThis enables classes with incompatible interfaces to work together. \\r\\nThe Adapter pattern implements an interface known to its clients and provides access to an instance of a class not known to its clients. \\r\\nAn adapter object provides the functionality of an interface without having to know the class used to implement that interace.\\r\\n\\r\\nThe following lists the benefits of using the Adapter pattern:\\r\\n\\nAllows two or more incompatible objects to communicate and interact\\nImproves resuability of older functionality\\n\\n\\nYou want to use an existing class, and its interface does not match the interface you need.\\nYou want to create a reusable class that cooperates with unrelated or unforesen classes,  that is, classes that do not necessarily have compatible interfaces.\\nYou want to use an object in an environment that expects an interface that is different from the object's interface.\\nInterface translation among multiple sources must occur.\\n\\r\\nIn computer programming, the adapter pattern (often referred to as the wrapper pattern or simply a wrapper) is a design pattern that translates one interface for a class into a compatible interface. \\r\\nAn adapter allows classes to work together that normally could not because of incompatible interfaces, by providing its interface to clients while using the original interface. \\r\\nThe adapter translates calls to its interface into calls to the original interface,  and the amount of code necessary to do this is typically small. \\r\\nThe adapter is also responsible for transforming data into appropriate forms. For instance, if multiple boolean values are stored as a single integer (i.e. flags) but your client requires a 'true'/'false', \\r\\nthe adapter would be responsible for extracting the appropriate values from the integer value. \\r\\n Another example is transforming the format of dates (i.e. YYYYMMDD to MM/DD/YYYY or DD/MM/YYYY).\\r\\n\\n\\n\\n\\n\\n\\n\\n\",\n",
            "       '\\r\\nThe Builder pattern separates the construction of a complex object from its representation so the same construction process can create different objects. The Builder pattern allows a client object to construct a complex object by specifying only its type and content. The client is shielded from the details of the object\\'s construction. This simplifies the creation of complex objects by defining a class that builds instances of another class. \\r\\nThe Builder pattern produces one main product and there might be more than one class in the product, but there is always one main class. When you use the Builder pattern, you create the complex objects one step at a time.\\r\\nOther patterns build the object in a single step.\\r\\n\\r\\nThe following lists the benefits of using the Builder pattern:\\r\\n\\nAllows you to vary a product\\'s internal representation. Isolates code for construction and representation.Gives you greater control over the construction process.\\n\\n\\r\\nYou should use the Builder pattern when:\\r\\n\\nThe algorithm for creating a complex object should be independent of both the parts that make up the objects and how these parts are assembled.\\nThe construction process must allow different representations of the constructed object.\\n\\n\\r\\nThe \"Builder\" pattern is an object creation software design pattern.  The intention is to abstract the steps of construction so that different implementations of these steps can construct different representations of objects. Often, the builder pattern is used to build products in accordance with the composite pattern.\\r\\nThe intent of the Builder design pattern is to separate the construction of a complex object from its representation. By doing so, the same construction process can create different representations.\\r\\n\\r\\nThe builder is an abstract interface for creating objects.\\r\\nGang of Four Patterns\\n\\n\\n\\n\\n\\n\\n',\n",
            "       'The Singleton pattern ensures that a class has only one instance, and provides a global point of access to that class. It ensures that all objects that use an instance of this class use the same instance.\\r\\n\\r\\nThe figure below discusses the Singleton pattern.\\r\\nThe following lists the benefits of using the Singleton pattern:\\r\\n\\nControlled access to sole instance.\\nReduced name space.\\nPermits refinement of operations and representation.\\nPermits a variable number of instances.\\nMore flexible than class operations.\\n\\nYou should use the Singleton pattern when: There must be exactly one instance of a class. \\r\\nIn software engineering, the Singleton Pattern is a design pattern that restricts the instantiation of a class to one object. This is useful when exactly one object is needed to coordinate actions across the system. \\r\\nThe concept is sometimes generalized to systems that operate more efficiently when only one object exists, or that restrict the instantiation to a certain number of objects. \\r\\n\\r\\nThe term comes from the mathematical concept of a singleton.\\r\\nThere is criticism of the use of the singleton pattern, as some consider it an anti-pattern,  judging that it is overused, introduces unnecessary restrictions in situations where a sole instance of a class is not actually required, \\r\\nand introduces global state into an application.  In C++ it also serves to isolate from the unpredictability of the order of dynamic initialization, returning control to the programmer. \\nModeling Aggregation and Composition\\n\\n\\n\\n\\n\\n\\n\\n',\n",
            "       'Divide a complex component into 2 separate but related inheritance hierarchies.\\r\\n\\nRefined Abstraction \\nImplementor is an abstract class that inherits the 2 classes Concrete Implementor A,B \\n\\n\\n\\n\\n\\n Implementor is an abstract class that inherits the 2 classes Concrete Implementor A,B\\n\\nBridge Pattern Code\\n\\n\\nWhen To Use:\\nYou should use the Bridge pattern when:\\r\\n\\nYou want to avoid a  permanent binding between an abstraction and its implementation\\nBoth the abstractions and their implementations should be extensible using subclasses.\\nChanges in the implementation of an abstraction should have no impact on clients; that is, you should not have to recompile their code.\\n\\n\\nBenefits of the Bridge Pattern:\\n\\nEnables you to separate the interface from the implementation\\nImproves extensibility\\nHides implementation details from clients\\n\\n\\r\\nThe bridge pattern is a design pattern used in software engineering which is meant to \"decouple an abstraction from its implementation so that \\r\\n\\na) decoupling and  \\nb) abstraction can vary independently.\\n\\r\\nThe bridge uses encapsulation, aggregation, and can use inheritance to separate responsibilities into different classes.\\r\\n\\r\\nWhen a class varies often, the features of object-oriented programming become very useful because changes to a program\\'s code can be made easily with minimal prior knowledge about the program. The bridge pattern is useful when both the class as well as what it does vary often. \\r\\n\\r\\nThe 1) class itself can be thought of as the implementation and 2) what the class can do as the abstraction. \\r\\nThe bridge pattern can also be thought of as two layers of abstraction.',\n",
            "       'The Flyweight pattern reduces the number of low-level,  detailed objects within a system by sharing objects.\\r\\nIf instances of a class that contain the same information can be used interchangeably,  the Flyweight pattern allows a program to avoid the expense of multiple instances that contain the same information by sharing one instance. The figure below illustrates the Flyweight pattern.\\r\\n\\r\\nThe Flyweight pattern defines a structure for sharing objects.  Objects are shared for at least two reasons: 1) efficiency and 2) consistency. The Flyweight pattern focuses on sharing for space efficiency.  Applications that use lots of objects must pay careful attention to the cost of each object. Substantial savings can be achieved by sharing objects instead of replicating them.  \\r\\nBut objects can be shared only if they do not define context-dependent state. \\r\\nFlyweight objects have no such state. Any additional information they need to perform their task is passed to them when needed. \\r\\nBecause they have no context-dependent state, Flyweight objects may be shared freely.\\r\\n\\r\\nThe following lists the benefits of using the Flyweight pattern:\\r\\n\\nReduction in the number of objects to handle\\nReduction in memory and on storage devices, if the objects are persisted\\n\\n\\r\\nYou should use the Flyweight pattern when all of the following are  true.\\r\\n\\nThe application uses a large number of objects.\\nStorage costs are high because of the quantity of objects.\\nThe application does not depend on object identity.',\n",
            "       \"\\r\\nThe Proxy pattern provides a surrogate or placeholder object to control access to the original object.\\r\\nThere are several types of implementations of the Proxy pattern with the\\r\\n\\nRemote proxy and\\nVirtual proxy\\r\\nbeing the most common.\\r\\n \\r\\nThe figure below illustrates the Proxy pattern.\\r\\n\\r\\nYou are currently designing your own Desktop Publishing application, as you have not found any that do exactly what you want with existing applications. \\r\\nAs part of the design you are using a Controller to which you send all GUI requests.\\r\\nNot all objects can process the same commands. For example you cannot select the spell check tool when an image has the focus. \\r\\nTo stop any possible errors you would like to filter out some of the messages as they are passed from these objects to the Controller object. What pattern could you use?\\r\\nIn this scenario what you are essentially trying to do is filter all packets that don't meet a certain set of requirements. This behavior is just like a Proxy server dropping packets from certain IP address etc.\\r\\n\\nA Remote proxy can hide the fact that an object resides in a different address space\\nA virtual proxy can perform optimizations, such as creating an object on demand.\\n\\r\\nYou should use the proxy pattern when: \\r\\nYou need a more versatile or sophisticated reference to an object than a simple pointer.\\r\\n\\n\\n\\n\\n\\n\\n\\n\",\n",
            "       \"The Memento pattern[1] contains a snapshot of the state of an object, so that the object can return to its original state without having to reveal its content to the rest of the world.\\r\\nThe figure below illustrates the Memento pattern. \\r\\n\\r\\nThe following lists the benefits of using the Memento pattern:\\r\\n\\nPreserves encapsulation boundaries\\nSimplifies the originator\\n\\n\\r\\nYou should use the Memento pattern when:\\r\\n\\nA snapshot of an object's state must be saved so that it can be restored to that state later.\\nUsing a direct interface to obtain the state would expose implementation details and break the object's encapsulation.\\n\\n[1]memento: an object kept as a reminder or souvenir of a person or event.\",\n",
            "       '\\r\\nThe Interpreter pattern interprets a language to define a representation for its grammar along with an interpreter that uses the representation to interpret sentences in the language. The following diagram illustrates the Interpreter pattern.\\r\\nThe following lists the benefits of using the Interpreter pattern:\\r\\n\\nEasy to change and extend the grammar\\nImplementing the grammar is easy\\n\\n\\r\\nYou should use the Interpreter pattern when:\\r\\n\\nThe grammar of the language is simple.\\nEfficiency is not a critical concern.\\n\\n\\r\\nInterpreter Pattern: Useful when the objective is to provide a client program or a user the ability to specify operations in a simple language. Helps in interpreting operations specified using a language, using its grammar. More suitable for languages with simple grammar\\r\\n\\n\\n\\n\\n\\n\\n\\n',\n",
            "       \"\\r\\nThe iterator pattern provides a consistent way to sequentially access items in a collection that is independent of and separate from the underlying collection. The figure below represents the iterator pattern.\\r\\n\\n\\nSupports variations in the traversal of a collection\\nSimplifies the interface of the collection.\\n\\n\\r\\nYou should use the Interpreter pattern when you want to:\\r\\n\\nAccess a collection object’s contents without exposing its internal representation.\\nSupport multiple traversals of objects in a collection.\\nProvide a uniform interface for traversing different structures in a collection.\\n\\n\\r\\nIn object-oriented programming, the iterator pattern is a design pattern in which an iterator is used to traverse a container and access the container's elements.  The iterator pattern decouples algorithms from containers; in some cases, algorithms are necessarily container-specific and cannot be decoupled. For example, the hypothetical algorithm SearchForElement can be implemented generally using a specified type of iterator rather than implementing it as a container-specific algorithm. \\r\\nThis allows SearchForElement to be used on any container that supports the required type of iterator.\\r\\n\\n\\n\\n\\n\\n\\n\\n\",\n",
            "       '\\r\\nThe Observer pattern provides a way for a component to flexibly broadcast messages to interested receivers. \\r\\nIt defines a one-to-many dependency between objects so that when one object changes state, all its dependents are notified and updated automatically. The Figure below illustrates the Observer pattern.\\r\\nThe following lists the benefits of using the Observer pattern:\\r\\n\\nAbstract coupling between subject and observer\\nSupport for broadcast communication\\n\\n\\r\\nYou should use the Observer pattern when:\\r\\n\\nA change to one object requires changing the other object and you do not know how many objects need to change.\\n An object should be able to notify other objects without making assumptions about the identity of those objects.\\n\\n\\n\\n\\n\\n\\n\\n\\n',\n",
            "       \"\\r\\nThe Command pattern encapsulates a request in an object, which enables you to store the command, pass the command to a method, and return the command like any other object.  The figure below illustrates the Command Pattern.\\r\\n\\r\\nThe following lists the benefits of using the Command Pattern:\\r\\n\\nSeparates the object that invokes the operation from the one that knows how to perform it.\\n It's easy to add new commands, because you don't have to change existing classes.\\n\\n\\r\\nYou should use the Command pattern when:\\r\\n\\nYou want to parameterize objects by an action to perform.\\nYou specify, queue, and execute requests at different times. \\nYou must support undo, logging, or transactions\\n\\n\\n\\n\\n\\n\\n\\n\\n\",\n",
            "       \"\\r\\nThe Mediator pattern simplifies communication among objects in a system by introducing a single object that manages message distribution among other objects. The Mediator pattern promotes loose coupling by keeping objects from referring to each other explicitly, and it lets you vary their interaction independently. The diagram below illustrates the Mediator pattern.\\r\\n\\r\\nThe following lists the benefits of using the Mediator pattern:\\r\\n\\nDecouples colleagues\\nSimplifies object protocols\\nCentralizes Control\\nThe individual components become simpler and easier to deal with, because they no longer need to directly pass messages to each other\\nComponents are more generic, because they no longer need to contain logic to deal with their communication with other components.\\n\\n\\r\\nYou should use the Mediator pattern when:\\r\\n\\nA set of objects communicate in well-defined but complex ways.\\nYou want to customize a behavior that's distributed between several objects without using subclasses.\\n\\n\",\n",
            "       '\\r\\nThe Chain of Responsibility pattern establishes a chain within a system, so that a message can either be handled at the level where it is first received, or be directed to an object that can handle it.\\r\\n\\r\\nThe following lists the benefits of using the Chain of Responsibility pattern:\\r\\n\\nReduced coupling\\nAdded flexibility in assigning responsibilites to objects\\nAllows a set of classes to behave as a whole, because events produced in one class can be sent on to other handler classes within the composite. \\n\\n\\r\\nYou should use the Chain of Responsibility Pattern when:\\r\\n\\nMore  than one object can handle a request, and the handler is not known.\\nYou want to issue a request to one of several objects without specifying the receiver completely.\\nThe set of objects that can handle a request should be specified dynamically.\\n\\n\\r\\nIn Object Oriented Design, the chain-of-responsibility pattern is a design pattern consisting of a source of command objects and a series of processing objects. Each processing object contains logic that defines the types of command objects that it can handle; the rest are passed to the next processing object in the chain. \\r\\nA mechanism also exists for adding new processing objects to the end of this chain. In a variation of the standard chain-of-responsibility model, some handlers may act as dispatchers, capable of sending commands out in a variety of directions, forming a tree of responsibility. \\r\\nIn some cases, this can occur recursively, with processing objects calling higher-up processing objects with commands that attempt to solve some smaller part of the problem; in this case recursion continues until the command is processed, or the entire tree has been explored. An XML interpreter might work in this manner. \\r\\n\\r\\nThis pattern promotes the idea of loose coupling, which is considered a programming best practice.\\r\\n',\n",
            "       \"\\r\\nThe State pattern allows an object to alter its behavior when its internal state changes. The object appears to change its class. The Figure illustrates the State Pattern. \\r\\nThe following lists the benefits of using the State pattern:\\r\\n\\nLocalizes state-specific behavior and partitions behavior for different states .\\nMake state transitions explicit.\\n\\n\\r\\nYou should use the State pattern when:\\r\\n\\nAn object's behavior depends on its state and it must change its behavior at run-time depending on that state.\\nOperations have large conditional statements that consist of multiple states and depend on the object's state.\\n\\n\",\n",
            "       '\\r\\nThe Template Method pattern provides a method that allows subclasses to override parts of the method without rewriting it.  Define the skeleton of an algorithm in an operation, deferring some steps to subclasses. Template method lets subclasses redefine certain steps of an algorithm without changing the structure of the algorithm. \\r\\nThe figure below illustrates the Template pattern.\\r\\n\\r\\nThe following lists the benefits of using the Template pattern:\\r\\nFundamental technique for reusing code \\n\\r\\nYou should use the Template pattern when:\\r\\n\\n You want to implement the invariant parts of an algorithm once and use subclasses to implement the behavior that can vary.\\nWhen common behavior among subclasses should be factored and localized in a common class to avoid code duplication. \\n\\n',\n",
            "       'Provide a way to visit every node in a hierarchical data structure such as a tree.\\r\\nRepresent an operation to be performed on the nodes of a hierarchical object structure. \\r\\nHierarchical Visitor lets one define new operations without changing the classes of the nodes on which it operates.  \\r\\nHierarchical Visitor overcomes the limitations of the traditional VisitorPattern by allowing a programmer to track traversal depth and short-circuit branch traversal.\\r\\n\\r\\nConsider a file system represented using a hierarchical structure, such as that provided by the CompositePattern. \\r\\nThe file objects are leaf nodes and the directories are the composite nodes. Now consider two operations on a file system: \\r\\n\\nfully qualifying a file name and \\nsearching for a specific  file.\\n\\n\\r\\nTo fully qualify a file name, we must traverse each of its parent composites. To do this, we start with a string representing the root composite, and concatenate each child composite until we reach the actual file object.\\r\\nWe need to determine what composites (directories) are children of the root and which are its siblings. \\r\\nThis requires we track when we are entering a composite and leaving a composite. If we enter the composite bar before we have left the composite foo, we know we have \"foo/bar\". However, if we leave foo before entering bar then foo and bar are siblings. \\r\\nThis is quite impossible if equipped only with the traditional VisitorPattern as it only tells us when we are entering a composite node.\\r\\n\\r\\nTo search a file system optimally, we need to take advantage of fully qualified names. If we are searching for root/foo2/bar3/file.dat, we do not need to search through the branches \\r\\n\\nroot/foo1/*,  \\n\"root/foo2/bar1/*\", or even \\n\"root/foo2/bar2/*\".\\n\\r\\nUnfortunately, because the traditional VisitorPattern does not have the ability to conditionally traverse a hierarchical structure, we are left with only two choices. \\r\\n(a) use an alternative means of traversal or (b) search even those branches that have no possibility of a match. \\r\\nThese two examples summarize the advantages of the HierarchicalVisitorPattern. \\r\\nOne no longer needs to rely on multiple traversal techniques when the limitations of the traditional visitor pattern must be exceeded. \\r\\nWe can generalize these limitations as:\\r\\n\\nhierarchical navigation: the traditional VisitorPattern has no concept of depth. As a result, visitor cannot determine if one composite is within another composite or beside it.\\nconditional navigation: the traditional VisitorPattern does not allow branches to be skipped. As a result, visitor cannot stop, filter, or optimize  traversal based on some condition.',\n",
            "       '\\r\\nThe intent of the Strategy Pattern is to define a family of algorithms, encapsulate each algorithm, and make them interchangeable. \\r\\nThe Strategy Pattern lets the algorithm vary independently from clients that use it.\\r\\nIn addition the pattern, defines a group of classes that represent a set of possible behaviors. \\r\\nThese behaviors can then be used in an application to change its functionality.\\r\\nThe figure below illustrates the Strategy pattern.\\r\\nThe following lists the benefits of using the Strategy pattern:\\r\\n\\nAn alternative to subclassing\\nDefines each behavior in its own class, which eliminates conditional statements\\nEasier to extend a model to incorporate new behaviors without recoding the application \\n\\nYou should use the Strategy pattern when:\\r\\n\\nMany related classes differ only in their behavior.\\nYou need different variants of an algorithm.\\nAn algorithm uses data unknown to clients.\\n\\n\\n\\n\\n\\n\\n\\n\\n'],\n",
            "      dtype='<U4332'), 'cluster': [0, 0, 0, 2, 0, 0, 0, 0, 0, 0, 1, 0, 1, 0, 1, 1, 0, 1, 0, 1, 0, 2, 0]}\n",
            "          0                                                  1\n",
            "0        id  [91, 92, 93, 94, 95, 96, 97, 98, 99, 100, 101,...\n",
            "1       cat  [0, 0, 0, 0, 0, 0, 0, 0, 0, 0, 0, 0, 0, 0, 0, ...\n",
            "2      name  [abstract_factory_pattern, decorator_pattern, ...\n",
            "3  overview  [\\nQuestion:What is the abstract factory patte...\n",
            "4   cluster  [0, 0, 0, 2, 0, 0, 0, 0, 0, 0, 1, 0, 1, 0, 1, ...\n"
          ]
        },
        {
          "output_type": "display_data",
          "data": {
            "text/plain": [
              "[]"
            ]
          },
          "metadata": {}
        },
        {
          "output_type": "display_data",
          "data": {
            "text/plain": [
              "[]"
            ]
          },
          "metadata": {}
        },
        {
          "output_type": "display_data",
          "data": {
            "text/plain": [
              "[]"
            ]
          },
          "metadata": {}
        },
        {
          "output_type": "display_data",
          "data": {
            "text/plain": [
              "[]"
            ]
          },
          "metadata": {}
        },
        {
          "output_type": "display_data",
          "data": {
            "text/plain": [
              "[]"
            ]
          },
          "metadata": {}
        },
        {
          "output_type": "execute_result",
          "data": {
            "text/plain": [
              "0    None\n",
              "1    None\n",
              "2    None\n",
              "3    None\n",
              "4    None\n",
              "dtype: object"
            ]
          },
          "metadata": {},
          "execution_count": 34
        }
      ]
    },
    {
      "cell_type": "code",
      "source": [
        "# Check for these words: client, class, application, extend, hierarchy, system, structure, behavior, differ, and execution. These words are important in determining the pattern category.\n",
        "occurrences = []\n",
        "special_words = [ 'client', 'class', 'application', 'extend', 'hierarchy', 'system', 'structure', 'behavior', 'differ', 'execution' ]\n",
        "\n",
        "for index, row in frame_gof.iterrows():\n",
        "  pattern_info = []\n",
        "  pattern_info.append(row['name'])\n",
        "  for word in special_words:\n",
        "    pattern_info.append(row['name'].count(word))\n",
        "  occurrences.append(pattern_info)\n",
        "\n",
        "print(occurrences)"
      ],
      "metadata": {
        "colab": {
          "base_uri": "https://localhost:8080/"
        },
        "id": "Iy9DmSSQhuC7",
        "outputId": "438e14dd-3a4e-42a2-aad5-3e83663a3c4d"
      },
      "execution_count": 43,
      "outputs": [
        {
          "output_type": "stream",
          "name": "stdout",
          "text": [
            "[['abstract_factory_pattern', 0, 0, 0, 0, 0, 0, 0, 0, 0, 0], ['decorator_pattern', 0, 0, 0, 0, 0, 0, 0, 0, 0, 0], ['facade_pattern', 0, 0, 0, 0, 0, 0, 0, 0, 0, 0], ['composite_pattern', 0, 0, 0, 0, 0, 0, 0, 0, 0, 0], ['factory_method_pattern', 0, 0, 0, 0, 0, 0, 0, 0, 0, 0], ['prototype_pattern', 0, 0, 0, 0, 0, 0, 0, 0, 0, 0], ['adapter_pattern', 0, 0, 0, 0, 0, 0, 0, 0, 0, 0], ['builder_pattern', 0, 0, 0, 0, 0, 0, 0, 0, 0, 0], ['singleton_pattern', 0, 0, 0, 0, 0, 0, 0, 0, 0, 0], ['bridge_pattern', 0, 0, 0, 0, 0, 0, 0, 0, 0, 0], ['flyweight_pattern', 0, 0, 0, 0, 0, 0, 0, 0, 0, 0], ['proxy_pattern', 0, 0, 0, 0, 0, 0, 0, 0, 0, 0], ['memento_pattern', 0, 0, 0, 0, 0, 0, 0, 0, 0, 0], ['interpreter_pattern', 0, 0, 0, 0, 0, 0, 0, 0, 0, 0], ['iterator_pattern', 0, 0, 0, 0, 0, 0, 0, 0, 0, 0], ['observer_pattern', 0, 0, 0, 0, 0, 0, 0, 0, 0, 0], ['command_pattern', 0, 0, 0, 0, 0, 0, 0, 0, 0, 0], ['mediator_pattern', 0, 0, 0, 0, 0, 0, 0, 0, 0, 0], ['chain_of_responsibility', 0, 0, 0, 0, 0, 0, 0, 0, 0, 0], ['state_pattern', 0, 0, 0, 0, 0, 0, 0, 0, 0, 0], ['template_pattern', 0, 0, 0, 0, 0, 0, 0, 0, 0, 0], ['hierarchical_visitor_pattern', 0, 0, 0, 0, 0, 0, 0, 0, 0, 0], ['strategy_pattern', 0, 0, 0, 0, 0, 0, 0, 0, 0, 0]]\n"
          ]
        }
      ]
    }
  ]
}