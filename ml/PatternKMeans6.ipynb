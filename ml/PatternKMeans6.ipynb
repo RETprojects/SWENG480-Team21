{
 "cells": [
  {
   "cell_type": "code",
   "execution_count": 10,
   "metadata": {
    "colab": {
     "base_uri": "https://localhost:8080/"
    },
    "id": "lz6NJ12FIiXJ",
    "outputId": "90b93a89-2550-43ca-e46b-44035a28dd8f"
   },
   "outputs": [
    {
     "name": "stdout",
     "output_type": "stream",
     "text": [
      "Requirement already satisfied: unidecode in /Users/remit/opt/anaconda3/lib/python3.9/site-packages (1.2.0)\n",
      "Requirement already satisfied: fuzzy-c-means in /Users/remit/opt/anaconda3/lib/python3.9/site-packages (1.7.0)\n",
      "Requirement already satisfied: tabulate<0.9.0,>=0.8.9 in /Users/remit/opt/anaconda3/lib/python3.9/site-packages (from fuzzy-c-means) (0.8.10)\n",
      "Requirement already satisfied: tqdm<5.0.0,>=4.64.1 in /Users/remit/opt/anaconda3/lib/python3.9/site-packages (from fuzzy-c-means) (4.64.1)\n",
      "Requirement already satisfied: pydantic<2.0.0,>=1.9.0 in /Users/remit/opt/anaconda3/lib/python3.9/site-packages (from fuzzy-c-means) (1.10.5)\n",
      "Requirement already satisfied: joblib<2.0.0,>=1.2.0 in /Users/remit/opt/anaconda3/lib/python3.9/site-packages (from fuzzy-c-means) (1.2.0)\n",
      "Requirement already satisfied: typer<0.5.0,>=0.4.0 in /Users/remit/opt/anaconda3/lib/python3.9/site-packages (from fuzzy-c-means) (0.4.2)\n",
      "Requirement already satisfied: numpy<2.0.0,>=1.21.1 in /Users/remit/opt/anaconda3/lib/python3.9/site-packages (from fuzzy-c-means) (1.21.5)\n",
      "Requirement already satisfied: typing-extensions>=4.2.0 in /Users/remit/opt/anaconda3/lib/python3.9/site-packages (from pydantic<2.0.0,>=1.9.0->fuzzy-c-means) (4.3.0)\n",
      "Requirement already satisfied: click<9.0.0,>=7.1.1 in /Users/remit/opt/anaconda3/lib/python3.9/site-packages (from typer<0.5.0,>=0.4.0->fuzzy-c-means) (8.0.4)\n",
      "Requirement already satisfied: scikit-learn in /Users/remit/opt/anaconda3/lib/python3.9/site-packages (1.2.1)\n",
      "Requirement already satisfied: threadpoolctl>=2.0.0 in /Users/remit/opt/anaconda3/lib/python3.9/site-packages (from scikit-learn) (2.2.0)\n",
      "Requirement already satisfied: joblib>=1.1.1 in /Users/remit/opt/anaconda3/lib/python3.9/site-packages (from scikit-learn) (1.2.0)\n",
      "Requirement already satisfied: scipy>=1.3.2 in /Users/remit/opt/anaconda3/lib/python3.9/site-packages (from scikit-learn) (1.9.1)\n",
      "Requirement already satisfied: numpy>=1.17.3 in /Users/remit/opt/anaconda3/lib/python3.9/site-packages (from scikit-learn) (1.21.5)\n",
      "Requirement already satisfied: scikit-learn-extra in /Users/remit/opt/anaconda3/lib/python3.9/site-packages (0.2.0)\n",
      "Requirement already satisfied: numpy>=1.13.3 in /Users/remit/opt/anaconda3/lib/python3.9/site-packages (from scikit-learn-extra) (1.21.5)\n",
      "Requirement already satisfied: scikit-learn>=0.23.0 in /Users/remit/opt/anaconda3/lib/python3.9/site-packages (from scikit-learn-extra) (1.2.1)\n",
      "Requirement already satisfied: scipy>=0.19.1 in /Users/remit/opt/anaconda3/lib/python3.9/site-packages (from scikit-learn-extra) (1.9.1)\n",
      "Requirement already satisfied: threadpoolctl>=2.0.0 in /Users/remit/opt/anaconda3/lib/python3.9/site-packages (from scikit-learn>=0.23.0->scikit-learn-extra) (2.2.0)\n",
      "Requirement already satisfied: joblib>=1.1.1 in /Users/remit/opt/anaconda3/lib/python3.9/site-packages (from scikit-learn>=0.23.0->scikit-learn-extra) (1.2.0)\n"
     ]
    },
    {
     "name": "stderr",
     "output_type": "stream",
     "text": [
      "[nltk_data] Downloading package punkt to /Users/remit/nltk_data...\n",
      "[nltk_data]   Package punkt is already up-to-date!\n"
     ]
    }
   ],
   "source": [
    "# This notebook analyzes the efficacy of different clustering algorithms for matching design patterns and design problems.\n",
    "# Note: Table C2 in Hussain et al 2017 seems to indicate that fuzzy c-means clustering with binary weighting is the most effective combination for GoF patterns,\n",
    "# but TF-IDF yields the highest f-value for fuzzy c-means (0.73).\n",
    "# We are aiming for an f-value of 0.7 or above.\n",
    "\n",
    "!pip install unidecode\n",
    "!pip install fuzzy-c-means\n",
    "!pip install --upgrade scikit-learn\n",
    "!pip install scikit-learn-extra\n",
    "\n",
    "from fcmeans                          import FCM\n",
    "\n",
    "# Data Structures\n",
    "import numpy  as np\n",
    "import pandas as pd\n",
    "import json\n",
    "# Corpus Processing\n",
    "import re\n",
    "import nltk\n",
    "import nltk.corpus\n",
    "from nltk.tokenize                    import word_tokenize\n",
    "from nltk.stem                        import WordNetLemmatizer\n",
    "from nltk                             import SnowballStemmer, PorterStemmer\n",
    "nltk.download('punkt')\n",
    "\n",
    "from sklearn.feature_extraction.text  import TfidfVectorizer, CountVectorizer\n",
    "from sklearn.preprocessing            import normalize, Normalizer\n",
    "from sklearn.decomposition            import PCA, TruncatedSVD\n",
    "from sklearn.cluster                  import KMeans, BisectingKMeans, AgglomerativeClustering\n",
    "from sklearn_extra.cluster            import KMedoids\n",
    "from sklearn.pipeline                 import make_pipeline\n",
    "\n",
    "from unidecode                        import unidecode\n",
    "\n",
    "# K-Means\n",
    "from sklearn                          import cluster\n",
    "\n",
    "# Visualization and Analysis\n",
    "import matplotlib.pyplot  as plt\n",
    "import matplotlib.cm      as cm\n",
    "import seaborn            as sns\n",
    "from sklearn.metrics                  import silhouette_samples, silhouette_score, confusion_matrix, ConfusionMatrixDisplay, f1_score\n",
    "from wordcloud                        import WordCloud\n",
    "\n",
    "from sklearn.feature_extraction.text import CountVectorizer\n",
    "from sklearn.metrics.pairwise import linear_kernel\n",
    "from sklearn.metrics.pairwise import cosine_similarity\n",
    "\n",
    "np.random.seed(9)\n"
   ]
  },
  {
   "cell_type": "code",
   "execution_count": 11,
   "metadata": {
    "id": "ijpPxbCoPFKa"
   },
   "outputs": [],
   "source": [
    "def getTrainData(fileName):\n",
    "  df = pd.read_csv(fileName)\n",
    "  df = df.drop_duplicates(subset=['name'])\n",
    "\n",
    "  return df"
   ]
  },
  {
   "cell_type": "code",
   "execution_count": 12,
   "metadata": {
    "id": "YmdAtfnSxdoX"
   },
   "outputs": [],
   "source": [
    "# Add the design problem to the dataset.\n",
    "#problemRow = {'name':\"bridge design problem 1\", 'correct_category':1, 'overview':\"Design a system enabling to display on a screen some empty windows (no button, no menu…). A window can have several different styles depending on the platform used. We consider two platforms, XWindow and Presentation Manager. The client code must be written independently and without knowledge of the future execution platform. It is probable that the system evolves in order to display specialized windows by ‘application windows’ (able to manage applications) and ‘iconised windows’ (with an icon)\"}\n",
    "#problemRow = {'name':\"state design problem 2\", 'correct_category':0,  'overview':\"Design a DVD market place work. The DVD marketplace provides DVD to its clients with three categories: children, normal and new. A DVD is new during some weeks, and after change category. The DVD price depends on the category. It is probable that the system evolves in order to take into account the horror category\"}\n",
    "#problemRow = {'name':\"mediator design problem 3\", 'correct_category':0,  'overview':\"Design the communications of a plane approaching an airport. When a plane approaches an airport, it must announce to all the other planes which are around that it intends to land, and await their confirmation before carrying out the operation. It is the control tower of the airport which guarantees the regulation of the air traffic, by making sure that there is no trajectory or destination conflict between several planes. In addition to the class diagram, you must also submit a collaboration (in the form of a diagram of collaboration or a diagram of objects and sequence) that describes the landing of a plane amidst in a context of two demands to land and one wanting to take off\"}\n",
    "#problemRow = {'name':\"composite design problem 4\", 'correct_category':1, 'overview':\"Design a system enabling you to draw a graphic image. A graphic image is composed of lines, rectangles, texts, and images. An image may be composed of other images, lines, rectangles, and texts\"}\n",
    "#problemRow = {'name':\"decorator design problem 5\", 'correct_category':1, 'overview':\"Design a system enabling you to display visual objects on a screen. A visual object can be composed of one or more texts or images. If needed, the system must allow the addition of a vertical scroll bar, a horizontal scroll bar, an edge and a menu to this object. These additions may be accumulated.\"}\n",
    "#problemRow = {'name':\"chain of responsbility design problem 6\", 'correct_category':0, 'overview':\"Design a help manager for a Java application. A help manager allows the display of a help message depending on the objects on which a client has clicked. For example, the “?”, sometimes located near the contextual menu of a Windows dialog box, allows the display of the help related to the button or the area where to click. If the button on which one clicks does not contain help, it is the area container which displays its help, and so on. If any object contains help, the help manager displays /“No help available for this area/”. Instantiate your class diagram in a sequence diagram of the example of a printing window. This window (JDialog) consists in an explanatory text (JLabel) and in a container (JPanel). This last contains a /“Print button/” (JButton) and a /“Cancel button/” (JButton). The /“Print button/” contains help /“Launches the impression of the document/”. The /“Cancel button/” the text as well as the window do not contain help. Lastly, the container contains help /“Click on one of the buttons/”. In the sequence diagram, reveal the scenarios: /“The user asks for the help of the Print button/”, /“the user asks for the help of the Cancel button/”, and /“the user asks for the help of the text/”\"}\n",
    "#problemRow = {'name':\"command design problem 7\", 'correct_category':0, 'overview':\"Design a tutorial to learn how to program a calculator. This calculator executes the four basic arithmetic operations. The goal of this tutorial is to make it possible to take a set of operations to be executed sequentially. The tutorial presents a button for each arithmetic operation, and two input fields for the operands. After each click on a button of an operation, the user has then the choice to start again or execute the sequence of operations to obtain the result. It is probable that this tutorial evolves in order to make it possible for the user to remove the last operation of the list and to take into account the operation of modulo\"}\n",
    "#problemRow = {'name':\"visitor design problem 8\", 'correct_category':0, 'overview':\"Many distinct and unrelated operations need to be performed on node objects in a heterogeneous aggregate structure. You want to avoid ‘polluting’ the node classes with these operations. And, you don't want to have to query the type of each node and cast the pointer to the correct type before performing the desired operation.\"}\n",
    "#problemRow = {'name':\"adapter design problem 9\", 'correct_category':1, 'overview':\"Design a drawing editor. A design is composed of te graphics (lines, rectangles and roses), positioned at precise positions. Each graphic form must be modeled by a class that provides a method draw(): void. A rose is a complex graphic designed by a black-box class component. This component performs this drawing in memory, and provides access through a method getRose(): int that returns the address of the drawing. It is probable that the system evolves in order to draw circles\"}\n",
    "# TODO: we need some design problems related to creational patterns\n",
    "#df = df.append(problemRow, ignore_index=True)\n"
   ]
  },
  {
   "cell_type": "code",
   "execution_count": 13,
   "metadata": {
    "id": "WCyzW6A8Ic3D"
   },
   "outputs": [],
   "source": [
    "# removes a list of words (ie. stopwords) from a tokenized list.\n",
    "def removeWords(listOfTokens, listOfWords):\n",
    "    return [token for token in listOfTokens if token not in listOfWords]\n",
    "\n",
    "# applies stemming to a list of tokenized words\n",
    "def applyStemming(listOfTokens, stemmer):\n",
    "    return [stemmer.stem(token) for token in listOfTokens]\n",
    "\n",
    "# removes any words composed of less than 2 or more than 21 letters\n",
    "def twoLetters(listOfTokens):\n",
    "    twoLetterWord = []\n",
    "    for token in listOfTokens:\n",
    "        if len(token) <= 2 or len(token) >= 21:\n",
    "            twoLetterWord.append(token)\n",
    "    return twoLetterWord"
   ]
  },
  {
   "cell_type": "code",
   "execution_count": 14,
   "metadata": {
    "colab": {
     "base_uri": "https://localhost:8080/"
    },
    "id": "gNyvdEQ-IsoQ",
    "outputId": "d985d972-63d4-4151-8a49-0f280b644793"
   },
   "outputs": [
    {
     "name": "stderr",
     "output_type": "stream",
     "text": [
      "[nltk_data] Downloading package stopwords to /Users/remit/nltk_data...\n",
      "[nltk_data]   Package stopwords is already up-to-date!\n"
     ]
    }
   ],
   "source": [
    "nltk.download('stopwords')\n",
    "def processCorpus(corpus, language, stemmer):   \n",
    "    stopwords = nltk.corpus.stopwords.words(language)\n",
    "    param_stemmer = stemmer\n",
    "    \n",
    "    for document in corpus:\n",
    "        index = corpus.index(document)\n",
    "        corpus[index] = str(corpus[index]).replace(u'\\ufffd', '8')   # Replaces the ASCII '�' symbol with '8'\n",
    "        corpus[index] = corpus[index].replace(',', '')          # Removes commas\n",
    "        corpus[index] = corpus[index].rstrip('\\n')              # Removes line breaks\n",
    "        corpus[index] = corpus[index].casefold()                # Makes all letters lowercase\n",
    "        \n",
    "        corpus[index] = re.sub('\\W_',' ', corpus[index])        # removes specials characters and leaves only words\n",
    "        corpus[index] = re.sub(\"\\S*\\d\\S*\",\" \", corpus[index])   # removes numbers and words concatenated with numbers IE h4ck3r. Removes road names such as BR-381.\n",
    "        corpus[index] = re.sub(\"\\S*@\\S*\\s?\",\" \", corpus[index]) # removes emails and mentions (words with @)\n",
    "        corpus[index] = re.sub(r'http\\S+', '', corpus[index])   # removes URLs with http\n",
    "        corpus[index] = re.sub(r'www\\S+', '', corpus[index])    # removes URLs with www\n",
    "\n",
    "        listOfTokens = word_tokenize(corpus[index])\n",
    "        twoLetterWord = twoLetters(listOfTokens)\n",
    "\n",
    "        listOfTokens = removeWords(listOfTokens, stopwords)\n",
    "        listOfTokens = removeWords(listOfTokens, twoLetterWord)\n",
    "        \n",
    "        listOfTokens = applyStemming(listOfTokens, param_stemmer)\n",
    "\n",
    "        corpus[index]   = \" \".join(listOfTokens)\n",
    "        corpus[index] = unidecode(corpus[index])\n",
    "\n",
    "    return corpus"
   ]
  },
  {
   "cell_type": "code",
   "execution_count": 15,
   "metadata": {
    "id": "98Wc23fugsBk"
   },
   "outputs": [],
   "source": [
    "# TODO: use k-means before this chunk of code to classify the problem with a pattern class, then perform cosine similarity with the problem and the list of candidate patterns from that class.\n",
    "# Source: https://danielcaraway.github.io/html/sklearn_cosine_similarity.html\n",
    "\n",
    "def cosine_sim(df, df_col, class_no, pos_to_last):\n",
    "  unigram_count = CountVectorizer(encoding='latin-1', binary=False)\n",
    "  unigram_count_stop_remove = CountVectorizer(encoding='latin-1', binary=False, stop_words='english')\n",
    "\n",
    "  # get the list of candidate patterns\n",
    "  txts = df_col.loc[df['Kmeans'] == class_no] # where label == class_no\n",
    "  vecs = unigram_count.fit_transform(txts)\n",
    "  \n",
    "  cos_sim = cosine_similarity(vecs[-pos_to_last], vecs)\n",
    "  #sim_sorted_doc_idx = cos_sim.argsort()\n",
    "  # print the most similar pattern to the problem; it's actually the problem itself\n",
    "  #print(\"Design Problem: \\n\" + txts.iloc[sim_sorted_doc_idx[-1][len(txts)-1]] + \"\\n\")\n",
    "\n",
    "  #bestFittingPatternDesc = txts.iloc[sim_sorted_doc_idx[-1][len(txts)-2]]\n",
    "\n",
    "  # print the second most similar pattern; it's likely the best-fitting design pattern for the design problem\n",
    "  #print(txts[sim_sorted_doc_idx[-1][len(txts)-2]])\n",
    "  #print(\"\\nCorrect Pattern: \" + (df['name'][(df['overview'] == bestFittingPatternDesc)]).to_string(index=False) + \"\\n\")\n",
    "\n",
    "  return cos_sim, txts\n"
   ]
  },
  {
   "cell_type": "code",
   "execution_count": 16,
   "metadata": {
    "id": "M-VWv1XhUvQm"
   },
   "outputs": [],
   "source": [
    "def displayPredictions(cos_sim, txts, df):\n",
    "  sim_sorted_doc_idx = cos_sim.argsort()\n",
    "  for i in range(len(txts) - 1):\n",
    "    patternDesc = txts.iloc[sim_sorted_doc_idx[-1][len(txts)-(i + 2)]]\n",
    "    patternName = (df['name'][(df['overview'] == patternDesc)]).to_string(index=False)\n",
    "    percentMatch = int((cos_sim[0][sim_sorted_doc_idx[-1][len(txts)-(i + 2)]]) * 100)\n",
    "    print(\"{}th pattern:  {:<20}{}%  match\".format(i+1, patternName, percentMatch))\n"
   ]
  },
  {
   "cell_type": "code",
   "execution_count": 17,
   "metadata": {
    "id": "zhxsGG5oQ-M0"
   },
   "outputs": [],
   "source": [
    "def runAlgorithms(final_df, df):\n",
    "  # bisecting_strategy{“biggest_inertia”, “largest_cluster”}, default=”biggest_inertia”\n",
    "  final_df_array = final_df.to_numpy()\n",
    "\n",
    "  Bi_Bisect = BisectingKMeans(n_clusters=3, bisecting_strategy=\"biggest_inertia\")\n",
    "  Lc_Bisect = BisectingKMeans(n_clusters=3, bisecting_strategy=\"largest_cluster\")\n",
    "  Hierarchy = AgglomerativeClustering(n_clusters=3)\n",
    "  Fuzzy_Means = FCM(n_clusters=3)\n",
    "  Fuzzy_Means.fit(final_df_array)\n",
    "  kmed = KMedoids(n_clusters=3)\n",
    "  kmed_manhattan = KMedoids(n_clusters=3,metric='manhattan')\n",
    "  Kmeans = cluster.KMeans(n_clusters = 3)\n",
    "\n",
    "  Kmeans_labels = Kmeans.fit_predict(final_df)\n",
    "  fuzzy_labels = Fuzzy_Means.predict(final_df_array)\n",
    "  bi_bisect_labels = Bi_Bisect.fit_predict(final_df)\n",
    "  lc_bisect_labels = Lc_Bisect.fit_predict(final_df)  \n",
    "  hierarchy_labels = Hierarchy.fit_predict(final_df)\n",
    "  kmed_labels = kmed.fit_predict(final_df)\n",
    "  kmed_man_labels = kmed_manhattan.fit_predict(final_df)\n",
    "\n",
    "  df['Kmeans'] = Kmeans_labels\n",
    "  df['fuzzy'] = fuzzy_labels\n",
    "  df['hierarchy'] = hierarchy_labels\n",
    "  df['Bi_Bisect'] = bi_bisect_labels  \n",
    "  df['Lc_Bisect'] = lc_bisect_labels\n",
    "  df['PAM-EUCLIDEAN'] = kmed_labels\n",
    "  df['PAM-MANHATTAN'] = kmed_man_labels\n"
   ]
  },
  {
   "cell_type": "code",
   "execution_count": 18,
   "metadata": {
    "colab": {
     "base_uri": "https://localhost:8080/"
    },
    "id": "XkshK0w6W7vm",
    "outputId": "86cd44b8-6b4d-458b-eaf5-7e457643e829"
   },
   "outputs": [
    {
     "name": "stdout",
     "output_type": "stream",
     "text": [
      "Enter your design problem: \n",
      "Design a system enabling you to draw a graphic image A graphic image is composed of lines, rectangles, texts, and images. An image may be composed of other images, lines, rectangles, and texts\n"
     ]
    },
    {
     "name": "stderr",
     "output_type": "stream",
     "text": [
      "/var/folders/w1/xcvx_nwj5m59ncgg9t053njm0000gn/T/ipykernel_1648/2998960235.py:24: FutureWarning: The frame.append method is deprecated and will be removed from pandas in a future version. Use pandas.concat instead.\n",
      "  df = df.append(problemRow, ignore_index=True)\n",
      "/Users/remit/opt/anaconda3/lib/python3.9/site-packages/sklearn/cluster/_kmeans.py:870: FutureWarning: The default value of `n_init` will change from 10 to 'auto' in 1.4. Set the value of `n_init` explicitly to suppress the warning\n",
      "  warnings.warn(\n"
     ]
    },
    {
     "name": "stdout",
     "output_type": "stream",
     "text": [
      "1th pattern:  composite           32%  match\n",
      "2th pattern:  prototype           27%  match\n",
      "3th pattern:  decorator           25%  match\n",
      "4th pattern:  command             23%  match\n",
      "5th pattern:  adapter             22%  match\n",
      "6th pattern:  memento             20%  match\n",
      "7th pattern:  chain of responsibility14%  match\n",
      "Enter your design problem: \n",
      "Design a system enabling you to display visual objects on a screen A visual object can be composed of one or more texts or images. If needed, the system must allow the addition of a vertical scroll bar, a horizontal scroll bar, an edge and a menu to this object. These additions may be accumulated.\n"
     ]
    },
    {
     "name": "stderr",
     "output_type": "stream",
     "text": [
      "/var/folders/w1/xcvx_nwj5m59ncgg9t053njm0000gn/T/ipykernel_1648/2998960235.py:24: FutureWarning: The frame.append method is deprecated and will be removed from pandas in a future version. Use pandas.concat instead.\n",
      "  df = df.append(problemRow, ignore_index=True)\n",
      "/Users/remit/opt/anaconda3/lib/python3.9/site-packages/sklearn/cluster/_kmeans.py:870: FutureWarning: The default value of `n_init` will change from 10 to 'auto' in 1.4. Set the value of `n_init` explicitly to suppress the warning\n",
      "  warnings.warn(\n"
     ]
    },
    {
     "name": "stdout",
     "output_type": "stream",
     "text": [
      "1th pattern:  observer            47%  match\n",
      "2th pattern:  decorator           44%  match\n",
      "3th pattern:  mediator            42%  match\n",
      "4th pattern:  chain of responsibility40%  match\n",
      "5th pattern:  abstract factory    39%  match\n",
      "6th pattern:  bridge              38%  match\n",
      "7th pattern:  iterator            37%  match\n",
      "8th pattern:  adapter             35%  match\n",
      "9th pattern:  facade              33%  match\n",
      "Enter your design problem: \n",
      "Design a system enabling you to display on a screen some simple windows (no button, no menu… … ) A window can have several different styles depending on the platform used. We consider two platforms, XWindow and PresentationManager. The client code must be written independently and without knowledge of the future execution platform. It is probable that the system evolves in order to display specialized windows by application windows (ability to manage applications) and iconized windows (with an icon)\n"
     ]
    },
    {
     "name": "stderr",
     "output_type": "stream",
     "text": [
      "/var/folders/w1/xcvx_nwj5m59ncgg9t053njm0000gn/T/ipykernel_1648/2998960235.py:24: FutureWarning: The frame.append method is deprecated and will be removed from pandas in a future version. Use pandas.concat instead.\n",
      "  df = df.append(problemRow, ignore_index=True)\n",
      "/Users/remit/opt/anaconda3/lib/python3.9/site-packages/sklearn/cluster/_kmeans.py:870: FutureWarning: The default value of `n_init` will change from 10 to 'auto' in 1.4. Set the value of `n_init` explicitly to suppress the warning\n",
      "  warnings.warn(\n"
     ]
    },
    {
     "name": "stdout",
     "output_type": "stream",
     "text": [
      "1th pattern:  bridge              58%  match\n",
      "2th pattern:  chain of responsibility49%  match\n",
      "3th pattern:  mediator            49%  match\n",
      "4th pattern:  iterator            48%  match\n",
      "5th pattern:  observer            48%  match\n",
      "6th pattern:  interpreter         45%  match\n",
      "7th pattern:  abstract factory    44%  match\n",
      "8th pattern:  facade              43%  match\n",
      "9th pattern:  singleton           40%  match\n",
      "Enter your design problem: \n",
      "Design a customer’s bill management at a video store The video store provides DVDs to its clients with three categories: children, normal, and new. A DVD is new for some weeks, and after changes category. The DVD price depends on the category. It is probable that the system evolves in order to take into account a new category concerning horror movies\n"
     ]
    },
    {
     "name": "stderr",
     "output_type": "stream",
     "text": [
      "/var/folders/w1/xcvx_nwj5m59ncgg9t053njm0000gn/T/ipykernel_1648/2998960235.py:24: FutureWarning: The frame.append method is deprecated and will be removed from pandas in a future version. Use pandas.concat instead.\n",
      "  df = df.append(problemRow, ignore_index=True)\n",
      "/Users/remit/opt/anaconda3/lib/python3.9/site-packages/sklearn/cluster/_kmeans.py:870: FutureWarning: The default value of `n_init` will change from 10 to 'auto' in 1.4. Set the value of `n_init` explicitly to suppress the warning\n",
      "  warnings.warn(\n"
     ]
    },
    {
     "name": "stdout",
     "output_type": "stream",
     "text": [
      "Enter your design problem: \n",
      "Design the communications of a plane approaching an airport When a plane approaches an airport, it must announce to all the other planes which are around that it intends to land, and await their confirmation before carrying out the operation. It is the control tower of the airport which guarantees the regulation of the air traffic, by making sure that there is no trajectory or destination conflict between several planes. In addition to the class diagram, you must also submit a collaboration (in the form of a diagram of collaboration or a diagram of objects and sequence) that describes the landing of a plane amidst in a context of two demands to land and one wanting to take off\n"
     ]
    },
    {
     "name": "stderr",
     "output_type": "stream",
     "text": [
      "/var/folders/w1/xcvx_nwj5m59ncgg9t053njm0000gn/T/ipykernel_1648/2998960235.py:24: FutureWarning: The frame.append method is deprecated and will be removed from pandas in a future version. Use pandas.concat instead.\n",
      "  df = df.append(problemRow, ignore_index=True)\n",
      "/Users/remit/opt/anaconda3/lib/python3.9/site-packages/sklearn/cluster/_kmeans.py:870: FutureWarning: The default value of `n_init` will change from 10 to 'auto' in 1.4. Set the value of `n_init` explicitly to suppress the warning\n",
      "  warnings.warn(\n"
     ]
    },
    {
     "name": "stdout",
     "output_type": "stream",
     "text": [
      "Enter your design problem: \n",
      "Design a tutorial to learn how to program a calculator This calculator executes the four basic arithmetic operations. The goal of this tutorial is to make it possible to take a set of operations to be executed sequentially. The tutorial presents a button for each arithmetic operation, and two input fields for the operands. After each click on a button of an operation, the user has then the choice to start again or execute the sequence of operations to obtain the result. It is probable that this tutorial evolves in order to make it possible for the user to remove the last operation of the list and to take into account the operation of modulo\n"
     ]
    },
    {
     "name": "stderr",
     "output_type": "stream",
     "text": [
      "/var/folders/w1/xcvx_nwj5m59ncgg9t053njm0000gn/T/ipykernel_1648/2998960235.py:24: FutureWarning: The frame.append method is deprecated and will be removed from pandas in a future version. Use pandas.concat instead.\n",
      "  df = df.append(problemRow, ignore_index=True)\n",
      "/Users/remit/opt/anaconda3/lib/python3.9/site-packages/sklearn/cluster/_kmeans.py:870: FutureWarning: The default value of `n_init` will change from 10 to 'auto' in 1.4. Set the value of `n_init` explicitly to suppress the warning\n",
      "  warnings.warn(\n"
     ]
    },
    {
     "name": "stdout",
     "output_type": "stream",
     "text": [
      "Enter your design problem: \n",
      "In this section, we present some results of the seven problems presented in the previous section. We first introduce our canonical solution for each problem. Next, we present one alternative solution to each problem. We have selected the best alternative solutions for this paper, but as we made clear before, we obtained one or more alternative solutions for each problem. For each alternative solution, the deduced spoiled pattern has a name characterizing its defects and a evaluation of the corresponding design pattern’s strong points.\n"
     ]
    },
    {
     "name": "stderr",
     "output_type": "stream",
     "text": [
      "/var/folders/w1/xcvx_nwj5m59ncgg9t053njm0000gn/T/ipykernel_1648/2998960235.py:24: FutureWarning: The frame.append method is deprecated and will be removed from pandas in a future version. Use pandas.concat instead.\n",
      "  df = df.append(problemRow, ignore_index=True)\n",
      "/Users/remit/opt/anaconda3/lib/python3.9/site-packages/sklearn/cluster/_kmeans.py:870: FutureWarning: The default value of `n_init` will change from 10 to 'auto' in 1.4. Set the value of `n_init` explicitly to suppress the warning\n",
      "  warnings.warn(\n"
     ]
    },
    {
     "name": "stdout",
     "output_type": "stream",
     "text": [
      "1th pattern:  interpreter         44%  match\n",
      "2th pattern:  visitor             40%  match\n",
      "Enter your design problem: \n",
      "We present here the canonical solutions that are given to the students after their experiments. As mentioned before, these solutions provide a good start to design pattern teaching. Students can compare their solutions with canonical solutions. Then, they can realize the qualities of a design by the use of best practices. The first three problems address structural patterns and the last four behavioral patterns.\n"
     ]
    },
    {
     "name": "stderr",
     "output_type": "stream",
     "text": [
      "/var/folders/w1/xcvx_nwj5m59ncgg9t053njm0000gn/T/ipykernel_1648/2998960235.py:24: FutureWarning: The frame.append method is deprecated and will be removed from pandas in a future version. Use pandas.concat instead.\n",
      "  df = df.append(problemRow, ignore_index=True)\n",
      "/Users/remit/opt/anaconda3/lib/python3.9/site-packages/sklearn/cluster/_kmeans.py:870: FutureWarning: The default value of `n_init` will change from 10 to 'auto' in 1.4. Set the value of `n_init` explicitly to suppress the warning\n",
      "  warnings.warn(\n"
     ]
    },
    {
     "name": "stdout",
     "output_type": "stream",
     "text": [
      "1th pattern:  interpreter         54%  match\n",
      "Enter your design problem: \n",
      "We present here the canonical solutions that are given to the students after their experiments. As mentioned before, these solutions provide a good start to design pattern teaching. Students can compare their solutions with canonical solutions. Then, they can realize the qualities of a design by the use of best practices. The first three problems address structural patterns and the last four behavioral patterns.\n"
     ]
    },
    {
     "name": "stderr",
     "output_type": "stream",
     "text": [
      "/var/folders/w1/xcvx_nwj5m59ncgg9t053njm0000gn/T/ipykernel_1648/2998960235.py:24: FutureWarning: The frame.append method is deprecated and will be removed from pandas in a future version. Use pandas.concat instead.\n",
      "  df = df.append(problemRow, ignore_index=True)\n",
      "/Users/remit/opt/anaconda3/lib/python3.9/site-packages/sklearn/cluster/_kmeans.py:870: FutureWarning: The default value of `n_init` will change from 10 to 'auto' in 1.4. Set the value of `n_init` explicitly to suppress the warning\n",
      "  warnings.warn(\n"
     ]
    },
    {
     "name": "stdout",
     "output_type": "stream",
     "text": [
      "Enter your design problem: \n",
      "We present here the canonical solutions that are given to the students after their experiments. As mentioned before, these solutions provide a good start to design pattern teaching. Students can compare their solutions with canonical solutions. Then, they can realize the qualities of a design by the use of best practices. The first three problems address structural patterns and the last four behavioral patterns.\n"
     ]
    },
    {
     "name": "stderr",
     "output_type": "stream",
     "text": [
      "/var/folders/w1/xcvx_nwj5m59ncgg9t053njm0000gn/T/ipykernel_1648/2998960235.py:24: FutureWarning: The frame.append method is deprecated and will be removed from pandas in a future version. Use pandas.concat instead.\n",
      "  df = df.append(problemRow, ignore_index=True)\n"
     ]
    },
    {
     "name": "stdout",
     "output_type": "stream",
     "text": [
      "Average RCD =  1.0\n"
     ]
    },
    {
     "name": "stderr",
     "output_type": "stream",
     "text": [
      "/Users/remit/opt/anaconda3/lib/python3.9/site-packages/sklearn/cluster/_kmeans.py:870: FutureWarning: The default value of `n_init` will change from 10 to 'auto' in 1.4. Set the value of `n_init` explicitly to suppress the warning\n",
      "  warnings.warn(\n"
     ]
    }
   ],
   "source": [
    "def validateInput(designProblem):\n",
    "    numOfWords = len(designProblem.split())\n",
    "    if (numOfWords < 30 or numOfWords > 120):\n",
    "        return False\n",
    "    return True\n",
    "\n",
    "def main():\n",
    "    language = 'english'\n",
    "    stemmer = PorterStemmer()\n",
    "    vectorizer = TfidfVectorizer(sublinear_tf=True)\n",
    "    df = getTrainData(\"GOF Patterns (2.0).csv\")\n",
    "    \n",
    "    rcd_array = []\n",
    "\n",
    "    for i in range(10):\n",
    "        while(True):\n",
    "            designProblem = input(\"Enter your design problem: \\n\")\n",
    "\n",
    "            if(not validateInput(designProblem)):\n",
    "              print(\"Invalid input size! please try again. \\n\")\n",
    "              continue\n",
    "\n",
    "            problemRow = {'name':\"design problem\", 'correct_category':4, 'overview': designProblem}\n",
    "            df = df.append(problemRow, ignore_index=True)\n",
    "\n",
    "            corpus = df['overview'].tolist()\n",
    "            corpus = processCorpus(corpus, language, stemmer)\n",
    "\n",
    "            X = vectorizer.fit_transform(corpus)\n",
    "            tf_idf = pd.DataFrame(data = X.toarray(), columns=vectorizer.get_feature_names_out())\n",
    "\n",
    "            runAlgorithms(tf_idf, df)\n",
    "\n",
    "            cos_sim, txts = cosine_sim(df, df['overview'], df['Kmeans'].iloc[df.index[-1]], 1)\n",
    "            displayPredictions(cos_sim, txts, df)\n",
    "            \n",
    "            # calculate and store the RCD\n",
    "            # RCD = number of right design patterns / total suggested design patterns\n",
    "            # This is a fraction of the suggested patterns that were in the correct cluster for the problem.\n",
    "            rcd_array.append(len(txts) / len(txts)) # still working out the implementation\n",
    "            \n",
    "            # remove the design problem so that the next problem can receive a prediction\n",
    "            df = df.iloc[:-1 , :]\n",
    "            \n",
    "            break\n",
    "    \n",
    "    # calculate the average RCD for the combined design problems\n",
    "    rcd_avg = sum(rcd_array) / len(rcd_array)\n",
    "    print(\"Average RCD = \", rcd_avg)\n",
    "\n",
    "# TODO: loop the program so that the user can enter and get patterns for ~10 problems,\n",
    "#       then calculate the average RCD, etc.\n",
    "\n",
    "main()"
   ]
  }
 ],
 "metadata": {
  "colab": {
   "provenance": []
  },
  "kernelspec": {
   "display_name": "Python 3 (ipykernel)",
   "language": "python",
   "name": "python3"
  },
  "language_info": {
   "codemirror_mode": {
    "name": "ipython",
    "version": 3
   },
   "file_extension": ".py",
   "mimetype": "text/x-python",
   "name": "python",
   "nbconvert_exporter": "python",
   "pygments_lexer": "ipython3",
   "version": "3.9.13"
  }
 },
 "nbformat": 4,
 "nbformat_minor": 1
}
