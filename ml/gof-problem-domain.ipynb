{
 "cells": [
  {
   "cell_type": "code",
   "execution_count": 1,
   "id": "cf52daaa-e82a-425c-8f53-ce19362fe077",
   "metadata": {},
   "outputs": [
    {
     "data": {
      "text/html": [
       "<div>\n",
       "<style scoped>\n",
       "    .dataframe tbody tr th:only-of-type {\n",
       "        vertical-align: middle;\n",
       "    }\n",
       "\n",
       "    .dataframe tbody tr th {\n",
       "        vertical-align: top;\n",
       "    }\n",
       "\n",
       "    .dataframe thead th {\n",
       "        text-align: right;\n",
       "    }\n",
       "</style>\n",
       "<table border=\"1\" class=\"dataframe\">\n",
       "  <thead>\n",
       "    <tr style=\"text-align: right;\">\n",
       "      <th></th>\n",
       "      <th>name</th>\n",
       "      <th>intent</th>\n",
       "      <th>motivation</th>\n",
       "      <th>applicability</th>\n",
       "    </tr>\n",
       "  </thead>\n",
       "  <tbody>\n",
       "    <tr>\n",
       "      <th>0</th>\n",
       "      <td>abstract factory</td>\n",
       "      <td>Provide an interface for creating families of related or dependent objects without specifying their concrete classes.</td>\n",
       "      <td>Consider a user interface toolkit that supports multiple look-and-feel standards, such as Motif and Presentation Manager. Different look-and-feels define different appearances and behaviors for user interface “widgets” like scroll bars, windows, and buttons. To be portable across look-and-feel s...</td>\n",
       "      <td>Use the Abstract Factory pattern when\n",
       "\n",
       "• a system should be independent of how its products are created, composed, and represented.\n",
       "\n",
       "• a system should be configured with one of multiple families of products.\n",
       "\n",
       "• a family of related product objects is designed to be used together, and you need to ...</td>\n",
       "    </tr>\n",
       "    <tr>\n",
       "      <th>1</th>\n",
       "      <td>builder</td>\n",
       "      <td>Separate the construction of a complex object from its representation so that the same construction process can create different representations.</td>\n",
       "      <td>A reader for the RTF (Rich Text Format) document exchange format should be able to convert RTF to many text formats. The reader might convert RTF documents into plain ASCII text or into a text widget that can be edited interactively. The problem, however, is that the number of possible conversio...</td>\n",
       "      <td>Use the Builder pattern when\n",
       "\n",
       "• the algorithm for creating a complex object should be independent of the parts that make up the object and how they’re assembled.\n",
       "\n",
       "• the construction process must allow different representations for the object that’s constructed.</td>\n",
       "    </tr>\n",
       "  </tbody>\n",
       "</table>\n",
       "</div>"
      ],
      "text/plain": [
       "               name  \\\n",
       "0  abstract factory   \n",
       "1           builder   \n",
       "\n",
       "                                                                                                                                              intent  \\\n",
       "0                              Provide an interface for creating families of related or dependent objects without specifying their concrete classes.   \n",
       "1  Separate the construction of a complex object from its representation so that the same construction process can create different representations.   \n",
       "\n",
       "                                                                                                                                                                                                                                                                                                    motivation  \\\n",
       "0  Consider a user interface toolkit that supports multiple look-and-feel standards, such as Motif and Presentation Manager. Different look-and-feels define different appearances and behaviors for user interface “widgets” like scroll bars, windows, and buttons. To be portable across look-and-feel s...   \n",
       "1  A reader for the RTF (Rich Text Format) document exchange format should be able to convert RTF to many text formats. The reader might convert RTF documents into plain ASCII text or into a text widget that can be edited interactively. The problem, however, is that the number of possible conversio...   \n",
       "\n",
       "                                                                                                                                                                                                                                                                                                 applicability  \n",
       "0  Use the Abstract Factory pattern when\n",
       "\n",
       "• a system should be independent of how its products are created, composed, and represented.\n",
       "\n",
       "• a system should be configured with one of multiple families of products.\n",
       "\n",
       "• a family of related product objects is designed to be used together, and you need to ...  \n",
       "1                                        Use the Builder pattern when\n",
       "\n",
       "• the algorithm for creating a complex object should be independent of the parts that make up the object and how they’re assembled.\n",
       "\n",
       "• the construction process must allow different representations for the object that’s constructed.  "
      ]
     },
     "execution_count": 1,
     "metadata": {},
     "output_type": "execute_result"
    }
   ],
   "source": [
    "from IPython.display import display\n",
    "import pandas as pd\n",
    "\n",
    "pd.set_option('display.max_colwidth', 300)\n",
    "\n",
    "df = pd.read_excel('gof-problem-domain.xlsx', dtype='string')\n",
    "\n",
    "df.iloc[:2]"
   ]
  },
  {
   "cell_type": "code",
   "execution_count": 2,
   "id": "78c325ab-92de-4d59-b909-34587aa5f76f",
   "metadata": {},
   "outputs": [
    {
     "data": {
      "text/html": [
       "<div>\n",
       "<style scoped>\n",
       "    .dataframe tbody tr th:only-of-type {\n",
       "        vertical-align: middle;\n",
       "    }\n",
       "\n",
       "    .dataframe tbody tr th {\n",
       "        vertical-align: top;\n",
       "    }\n",
       "\n",
       "    .dataframe thead th {\n",
       "        text-align: right;\n",
       "    }\n",
       "</style>\n",
       "<table border=\"1\" class=\"dataframe\">\n",
       "  <thead>\n",
       "    <tr style=\"text-align: right;\">\n",
       "      <th></th>\n",
       "      <th>name</th>\n",
       "      <th>intent</th>\n",
       "      <th>motivation</th>\n",
       "      <th>applicability</th>\n",
       "    </tr>\n",
       "  </thead>\n",
       "  <tbody>\n",
       "    <tr>\n",
       "      <th>0</th>\n",
       "      <td>abstract factory</td>\n",
       "      <td>provide an interface for creating families of related or dependent objects without specifying their concrete classes</td>\n",
       "      <td>consider a user interface toolkit that supports multiple look and feel standards  such as motif and presentation manager  different look and feels define different appearances and behaviors for user interface  widgets  like scroll bars  windows  and buttons  to be portable across look and feel s...</td>\n",
       "      <td>use the abstract factory pattern when    a system should be independent of how its products are created  composed  and represented     a system should be configured with one of multiple families of products     a family of related product objects is designed to be used together  and you need to ...</td>\n",
       "    </tr>\n",
       "    <tr>\n",
       "      <th>1</th>\n",
       "      <td>builder</td>\n",
       "      <td>separate the construction of a complex object from its representation so that the same construction process can create different representations</td>\n",
       "      <td>a reader for the rtf  rich text format  document exchange format should be able to convert rtf to many text formats  the reader might convert rtf documents into plain ascii text or into a text widget that can be edited interactively  the problem  however  is that the number of possible conversio...</td>\n",
       "      <td>use the builder pattern when    the algorithm for creating a complex object should be independent of the parts that make up the object and how they re assembled     the construction process must allow different representations for the object that s constructed</td>\n",
       "    </tr>\n",
       "  </tbody>\n",
       "</table>\n",
       "</div>"
      ],
      "text/plain": [
       "               name  \\\n",
       "0  abstract factory   \n",
       "1           builder   \n",
       "\n",
       "                                                                                                                                              intent  \\\n",
       "0                              provide an interface for creating families of related or dependent objects without specifying their concrete classes    \n",
       "1  separate the construction of a complex object from its representation so that the same construction process can create different representations    \n",
       "\n",
       "                                                                                                                                                                                                                                                                                                    motivation  \\\n",
       "0  consider a user interface toolkit that supports multiple look and feel standards  such as motif and presentation manager  different look and feels define different appearances and behaviors for user interface  widgets  like scroll bars  windows  and buttons  to be portable across look and feel s...   \n",
       "1  a reader for the rtf  rich text format  document exchange format should be able to convert rtf to many text formats  the reader might convert rtf documents into plain ascii text or into a text widget that can be edited interactively  the problem  however  is that the number of possible conversio...   \n",
       "\n",
       "                                                                                                                                                                                                                                                                                                 applicability  \n",
       "0  use the abstract factory pattern when    a system should be independent of how its products are created  composed  and represented     a system should be configured with one of multiple families of products     a family of related product objects is designed to be used together  and you need to ...  \n",
       "1                                        use the builder pattern when    the algorithm for creating a complex object should be independent of the parts that make up the object and how they re assembled     the construction process must allow different representations for the object that s constructed   "
      ]
     },
     "execution_count": 2,
     "metadata": {},
     "output_type": "execute_result"
    }
   ],
   "source": [
    "df = df.apply(lambda x: x.str.lower()) \\\n",
    "    .replace(to_replace=r'[^\\w]', value=' ', regex=True)\n",
    "    # .replace(to_replace=u'(\\u2018|\\u2019)', value='\\'', regex=True) \\\n",
    "    # .replace(to_replace=r'[^\\w\\']', value=' ', regex=True)\n",
    "    \n",
    "\n",
    "df.iloc[:2]"
   ]
  },
  {
   "cell_type": "code",
   "execution_count": 3,
   "id": "faef5faf-c25d-4b39-8357-90fdb317a83e",
   "metadata": {},
   "outputs": [],
   "source": [
    "from nltk.stem.porter import PorterStemmer\n",
    "\n",
    "stemmer = PorterStemmer()\n",
    "\n",
    "vocab_tokenized = []\n",
    "vocab_stemmed = []\n",
    "\n",
    "df.loc[:, 'intent':].applymap(lambda x: vocab_tokenized.extend(x.split()))\n",
    "df.loc[:, 'intent':].applymap(lambda x: vocab_stemmed.extend([stemmer.stem(y) for y in x.split()]))\n",
    "\n",
    "vocab_frame = pd.DataFrame({'words': vocab_tokenized}, index = vocab_stemmed)"
   ]
  },
  {
   "cell_type": "code",
   "execution_count": 4,
   "id": "8a2a9fad-da15-42d8-980e-15e34bae1947",
   "metadata": {},
   "outputs": [
    {
     "data": {
      "text/html": [
       "<div>\n",
       "<style scoped>\n",
       "    .dataframe tbody tr th:only-of-type {\n",
       "        vertical-align: middle;\n",
       "    }\n",
       "\n",
       "    .dataframe tbody tr th {\n",
       "        vertical-align: top;\n",
       "    }\n",
       "\n",
       "    .dataframe thead th {\n",
       "        text-align: right;\n",
       "    }\n",
       "</style>\n",
       "<table border=\"1\" class=\"dataframe\">\n",
       "  <thead>\n",
       "    <tr style=\"text-align: right;\">\n",
       "      <th></th>\n",
       "      <th>name</th>\n",
       "      <th>intent</th>\n",
       "      <th>motivation</th>\n",
       "      <th>applicability</th>\n",
       "    </tr>\n",
       "  </thead>\n",
       "  <tbody>\n",
       "    <tr>\n",
       "      <th>0</th>\n",
       "      <td>abstract factory</td>\n",
       "      <td>provid interfac creat famili relat depend object without specifi concret class</td>\n",
       "      <td>consid user interfac toolkit support multipl look feel standard motif present manag differ look feel defin differ appear behavior user interfac widget like scroll bar window button portabl across look feel standard applic hard code widget particular look feel instanti look feel specif class widg...</td>\n",
       "      <td>use abstract factori pattern system independ product creat compos repres system configur one multipl famili product famili relat product object design use togeth need enforc constraint want provid class librari product want reveal interfac implement</td>\n",
       "    </tr>\n",
       "    <tr>\n",
       "      <th>1</th>\n",
       "      <td>builder</td>\n",
       "      <td>separ construct complex object represent construct process creat differ represent</td>\n",
       "      <td>reader rtf rich text format document exchang format abl convert rtf mani text format reader might convert rtf document plain ascii text text widget edit interact problem howev number possibl convers open end easi add new convers without modifi reader solut configur rtfreader class textconvert ob...</td>\n",
       "      <td>use builder pattern algorithm creat complex object independ part make object assembl construct process must allow differ represent object construct</td>\n",
       "    </tr>\n",
       "  </tbody>\n",
       "</table>\n",
       "</div>"
      ],
      "text/plain": [
       "               name  \\\n",
       "0  abstract factory   \n",
       "1           builder   \n",
       "\n",
       "                                                                              intent  \\\n",
       "0     provid interfac creat famili relat depend object without specifi concret class   \n",
       "1  separ construct complex object represent construct process creat differ represent   \n",
       "\n",
       "                                                                                                                                                                                                                                                                                                    motivation  \\\n",
       "0  consid user interfac toolkit support multipl look feel standard motif present manag differ look feel defin differ appear behavior user interfac widget like scroll bar window button portabl across look feel standard applic hard code widget particular look feel instanti look feel specif class widg...   \n",
       "1  reader rtf rich text format document exchang format abl convert rtf mani text format reader might convert rtf document plain ascii text text widget edit interact problem howev number possibl convers open end easi add new convers without modifi reader solut configur rtfreader class textconvert ob...   \n",
       "\n",
       "                                                                                                                                                                                                                                               applicability  \n",
       "0  use abstract factori pattern system independ product creat compos repres system configur one multipl famili product famili relat product object design use togeth need enforc constraint want provid class librari product want reveal interfac implement  \n",
       "1                                                                                                        use builder pattern algorithm creat complex object independ part make object assembl construct process must allow differ represent object construct  "
      ]
     },
     "execution_count": 4,
     "metadata": {},
     "output_type": "execute_result"
    }
   ],
   "source": [
    "from nltk.corpus import stopwords\n",
    "from nltk.tokenize import word_tokenize\n",
    "\n",
    "stop_words = set(stopwords.words('english'))\n",
    "\n",
    "# Don't transform the name column\n",
    "df.loc[:, 'intent':'applicability'] = \\\n",
    "    df.loc[:, 'intent':'applicability'].applymap(lambda x: ' '.join([word for word in x.split() if word not in (stop_words)])) \\\n",
    "    .applymap(lambda x: ' '.join([stemmer.stem(word) for word in x.split()]))\n",
    "\n",
    "df.iloc[:2]"
   ]
  },
  {
   "cell_type": "code",
   "execution_count": 5,
   "id": "8c20465c-d1d6-47ae-a31b-e84758b6cf75",
   "metadata": {},
   "outputs": [
    {
     "data": {
      "text/plain": [
       "[]"
      ]
     },
     "metadata": {},
     "output_type": "display_data"
    },
    {
     "data": {
      "text/plain": [
       "[('object', 96),\n",
       " ('class', 65),\n",
       " ('implement', 44),\n",
       " ('interfac', 42),\n",
       " ('imag', 37),\n",
       " ('use', 36),\n",
       " ('abstract', 31),\n",
       " ('window', 28),\n",
       " ('client', 27),\n",
       " ('subclass', 24)]"
      ]
     },
     "metadata": {},
     "output_type": "display_data"
    },
    {
     "data": {
      "text/plain": [
       "[('object', 152),\n",
       " ('class', 92),\n",
       " ('oper', 77),\n",
       " ('defin', 53),\n",
       " ('request', 51),\n",
       " ('state', 49),\n",
       " ('chang', 43),\n",
       " ('use', 40),\n",
       " ('subclass', 40),\n",
       " ('list', 40)]"
      ]
     },
     "metadata": {},
     "output_type": "display_data"
    }
   ],
   "source": [
    "from collections import Counter\n",
    "\n",
    "# Find the most common words in each GoF category\n",
    "creational = []\n",
    "structural = []\n",
    "behavioral = []\n",
    "df.iloc[:5].loc[:, 'intent':].agg(' '.join, axis=1).apply(lambda x: creational.extend(x.split()))\n",
    "df.iloc[5:12].loc[:, 'intent':].agg(' '.join, axis=1).apply(lambda x: structural.extend(x.split()))\n",
    "df.iloc[12:].loc[:, 'intent':].agg(' '.join, axis=1).apply(lambda x: behavioral.extend(x.split()))\n",
    "display(Counter(creational).most_common(0))\n",
    "display(Counter(structural).most_common(10))\n",
    "display(Counter(behavioral).most_common(10))"
   ]
  },
  {
   "cell_type": "code",
   "execution_count": 6,
   "id": "28b3e77c-20e7-425e-8d18-32b3f72a6d70",
   "metadata": {},
   "outputs": [
    {
     "data": {
      "text/plain": [
       "[('widget', 13),\n",
       " ('class', 11),\n",
       " ('look', 11),\n",
       " ('feel', 11),\n",
       " ('interfac', 8),\n",
       " ('concret', 6),\n",
       " ('creat', 5),\n",
       " ('motif', 5)]"
      ]
     },
     "metadata": {},
     "output_type": "display_data"
    },
    {
     "data": {
      "text/plain": [
       "[('rtf', 10),\n",
       " ('text', 9),\n",
       " ('convert', 9),\n",
       " ('object', 8),\n",
       " ('format', 7),\n",
       " ('represent', 6),\n",
       " ('document', 6),\n",
       " ('textconvert', 6)]"
      ]
     },
     "metadata": {},
     "output_type": "display_data"
    },
    {
     "data": {
      "text/plain": [
       "[('class', 16),\n",
       " ('subclass', 12),\n",
       " ('applic', 12),\n",
       " ('creat', 10),\n",
       " ('document', 10),\n",
       " ('instanti', 8),\n",
       " ('object', 6),\n",
       " ('framework', 6)]"
      ]
     },
     "metadata": {},
     "output_type": "display_data"
    },
    {
     "data": {
      "text/plain": [
       "[('class', 15),\n",
       " ('graphictool', 12),\n",
       " ('object', 11),\n",
       " ('note', 11),\n",
       " ('prototyp', 10),\n",
       " ('instanc', 10),\n",
       " ('music', 10),\n",
       " ('creat', 9)]"
      ]
     },
     "metadata": {},
     "output_type": "display_data"
    },
    {
     "data": {
      "text/plain": [
       "[('instanc', 10),\n",
       " ('one', 9),\n",
       " ('class', 6),\n",
       " ('access', 6),\n",
       " ('ensur', 3),\n",
       " ('system', 3),\n",
       " ('object', 3),\n",
       " ('provid', 2)]"
      ]
     },
     "metadata": {},
     "output_type": "display_data"
    },
    {
     "data": {
      "text/plain": [
       "0    None\n",
       "1    None\n",
       "2    None\n",
       "3    None\n",
       "4    None\n",
       "dtype: object"
      ]
     },
     "execution_count": 6,
     "metadata": {},
     "output_type": "execute_result"
    }
   ],
   "source": [
    "# Find the most common words in each Creational pattern text\n",
    "df.iloc[:5].loc[:, 'intent':].agg(' '.join, axis=1).apply(lambda x: display(Counter(x.split()).most_common(8)))"
   ]
  },
  {
   "cell_type": "code",
   "execution_count": 7,
   "id": "adabb267-f177-434b-ad21-202d907bb45d",
   "metadata": {},
   "outputs": [
    {
     "data": {
      "text/plain": [
       "[('class', 22),\n",
       " ('interfac', 18),\n",
       " ('shape', 17),\n",
       " ('textview', 15),\n",
       " ('adapt', 14),\n",
       " ('object', 10),\n",
       " ('textshap', 10),\n",
       " ('subclass', 7)]"
      ]
     },
     "metadata": {},
     "output_type": "display_data"
    },
    {
     "data": {
      "text/plain": [
       "[('window', 27),\n",
       " ('implement', 26),\n",
       " ('abstract', 21),\n",
       " ('class', 13),\n",
       " ('platform', 10),\n",
       " ('client', 9),\n",
       " ('subclass', 7),\n",
       " ('interfac', 6)]"
      ]
     },
     "metadata": {},
     "output_type": "display_data"
    },
    {
     "data": {
      "text/plain": [
       "[('object', 16),\n",
       " ('graphic', 12),\n",
       " ('composit', 10),\n",
       " ('class', 8),\n",
       " ('draw', 6),\n",
       " ('primit', 6),\n",
       " ('implement', 5),\n",
       " ('oper', 5)]"
      ]
     },
     "metadata": {},
     "output_type": "display_data"
    },
    {
     "data": {
      "text/plain": [
       "[('decor', 17),\n",
       " ('object', 13),\n",
       " ('compon', 10),\n",
       " ('add', 9),\n",
       " ('border', 9),\n",
       " ('subclass', 8),\n",
       " ('class', 7),\n",
       " ('respons', 6)]"
      ]
     },
     "metadata": {},
     "output_type": "display_data"
    },
    {
     "data": {
      "text/plain": [
       "[('subsystem', 20),\n",
       " ('compil', 12),\n",
       " ('facad', 10),\n",
       " ('interfac', 9),\n",
       " ('class', 9),\n",
       " ('client', 8),\n",
       " ('provid', 5),\n",
       " ('level', 5)]"
      ]
     },
     "metadata": {},
     "output_type": "display_data"
    },
    {
     "data": {
      "text/plain": [
       "[('object', 32),\n",
       " ('flyweight', 19),\n",
       " ('charact', 18),\n",
       " ('document', 14),\n",
       " ('use', 11),\n",
       " ('share', 9),\n",
       " ('context', 8),\n",
       " ('state', 8)]"
      ]
     },
     "metadata": {},
     "output_type": "display_data"
    },
    {
     "data": {
      "text/plain": [
       "[('imag', 23),\n",
       " ('object', 20),\n",
       " ('proxi', 15),\n",
       " ('refer', 9),\n",
       " ('access', 8),\n",
       " ('document', 8),\n",
       " ('creat', 8),\n",
       " ('real', 7)]"
      ]
     },
     "metadata": {},
     "output_type": "display_data"
    },
    {
     "data": {
      "text/plain": [
       "5     None\n",
       "6     None\n",
       "7     None\n",
       "8     None\n",
       "9     None\n",
       "10    None\n",
       "11    None\n",
       "dtype: object"
      ]
     },
     "execution_count": 7,
     "metadata": {},
     "output_type": "execute_result"
    }
   ],
   "source": [
    "# Find the most common words in each Structural pattern text\n",
    "df.iloc[5:12].loc[:, 'intent':].agg(' '.join, axis=1).apply(lambda x: display(Counter(x.split()).most_common(8)))"
   ]
  },
  {
   "cell_type": "code",
   "execution_count": 23,
   "id": "f903d9ab-b5ee-44cd-994c-2ddeca8276af",
   "metadata": {},
   "outputs": [
    {
     "data": {
      "text/plain": [
       "array(['10', '100', '107', '88', '91', 'abl', 'abouttoopendocu',\n",
       "       'abstract', 'abstractlist', 'accept', 'access', 'accommod',\n",
       "       'accomplish', 'accord', 'accordingli', 'account', 'achiev',\n",
       "       'across', 'act', 'action', 'actual', 'ad', 'adapt', 'add', 'add94',\n",
       "       'addit', 'address', 'adopt', 'advanc', 'affect', 'aggreg',\n",
       "       'algorithm', 'alloc', 'allow', 'along', 'alphabet', 'alreadi',\n",
       "       'also', 'alter', 'altern', 'alternationexpress', 'although',\n",
       "       'alway', 'ambassador', 'among', 'analys', 'analysi', 'anappl',\n",
       "       'anim', 'anoth', 'anticip', 'anyth', 'anyway', 'anywher', 'appear',\n",
       "       'appli', 'applic', 'appreci', 'approach', 'appropri',\n",
       "       'aprintbutton', 'aprintdialog', 'argument', 'arithmet', 'around',\n",
       "       'arrang', 'arraycompositor', 'ascertain', 'ascii', 'asciiconvert',\n",
       "       'ask', 'aspect', 'assembl', 'assign', 'assignmentnod', 'associ',\n",
       "       'assum', 'assumpt', 'attach', 'augment', 'automat', 'avail',\n",
       "       'avoid', 'awar', 'back', 'backward', 'balanc', 'bar', 'bare',\n",
       "       'base', 'basic', 'becom', 'behav', 'behavior', 'behind', 'belong',\n",
       "       'benefit', 'best', 'better', 'beyond'], dtype=object)"
      ]
     },
     "metadata": {},
     "output_type": "display_data"
    },
    {
     "data": {
      "text/plain": [
       "array([0, 0, 0, 0, 0, 0, 0, 5, 0, 0, 0, 0, 0, 0, 0, 0, 0, 1, 0, 0, 0, 0,\n",
       "       0, 0, 0, 0, 0, 0, 0, 0, 0, 0, 0, 0, 0, 0, 0, 2, 0, 0, 0, 0, 0, 0,\n",
       "       0, 0, 0, 0, 0, 0, 0, 0, 0, 0, 1, 0, 2, 0, 0, 1, 0, 0, 0, 0, 0, 0,\n",
       "       0, 0, 0, 0, 0, 0, 0, 0, 0, 0, 0, 0, 0, 0, 1, 0, 0, 1, 0, 0, 0, 4,\n",
       "       0, 0, 1, 0, 0, 1, 0, 0, 0, 0, 0, 0])"
      ]
     },
     "metadata": {},
     "output_type": "display_data"
    },
    {
     "data": {
      "text/plain": [
       "5"
      ]
     },
     "metadata": {},
     "output_type": "display_data"
    }
   ],
   "source": [
    "from sklearn.feature_extraction.text import TfidfVectorizer, CountVectorizer\n",
    "import numpy as np\n",
    "import sys\n",
    "\n",
    "# Merge all the problem domain columns into a list\n",
    "problem_domain = df.loc[:, 'intent':'applicability'].agg(' '.join, axis=1).tolist()\n",
    "\n",
    "count_vectorizer = CountVectorizer()\n",
    "\n",
    "# np.set_printoptions(threshold=sys.maxsize)\n",
    "\n",
    "count_matrix = count_vectorizer.fit_transform(problem_domain)\n",
    "binary_matrix = CountVectorizer(binary=True).fit_transform(problem_domain)\n",
    "\n",
    "\"\"\"\n",
    "Here's a quick demonstration on how the CountVectorizer works.\n",
    "- The first array that's printed is a truncated list of all the words in the vocabulary, i.e., the features.\n",
    "- The second output is the truncated counts of each word in the problem domain for Abstract Factory. Observe that 'abstract' is counted 5 times.\n",
    "- The third output is the manual count of 'abstract' in the problem domain, which is indeed 5!\n",
    "\"\"\"\n",
    "display(count_vectorizer.get_feature_names_out()[:100])\n",
    "display(count_matrix.toarray()[0][:100])\n",
    "display(problem_domain[0].count('abstract'))\n"
   ]
  },
  {
   "cell_type": "code",
   "execution_count": 9,
   "id": "539d0fc7-bf5e-4da2-8562-82a4d80da21b",
   "metadata": {},
   "outputs": [
    {
     "data": {
      "text/plain": [
       "array(['10 differ', '100 charact', '107 use', '88 wgm88', '91 refer',\n",
       "       'abl convert', 'abl creat', 'abl drag', 'abl ignor', 'abl notifi',\n",
       "       'abl use', 'abl write', 'abouttoopendocu case', 'abstract applic',\n",
       "       'abstract class', 'abstract client', 'abstract command',\n",
       "       'abstract complet', 'abstract compositor', 'abstract concret'],\n",
       "      dtype=object)"
      ]
     },
     "metadata": {},
     "output_type": "display_data"
    },
    {
     "data": {
      "text/plain": [
       "array([0, 0, 0, 0, 0, 0, 0, 0, 0, 0, 0, 0, 0, 0, 2, 0, 0, 0, 0, 0])"
      ]
     },
     "metadata": {},
     "output_type": "display_data"
    },
    {
     "data": {
      "text/plain": [
       "2"
      ]
     },
     "metadata": {},
     "output_type": "display_data"
    }
   ],
   "source": [
    "# Similar example with 2grams\n",
    "count_vectorizer2 = CountVectorizer(ngram_range=(2, 2))\n",
    "\n",
    "count_matrix2 = count_vectorizer2.fit_transform(problem_domain)\n",
    "\n",
    "display(count_vectorizer2.get_feature_names_out()[:20])\n",
    "display(count_matrix2.toarray()[0][:20])\n",
    "display(problem_domain[0].count('abstract class'))"
   ]
  },
  {
   "cell_type": "code",
   "execution_count": 24,
   "id": "bbf9473c-193b-4fe1-ab58-e4617348c632",
   "metadata": {},
   "outputs": [],
   "source": [
    "from sklearn.feature_extraction.text import TfidfTransformer\n",
    "\n",
    "tfidf_transformer = TfidfTransformer()\n",
    "tfidf_matrix = tfidf_transformer.fit_transform(count_matrix)\n",
    "tfidf_binary = tfidf_transformer.fit_transform(binary_matrix)\n",
    "pd.set_option('display.max_colwidth', None)\n",
    "\n",
    "# with np.printoptions(threshold=np.inf):\n",
    "#     display(tfidf_matrix.toarray())\n"
   ]
  },
  {
   "cell_type": "code",
   "execution_count": 11,
   "id": "4288a8ea-5a33-456a-80e8-0ffc02a9bc85",
   "metadata": {},
   "outputs": [
    {
     "data": {
      "text/plain": [
       "array(['10', '100', '107', '88', '91', 'abl', 'abouttoopendocu',\n",
       "       'abstract', 'abstractlist', 'accept'], dtype=object)"
      ]
     },
     "metadata": {},
     "output_type": "display_data"
    }
   ],
   "source": [
    "terms = count_vectorizer.get_feature_names_out()\n",
    "\n",
    "display(terms[:10])\n",
    "\n",
    "from sklearn.metrics.pairwise import cosine_similarity\n",
    "dist = 1 - cosine_similarity(tfidf_matrix)"
   ]
  },
  {
   "cell_type": "code",
   "execution_count": 25,
   "id": "0b484c75-aa47-436b-8d95-b1e7df728d5d",
   "metadata": {},
   "outputs": [
    {
     "name": "stdout",
     "output_type": "stream",
     "text": [
      "CPU times: user 116 ms, sys: 46.2 ms, total: 162 ms\n",
      "Wall time: 38.5 ms\n",
      "Binary weighting:\n"
     ]
    },
    {
     "data": {
      "text/plain": [
       "[2, 1, 2, 2, 2, 2, 2, 0, 1, 2, 1, 1, 1, 1, 0, 0, 1, 1, 2, 0, 2, 1, 0]"
      ]
     },
     "metadata": {},
     "output_type": "display_data"
    },
    {
     "name": "stdout",
     "output_type": "stream",
     "text": [
      "Count weighting:\n"
     ]
    },
    {
     "data": {
      "text/plain": [
       "[0, 1, 1, 1, 1, 0, 0, 0, 0, 0, 1, 1, 1, 1, 0, 0, 1, 2, 2, 2, 0, 1, 0]"
      ]
     },
     "metadata": {},
     "output_type": "display_data"
    }
   ],
   "source": [
    "from sklearn.cluster import KMeans\n",
    "\n",
    "num_clusters = 3\n",
    "\n",
    "km = KMeans(n_clusters=num_clusters)\n",
    "\n",
    "%time km.fit(tfidf_matrix)\n",
    "\n",
    "clusters = km.labels_.tolist()\n",
    "print(\"Binary weighting:\")\n",
    "display(KMeans(n_clusters=3).fit(tfidf_binary).labels_.tolist())\n",
    "print(\"Count weighting:\")\n",
    "display(clusters)"
   ]
  },
  {
   "cell_type": "code",
   "execution_count": 28,
   "id": "2bff5504-bcd3-4a58-a075-487ebfdf784a",
   "metadata": {},
   "outputs": [
    {
     "name": "stdout",
     "output_type": "stream",
     "text": [
      "=======Binary weighting=======\n",
      "Ward:\n"
     ]
    },
    {
     "data": {
      "text/plain": [
       "[2, 0, 2, 1, 2, 1, 2, 1, 1, 0, 1, 2, 0, 0, 0, 0, 0, 0, 0, 0, 0, 2, 0]"
      ]
     },
     "metadata": {},
     "output_type": "display_data"
    },
    {
     "name": "stdout",
     "output_type": "stream",
     "text": [
      "Complete:\n"
     ]
    },
    {
     "data": {
      "text/plain": [
       "[1, 2, 1, 0, 1, 1, 0, 2, 0, 0, 2, 0, 0, 2, 2, 0, 0, 2, 0, 0, 0, 0, 0]"
      ]
     },
     "metadata": {},
     "output_type": "display_data"
    },
    {
     "name": "stdout",
     "output_type": "stream",
     "text": [
      "Average:\n"
     ]
    },
    {
     "data": {
      "text/plain": [
       "[0, 0, 0, 0, 1, 0, 0, 0, 0, 2, 0, 0, 0, 0, 0, 0, 0, 0, 0, 0, 0, 0, 0]"
      ]
     },
     "metadata": {},
     "output_type": "display_data"
    },
    {
     "name": "stdout",
     "output_type": "stream",
     "text": [
      "Single:\n"
     ]
    },
    {
     "data": {
      "text/plain": [
       "[0, 2, 0, 0, 1, 0, 0, 0, 0, 0, 0, 0, 0, 0, 0, 0, 0, 0, 0, 0, 0, 0, 0]"
      ]
     },
     "metadata": {},
     "output_type": "display_data"
    },
    {
     "name": "stdout",
     "output_type": "stream",
     "text": [
      "\n",
      "=======Count weighting=======\n",
      "Ward:\n"
     ]
    },
    {
     "data": {
      "text/plain": [
       "[0, 0, 2, 0, 0, 0, 0, 0, 0, 0, 0, 0, 0, 0, 0, 0, 0, 1, 1, 1, 0, 2, 0]"
      ]
     },
     "metadata": {},
     "output_type": "display_data"
    },
    {
     "name": "stdout",
     "output_type": "stream",
     "text": [
      "Complete:\n"
     ]
    },
    {
     "data": {
      "text/plain": [
       "[0, 0, 0, 0, 0, 0, 0, 0, 0, 2, 0, 0, 0, 0, 1, 0, 0, 0, 0, 0, 0, 0, 0]"
      ]
     },
     "metadata": {},
     "output_type": "display_data"
    },
    {
     "name": "stdout",
     "output_type": "stream",
     "text": [
      "Average:\n"
     ]
    },
    {
     "data": {
      "text/plain": [
       "[0, 0, 0, 0, 0, 0, 0, 0, 0, 2, 0, 0, 0, 0, 1, 0, 0, 0, 0, 0, 0, 0, 0]"
      ]
     },
     "metadata": {},
     "output_type": "display_data"
    },
    {
     "name": "stdout",
     "output_type": "stream",
     "text": [
      "Single:\n"
     ]
    },
    {
     "data": {
      "text/plain": [
       "[0, 0, 0, 0, 0, 0, 0, 0, 0, 1, 0, 0, 0, 0, 2, 0, 0, 0, 0, 0, 0, 0, 0]"
      ]
     },
     "metadata": {},
     "output_type": "display_data"
    }
   ],
   "source": [
    "# Agglomerative clustering\n",
    "from sklearn.cluster import AgglomerativeClustering\n",
    "\n",
    "print(\"=======Binary weighting=======\")\n",
    "agglom_ward = AgglomerativeClustering(n_clusters=3).fit(tfidf_binary.toarray())\n",
    "agglom_complete = AgglomerativeClustering(n_clusters=3,linkage='complete').fit(tfidf_binary.toarray())\n",
    "agglom_avg = AgglomerativeClustering(n_clusters=3,linkage='average').fit(tfidf_binary.toarray())\n",
    "agglom_single = AgglomerativeClustering(n_clusters=3,linkage='single').fit(tfidf_binary.toarray())\n",
    "\n",
    "print('Ward:')\n",
    "display(agglom_ward.labels_.tolist())\n",
    "print('Complete:')\n",
    "display(agglom_complete.labels_.tolist())\n",
    "print('Average:')\n",
    "display(agglom_avg.labels_.tolist())\n",
    "print('Single:')\n",
    "display(agglom_single.labels_.tolist())\n",
    "\n",
    "print()\n",
    "print(\"=======Count weighting=======\")\n",
    "agglom_ward = AgglomerativeClustering(n_clusters=3).fit(tfidf_matrix.toarray())\n",
    "agglom_complete = AgglomerativeClustering(n_clusters=3,linkage='complete').fit(tfidf_matrix.toarray())\n",
    "agglom_avg = AgglomerativeClustering(n_clusters=3,linkage='average').fit(tfidf_matrix.toarray())\n",
    "agglom_single = AgglomerativeClustering(n_clusters=3,linkage='single').fit(tfidf_matrix.toarray())\n",
    "\n",
    "print('Ward:')\n",
    "display(agglom_ward.labels_.tolist())\n",
    "print('Complete:')\n",
    "display(agglom_complete.labels_.tolist())\n",
    "print('Average:')\n",
    "display(agglom_avg.labels_.tolist())\n",
    "print('Single:')\n",
    "display(agglom_single.labels_.tolist())"
   ]
  },
  {
   "cell_type": "code",
   "execution_count": 14,
   "id": "cb089673-3974-4c80-b4bf-68b00bd82c4a",
   "metadata": {},
   "outputs": [],
   "source": [
    "# All agglomerative clustering strategies seem to produce poor clusters.\n",
    "# Probably not worth visualizing these."
   ]
  },
  {
   "cell_type": "code",
   "execution_count": 15,
   "id": "542a44cf-7e0a-4465-875e-88afac345a65",
   "metadata": {},
   "outputs": [],
   "source": [
    "import joblib\n",
    "\n",
    "#uncomment the below to save your model \n",
    "#since I've already run my model I am loading from the pickle\n",
    "\n",
    "joblib.dump(km,  'doc_cluster1.pkl')\n",
    "\n",
    "km = joblib.load('doc_cluster1.pkl')\n",
    "clusters = km.labels_.tolist()"
   ]
  },
  {
   "cell_type": "code",
   "execution_count": 16,
   "id": "d7347634-e883-4552-b35c-1c4da857702a",
   "metadata": {},
   "outputs": [],
   "source": [
    "patterns = {\n",
    "    'name': df['name'].tolist(),\n",
    "    'intent': df['intent'].tolist(),\n",
    "    'motivation': df['motivation'].tolist(),\n",
    "    'applicability': df['applicability'].tolist(),\n",
    "    'cluster': clusters\n",
    "}\n",
    "\n",
    "frame = pd.DataFrame(patterns, index = [clusters] , columns = ['name', 'intent', 'motivation', 'applicability', 'cluster'])"
   ]
  },
  {
   "cell_type": "code",
   "execution_count": 17,
   "id": "9b1431c5-eddf-48d4-8228-d210569ceb48",
   "metadata": {},
   "outputs": [
    {
     "data": {
      "text/plain": [
       "1    12\n",
       "2     8\n",
       "0     3\n",
       "Name: cluster, dtype: int64"
      ]
     },
     "execution_count": 17,
     "metadata": {},
     "output_type": "execute_result"
    }
   ],
   "source": [
    "frame['cluster'].value_counts()\n",
    "\n",
    "# display(frame)"
   ]
  },
  {
   "cell_type": "code",
   "execution_count": 18,
   "id": "4cf46395-f11f-41cc-8cbf-c8f203b7378e",
   "metadata": {},
   "outputs": [
    {
     "name": "stdout",
     "output_type": "stream",
     "text": [
      "Top terms per cluster:\n",
      "\n",
      "Cluster 0 words: b'state', b'objects', b'connects', b'observer', b'constraintsolver', b'memento',\n",
      "\n",
      "Cluster 0 names: memento, observer, state,\n",
      "\n",
      "Cluster 1 words: b'classes', b'objects', b'interface', b'implementation', b'list', b'subsystem',\n",
      "\n",
      "Cluster 1 names: abstract factory, prototype, adapter, bridge, composite, decorator, facade, interpreter, iterator, mediator, strategy, visitor,\n",
      "\n",
      "Cluster 2 words: b'document', b'objects', b'request', b'application', b'classes', b'commands',\n",
      "\n",
      "Cluster 2 names: builder, factory method, singleton, flyweight, proxy, chain of responsibility, command, template method,\n",
      "\n",
      "\n",
      "\n"
     ]
    }
   ],
   "source": [
    "from __future__ import print_function\n",
    "\n",
    "print(\"Top terms per cluster:\")\n",
    "print()\n",
    "#sort cluster centers by proximity to centroid\n",
    "order_centroids = km.cluster_centers_.argsort()[:, ::-1] \n",
    "\n",
    "for i in range(num_clusters):\n",
    "    print(\"Cluster %d words:\" % i, end='')\n",
    "    \n",
    "    for ind in order_centroids[i, :6]: #replace 6 with n words per cluster\n",
    "        print(' %s' % vocab_frame.loc[terms[ind].split(' ')].values.tolist()[0][0].encode('utf-8', 'ignore'), end=',')\n",
    "    print() #add whitespace\n",
    "    print() #add whitespace\n",
    "    \n",
    "    print(\"Cluster %d names:\" % i, end='')\n",
    "    for title in frame.loc[i]['name'].values.tolist():\n",
    "        print(' %s,' % title, end='')\n",
    "    print() #add whitespace\n",
    "    print() #add whitespace\n",
    "    \n",
    "print()\n",
    "print()"
   ]
  },
  {
   "cell_type": "code",
   "execution_count": 19,
   "id": "d54f8e11-ead9-4735-91d0-afb472c3923b",
   "metadata": {},
   "outputs": [
    {
     "name": "stdout",
     "output_type": "stream",
     "text": [
      "\n",
      "\n"
     ]
    }
   ],
   "source": [
    "import os  # for os.path.basename\n",
    "\n",
    "import matplotlib.pyplot as plt\n",
    "import matplotlib as mpl\n",
    "\n",
    "from sklearn.manifold import MDS\n",
    "\n",
    "MDS()\n",
    "\n",
    "# convert two components as we're plotting points in a two-dimensional plane\n",
    "# \"precomputed\" because we provide a distance matrix\n",
    "# we will also specify `random_state` so the plot is reproducible.\n",
    "mds = MDS(n_components=2, dissimilarity=\"precomputed\", random_state=1)\n",
    "\n",
    "pos = mds.fit_transform(dist)  # shape (n_components, n_samples)\n",
    "\n",
    "xs, ys = pos[:, 0], pos[:, 1]\n",
    "print()\n",
    "print()"
   ]
  },
  {
   "cell_type": "code",
   "execution_count": 20,
   "id": "eec235b9-f564-4689-a73d-c9a1726b5792",
   "metadata": {},
   "outputs": [],
   "source": [
    "#set up colors per clusters using a dict\n",
    "cluster_colors = {0: '#1b9e77', 1: '#d95f02', 2: '#7570b3', 3: '#e7298a', 4: '#66a61e'}\n",
    "\n",
    "#set up cluster names using a dict\n",
    "cluster_names = {0: 'objects, classes, list, access, request, instance', \n",
    "                 1: 'classes, document, algorithms, subclasses, application, implementation', \n",
    "                 2: 'state, objects, connects, observer, constraintsolver, memento'}"
   ]
  },
  {
   "cell_type": "code",
   "execution_count": 21,
   "id": "1f175366-b5e2-4401-8289-f80cafd81720",
   "metadata": {},
   "outputs": [
    {
     "data": {
      "text/html": [
       "<div>\n",
       "<style scoped>\n",
       "    .dataframe tbody tr th:only-of-type {\n",
       "        vertical-align: middle;\n",
       "    }\n",
       "\n",
       "    .dataframe tbody tr th {\n",
       "        vertical-align: top;\n",
       "    }\n",
       "\n",
       "    .dataframe thead th {\n",
       "        text-align: right;\n",
       "    }\n",
       "</style>\n",
       "<table border=\"1\" class=\"dataframe\">\n",
       "  <thead>\n",
       "    <tr style=\"text-align: right;\">\n",
       "      <th></th>\n",
       "      <th>x</th>\n",
       "      <th>y</th>\n",
       "      <th>label</th>\n",
       "      <th>title</th>\n",
       "    </tr>\n",
       "  </thead>\n",
       "  <tbody>\n",
       "    <tr>\n",
       "      <th>0</th>\n",
       "      <td>0.172723</td>\n",
       "      <td>0.035116</td>\n",
       "      <td>1</td>\n",
       "      <td>abstract factory</td>\n",
       "    </tr>\n",
       "    <tr>\n",
       "      <th>1</th>\n",
       "      <td>-0.025293</td>\n",
       "      <td>-0.632781</td>\n",
       "      <td>2</td>\n",
       "      <td>builder</td>\n",
       "    </tr>\n",
       "    <tr>\n",
       "      <th>2</th>\n",
       "      <td>0.282821</td>\n",
       "      <td>-0.191219</td>\n",
       "      <td>2</td>\n",
       "      <td>factory method</td>\n",
       "    </tr>\n",
       "    <tr>\n",
       "      <th>3</th>\n",
       "      <td>-0.614473</td>\n",
       "      <td>0.260468</td>\n",
       "      <td>1</td>\n",
       "      <td>prototype</td>\n",
       "    </tr>\n",
       "    <tr>\n",
       "      <th>4</th>\n",
       "      <td>-0.625157</td>\n",
       "      <td>0.020116</td>\n",
       "      <td>2</td>\n",
       "      <td>singleton</td>\n",
       "    </tr>\n",
       "    <tr>\n",
       "      <th>5</th>\n",
       "      <td>0.658537</td>\n",
       "      <td>-0.139580</td>\n",
       "      <td>1</td>\n",
       "      <td>adapter</td>\n",
       "    </tr>\n",
       "    <tr>\n",
       "      <th>6</th>\n",
       "      <td>0.623615</td>\n",
       "      <td>0.065654</td>\n",
       "      <td>1</td>\n",
       "      <td>bridge</td>\n",
       "    </tr>\n",
       "    <tr>\n",
       "      <th>7</th>\n",
       "      <td>-0.116975</td>\n",
       "      <td>0.253777</td>\n",
       "      <td>1</td>\n",
       "      <td>composite</td>\n",
       "    </tr>\n",
       "    <tr>\n",
       "      <th>8</th>\n",
       "      <td>0.184649</td>\n",
       "      <td>0.653806</td>\n",
       "      <td>1</td>\n",
       "      <td>decorator</td>\n",
       "    </tr>\n",
       "    <tr>\n",
       "      <th>9</th>\n",
       "      <td>-0.319910</td>\n",
       "      <td>-0.637146</td>\n",
       "      <td>1</td>\n",
       "      <td>facade</td>\n",
       "    </tr>\n",
       "    <tr>\n",
       "      <th>10</th>\n",
       "      <td>0.525498</td>\n",
       "      <td>0.288308</td>\n",
       "      <td>2</td>\n",
       "      <td>flyweight</td>\n",
       "    </tr>\n",
       "    <tr>\n",
       "      <th>11</th>\n",
       "      <td>-0.414244</td>\n",
       "      <td>0.363628</td>\n",
       "      <td>2</td>\n",
       "      <td>proxy</td>\n",
       "    </tr>\n",
       "    <tr>\n",
       "      <th>12</th>\n",
       "      <td>0.446315</td>\n",
       "      <td>0.525158</td>\n",
       "      <td>2</td>\n",
       "      <td>chain of responsibility</td>\n",
       "    </tr>\n",
       "    <tr>\n",
       "      <th>13</th>\n",
       "      <td>0.315163</td>\n",
       "      <td>-0.441469</td>\n",
       "      <td>2</td>\n",
       "      <td>command</td>\n",
       "    </tr>\n",
       "    <tr>\n",
       "      <th>14</th>\n",
       "      <td>-0.555650</td>\n",
       "      <td>-0.471359</td>\n",
       "      <td>1</td>\n",
       "      <td>interpreter</td>\n",
       "    </tr>\n",
       "    <tr>\n",
       "      <th>15</th>\n",
       "      <td>-0.592752</td>\n",
       "      <td>-0.202531</td>\n",
       "      <td>1</td>\n",
       "      <td>iterator</td>\n",
       "    </tr>\n",
       "    <tr>\n",
       "      <th>16</th>\n",
       "      <td>0.215274</td>\n",
       "      <td>0.365638</td>\n",
       "      <td>1</td>\n",
       "      <td>mediator</td>\n",
       "    </tr>\n",
       "    <tr>\n",
       "      <th>17</th>\n",
       "      <td>-0.309343</td>\n",
       "      <td>0.630887</td>\n",
       "      <td>0</td>\n",
       "      <td>memento</td>\n",
       "    </tr>\n",
       "    <tr>\n",
       "      <th>18</th>\n",
       "      <td>-0.258403</td>\n",
       "      <td>0.008387</td>\n",
       "      <td>0</td>\n",
       "      <td>observer</td>\n",
       "    </tr>\n",
       "    <tr>\n",
       "      <th>19</th>\n",
       "      <td>-0.123931</td>\n",
       "      <td>0.616743</td>\n",
       "      <td>0</td>\n",
       "      <td>state</td>\n",
       "    </tr>\n",
       "    <tr>\n",
       "      <th>20</th>\n",
       "      <td>0.206565</td>\n",
       "      <td>-0.662017</td>\n",
       "      <td>1</td>\n",
       "      <td>strategy</td>\n",
       "    </tr>\n",
       "    <tr>\n",
       "      <th>21</th>\n",
       "      <td>0.498978</td>\n",
       "      <td>-0.379757</td>\n",
       "      <td>2</td>\n",
       "      <td>template method</td>\n",
       "    </tr>\n",
       "    <tr>\n",
       "      <th>22</th>\n",
       "      <td>-0.174008</td>\n",
       "      <td>-0.329827</td>\n",
       "      <td>1</td>\n",
       "      <td>visitor</td>\n",
       "    </tr>\n",
       "  </tbody>\n",
       "</table>\n",
       "</div>"
      ],
      "text/plain": [
       "           x         y  label                    title\n",
       "0   0.172723  0.035116      1         abstract factory\n",
       "1  -0.025293 -0.632781      2                  builder\n",
       "2   0.282821 -0.191219      2           factory method\n",
       "3  -0.614473  0.260468      1                prototype\n",
       "4  -0.625157  0.020116      2                singleton\n",
       "5   0.658537 -0.139580      1                  adapter\n",
       "6   0.623615  0.065654      1                   bridge\n",
       "7  -0.116975  0.253777      1                composite\n",
       "8   0.184649  0.653806      1                decorator\n",
       "9  -0.319910 -0.637146      1                   facade\n",
       "10  0.525498  0.288308      2                flyweight\n",
       "11 -0.414244  0.363628      2                    proxy\n",
       "12  0.446315  0.525158      2  chain of responsibility\n",
       "13  0.315163 -0.441469      2                  command\n",
       "14 -0.555650 -0.471359      1              interpreter\n",
       "15 -0.592752 -0.202531      1                 iterator\n",
       "16  0.215274  0.365638      1                 mediator\n",
       "17 -0.309343  0.630887      0                  memento\n",
       "18 -0.258403  0.008387      0                 observer\n",
       "19 -0.123931  0.616743      0                    state\n",
       "20  0.206565 -0.662017      1                 strategy\n",
       "21  0.498978 -0.379757      2          template method\n",
       "22 -0.174008 -0.329827      1                  visitor"
      ]
     },
     "metadata": {},
     "output_type": "display_data"
    },
    {
     "data": {
      "image/png": "[encoded data removed]",
      "text/plain": [
       "<Figure size 1700x900 with 1 Axes>"
      ]
     },
     "metadata": {},
     "output_type": "display_data"
    },
    {
     "data": {
      "text/html": [
       "<div>\n",
       "<style scoped>\n",
       "    .dataframe tbody tr th:only-of-type {\n",
       "        vertical-align: middle;\n",
       "    }\n",
       "\n",
       "    .dataframe tbody tr th {\n",
       "        vertical-align: top;\n",
       "    }\n",
       "\n",
       "    .dataframe thead th {\n",
       "        text-align: right;\n",
       "    }\n",
       "</style>\n",
       "<table border=\"1\" class=\"dataframe\">\n",
       "  <thead>\n",
       "    <tr style=\"text-align: right;\">\n",
       "      <th></th>\n",
       "      <th>x</th>\n",
       "      <th>y</th>\n",
       "      <th>label</th>\n",
       "      <th>title</th>\n",
       "    </tr>\n",
       "  </thead>\n",
       "  <tbody>\n",
       "    <tr>\n",
       "      <th>19</th>\n",
       "      <td>-0.123931</td>\n",
       "      <td>0.616743</td>\n",
       "      <td>0</td>\n",
       "      <td>state</td>\n",
       "    </tr>\n",
       "    <tr>\n",
       "      <th>18</th>\n",
       "      <td>-0.258403</td>\n",
       "      <td>0.008387</td>\n",
       "      <td>0</td>\n",
       "      <td>observer</td>\n",
       "    </tr>\n",
       "    <tr>\n",
       "      <th>17</th>\n",
       "      <td>-0.309343</td>\n",
       "      <td>0.630887</td>\n",
       "      <td>0</td>\n",
       "      <td>memento</td>\n",
       "    </tr>\n",
       "    <tr>\n",
       "      <th>0</th>\n",
       "      <td>0.172723</td>\n",
       "      <td>0.035116</td>\n",
       "      <td>1</td>\n",
       "      <td>abstract factory</td>\n",
       "    </tr>\n",
       "    <tr>\n",
       "      <th>20</th>\n",
       "      <td>0.206565</td>\n",
       "      <td>-0.662017</td>\n",
       "      <td>1</td>\n",
       "      <td>strategy</td>\n",
       "    </tr>\n",
       "    <tr>\n",
       "      <th>16</th>\n",
       "      <td>0.215274</td>\n",
       "      <td>0.365638</td>\n",
       "      <td>1</td>\n",
       "      <td>mediator</td>\n",
       "    </tr>\n",
       "    <tr>\n",
       "      <th>15</th>\n",
       "      <td>-0.592752</td>\n",
       "      <td>-0.202531</td>\n",
       "      <td>1</td>\n",
       "      <td>iterator</td>\n",
       "    </tr>\n",
       "    <tr>\n",
       "      <th>14</th>\n",
       "      <td>-0.555650</td>\n",
       "      <td>-0.471359</td>\n",
       "      <td>1</td>\n",
       "      <td>interpreter</td>\n",
       "    </tr>\n",
       "    <tr>\n",
       "      <th>9</th>\n",
       "      <td>-0.319910</td>\n",
       "      <td>-0.637146</td>\n",
       "      <td>1</td>\n",
       "      <td>facade</td>\n",
       "    </tr>\n",
       "    <tr>\n",
       "      <th>22</th>\n",
       "      <td>-0.174008</td>\n",
       "      <td>-0.329827</td>\n",
       "      <td>1</td>\n",
       "      <td>visitor</td>\n",
       "    </tr>\n",
       "    <tr>\n",
       "      <th>7</th>\n",
       "      <td>-0.116975</td>\n",
       "      <td>0.253777</td>\n",
       "      <td>1</td>\n",
       "      <td>composite</td>\n",
       "    </tr>\n",
       "    <tr>\n",
       "      <th>6</th>\n",
       "      <td>0.623615</td>\n",
       "      <td>0.065654</td>\n",
       "      <td>1</td>\n",
       "      <td>bridge</td>\n",
       "    </tr>\n",
       "    <tr>\n",
       "      <th>5</th>\n",
       "      <td>0.658537</td>\n",
       "      <td>-0.139580</td>\n",
       "      <td>1</td>\n",
       "      <td>adapter</td>\n",
       "    </tr>\n",
       "    <tr>\n",
       "      <th>3</th>\n",
       "      <td>-0.614473</td>\n",
       "      <td>0.260468</td>\n",
       "      <td>1</td>\n",
       "      <td>prototype</td>\n",
       "    </tr>\n",
       "    <tr>\n",
       "      <th>8</th>\n",
       "      <td>0.184649</td>\n",
       "      <td>0.653806</td>\n",
       "      <td>1</td>\n",
       "      <td>decorator</td>\n",
       "    </tr>\n",
       "    <tr>\n",
       "      <th>10</th>\n",
       "      <td>0.525498</td>\n",
       "      <td>0.288308</td>\n",
       "      <td>2</td>\n",
       "      <td>flyweight</td>\n",
       "    </tr>\n",
       "    <tr>\n",
       "      <th>21</th>\n",
       "      <td>0.498978</td>\n",
       "      <td>-0.379757</td>\n",
       "      <td>2</td>\n",
       "      <td>template method</td>\n",
       "    </tr>\n",
       "    <tr>\n",
       "      <th>12</th>\n",
       "      <td>0.446315</td>\n",
       "      <td>0.525158</td>\n",
       "      <td>2</td>\n",
       "      <td>chain of responsibility</td>\n",
       "    </tr>\n",
       "    <tr>\n",
       "      <th>13</th>\n",
       "      <td>0.315163</td>\n",
       "      <td>-0.441469</td>\n",
       "      <td>2</td>\n",
       "      <td>command</td>\n",
       "    </tr>\n",
       "    <tr>\n",
       "      <th>4</th>\n",
       "      <td>-0.625157</td>\n",
       "      <td>0.020116</td>\n",
       "      <td>2</td>\n",
       "      <td>singleton</td>\n",
       "    </tr>\n",
       "    <tr>\n",
       "      <th>2</th>\n",
       "      <td>0.282821</td>\n",
       "      <td>-0.191219</td>\n",
       "      <td>2</td>\n",
       "      <td>factory method</td>\n",
       "    </tr>\n",
       "    <tr>\n",
       "      <th>1</th>\n",
       "      <td>-0.025293</td>\n",
       "      <td>-0.632781</td>\n",
       "      <td>2</td>\n",
       "      <td>builder</td>\n",
       "    </tr>\n",
       "    <tr>\n",
       "      <th>11</th>\n",
       "      <td>-0.414244</td>\n",
       "      <td>0.363628</td>\n",
       "      <td>2</td>\n",
       "      <td>proxy</td>\n",
       "    </tr>\n",
       "  </tbody>\n",
       "</table>\n",
       "</div>"
      ],
      "text/plain": [
       "           x         y  label                    title\n",
       "19 -0.123931  0.616743      0                    state\n",
       "18 -0.258403  0.008387      0                 observer\n",
       "17 -0.309343  0.630887      0                  memento\n",
       "0   0.172723  0.035116      1         abstract factory\n",
       "20  0.206565 -0.662017      1                 strategy\n",
       "16  0.215274  0.365638      1                 mediator\n",
       "15 -0.592752 -0.202531      1                 iterator\n",
       "14 -0.555650 -0.471359      1              interpreter\n",
       "9  -0.319910 -0.637146      1                   facade\n",
       "22 -0.174008 -0.329827      1                  visitor\n",
       "7  -0.116975  0.253777      1                composite\n",
       "6   0.623615  0.065654      1                   bridge\n",
       "5   0.658537 -0.139580      1                  adapter\n",
       "3  -0.614473  0.260468      1                prototype\n",
       "8   0.184649  0.653806      1                decorator\n",
       "10  0.525498  0.288308      2                flyweight\n",
       "21  0.498978 -0.379757      2          template method\n",
       "12  0.446315  0.525158      2  chain of responsibility\n",
       "13  0.315163 -0.441469      2                  command\n",
       "4  -0.625157  0.020116      2                singleton\n",
       "2   0.282821 -0.191219      2           factory method\n",
       "1  -0.025293 -0.632781      2                  builder\n",
       "11 -0.414244  0.363628      2                    proxy"
      ]
     },
     "metadata": {},
     "output_type": "display_data"
    }
   ],
   "source": [
    "\n",
    "#some ipython magic to show the matplotlib plots inline\n",
    "%matplotlib inline\n",
    "\n",
    "#create data frame that has the result of the MDS plus the cluster numbers and titles\n",
    "df2 = pd.DataFrame(dict(x=xs, y=ys, label=clusters, title=df['name'].tolist())) \n",
    "\n",
    "display(df2)\n",
    "\n",
    "#group by cluster\n",
    "groups = df2.groupby('label')\n",
    "\n",
    "\n",
    "# set up plot\n",
    "fig, ax = plt.subplots(figsize=(17, 9)) # set size\n",
    "ax.margins(0.05) # Optional, just adds 5% padding to the autoscaling\n",
    "\n",
    "#iterate through groups to layer the plot\n",
    "#note that I use the cluster_name and cluster_color dicts with the 'name' lookup to return the appropriate color/label\n",
    "for name, group in groups:\n",
    "    ax.plot(group.x, group.y, marker='o', linestyle='', ms=12, \n",
    "            label=cluster_names[name], color=cluster_colors[name], \n",
    "            mec='none')\n",
    "    ax.set_aspect('auto')\n",
    "    ax.tick_params(\\\n",
    "        axis= 'x',          # changes apply to the x-axis\n",
    "        which='both',      # both major and minor ticks are affected\n",
    "        bottom='off',      # ticks along the bottom edge are off\n",
    "        top='off',         # ticks along the top edge are off\n",
    "        labelbottom='off')\n",
    "    ax.tick_params(\\\n",
    "        axis= 'y',         # changes apply to the y-axis\n",
    "        which='both',      # both major and minor ticks are affected\n",
    "        left='off',      # ticks along the bottom edge are off\n",
    "        top='off',         # ticks along the top edge are off\n",
    "        labelleft='off')\n",
    "    \n",
    "ax.legend(numpoints=1)  #show legend with only 1 point\n",
    "\n",
    "#add label in x,y position with the label as the film title\n",
    "\n",
    "\n",
    "for i in range(len(df2)):\n",
    "    ax.text(df2.loc[i]['x'], df2.loc[i]['y'], df2.loc[i]['title'], size=8)  \n",
    "\n",
    "    \n",
    "    \n",
    "plt.show() #show the plot\n",
    "\n",
    "#uncomment the below to save the plot if need be\n",
    "#plt.savefig('clusters_small_noaxes.png', dpi=200)\n",
    "\n",
    "display(df2.sort_values(by='label'))\n",
    "\n",
    "# correct_clusters = pd.DataFrame({\n",
    "#     'title': ['abstract factory', 'builder', 'factory method','prototype', 'singleton',\n",
    "#               'adapter', 'bridge', 'composite', 'decorator', 'facade', 'flyweight', 'proxy',\n",
    "#             'chain of responsibility', 'command', 'interpreter', 'iterator', 'mediator', 'memento', 'observer', 'state', 'strategy', 'template method', 'visitor'],\n",
    "#     'label':[1,1,1,1,1\n",
    "    \n",
    "\n",
    "\n"
   ]
  },
  {
   "cell_type": "code",
   "execution_count": 22,
   "id": "c90d864d-30b5-43b7-9858-567c30b6adba",
   "metadata": {},
   "outputs": [
    {
     "data": {
      "text/plain": [
       "[0, 0, 0, 0, 0, 1, 1, 1, 1, 1, 1, 1, 2, 2, 2, 2, 2, 2, 2, 2, 2, 2, 2]"
      ]
     },
     "metadata": {},
     "output_type": "display_data"
    },
    {
     "data": {
      "text/plain": [
       "[1, 2, 2, 1, 2, 1, 1, 1, 1, 1, 2, 2, 2, 2, 1, 1, 1, 0, 0, 0, 1, 2, 1]"
      ]
     },
     "metadata": {},
     "output_type": "display_data"
    },
    {
     "data": {
      "text/plain": [
       "(array([0.25      , 0.28571429, 0.5       ]),\n",
       " array([0.2       , 0.28571429, 0.54545455]),\n",
       " array([0.22222222, 0.28571429, 0.52173913]),\n",
       " array([ 5,  7, 11]))"
      ]
     },
     "metadata": {},
     "output_type": "display_data"
    },
    {
     "data": {
      "text/html": [
       "<div>\n",
       "<style scoped>\n",
       "    .dataframe tbody tr th:only-of-type {\n",
       "        vertical-align: middle;\n",
       "    }\n",
       "\n",
       "    .dataframe tbody tr th {\n",
       "        vertical-align: top;\n",
       "    }\n",
       "\n",
       "    .dataframe thead th {\n",
       "        text-align: right;\n",
       "    }\n",
       "</style>\n",
       "<table border=\"1\" class=\"dataframe\">\n",
       "  <thead>\n",
       "    <tr style=\"text-align: right;\">\n",
       "      <th></th>\n",
       "      <th>name</th>\n",
       "      <th>true_cluster</th>\n",
       "      <th>pred_cluster</th>\n",
       "    </tr>\n",
       "  </thead>\n",
       "  <tbody>\n",
       "    <tr>\n",
       "      <th>0</th>\n",
       "      <td>abstract factory</td>\n",
       "      <td>0</td>\n",
       "      <td>2</td>\n",
       "    </tr>\n",
       "    <tr>\n",
       "      <th>1</th>\n",
       "      <td>builder</td>\n",
       "      <td>0</td>\n",
       "      <td>1</td>\n",
       "    </tr>\n",
       "    <tr>\n",
       "      <th>2</th>\n",
       "      <td>factory method</td>\n",
       "      <td>0</td>\n",
       "      <td>1</td>\n",
       "    </tr>\n",
       "    <tr>\n",
       "      <th>3</th>\n",
       "      <td>prototype</td>\n",
       "      <td>0</td>\n",
       "      <td>1</td>\n",
       "    </tr>\n",
       "    <tr>\n",
       "      <th>4</th>\n",
       "      <td>singleton</td>\n",
       "      <td>0</td>\n",
       "      <td>0</td>\n",
       "    </tr>\n",
       "    <tr>\n",
       "      <th>5</th>\n",
       "      <td>adapter</td>\n",
       "      <td>1</td>\n",
       "      <td>2</td>\n",
       "    </tr>\n",
       "    <tr>\n",
       "      <th>6</th>\n",
       "      <td>bridge</td>\n",
       "      <td>1</td>\n",
       "      <td>2</td>\n",
       "    </tr>\n",
       "    <tr>\n",
       "      <th>7</th>\n",
       "      <td>composite</td>\n",
       "      <td>1</td>\n",
       "      <td>2</td>\n",
       "    </tr>\n",
       "    <tr>\n",
       "      <th>8</th>\n",
       "      <td>decorator</td>\n",
       "      <td>1</td>\n",
       "      <td>2</td>\n",
       "    </tr>\n",
       "    <tr>\n",
       "      <th>9</th>\n",
       "      <td>facade</td>\n",
       "      <td>1</td>\n",
       "      <td>2</td>\n",
       "    </tr>\n",
       "    <tr>\n",
       "      <th>10</th>\n",
       "      <td>flyweight</td>\n",
       "      <td>1</td>\n",
       "      <td>1</td>\n",
       "    </tr>\n",
       "    <tr>\n",
       "      <th>11</th>\n",
       "      <td>proxy</td>\n",
       "      <td>1</td>\n",
       "      <td>1</td>\n",
       "    </tr>\n",
       "    <tr>\n",
       "      <th>12</th>\n",
       "      <td>chain of responsibility</td>\n",
       "      <td>2</td>\n",
       "      <td>2</td>\n",
       "    </tr>\n",
       "    <tr>\n",
       "      <th>13</th>\n",
       "      <td>command</td>\n",
       "      <td>2</td>\n",
       "      <td>1</td>\n",
       "    </tr>\n",
       "    <tr>\n",
       "      <th>14</th>\n",
       "      <td>interpreter</td>\n",
       "      <td>2</td>\n",
       "      <td>2</td>\n",
       "    </tr>\n",
       "    <tr>\n",
       "      <th>15</th>\n",
       "      <td>iterator</td>\n",
       "      <td>2</td>\n",
       "      <td>2</td>\n",
       "    </tr>\n",
       "    <tr>\n",
       "      <th>16</th>\n",
       "      <td>mediator</td>\n",
       "      <td>2</td>\n",
       "      <td>2</td>\n",
       "    </tr>\n",
       "    <tr>\n",
       "      <th>17</th>\n",
       "      <td>memento</td>\n",
       "      <td>2</td>\n",
       "      <td>0</td>\n",
       "    </tr>\n",
       "    <tr>\n",
       "      <th>18</th>\n",
       "      <td>observer</td>\n",
       "      <td>2</td>\n",
       "      <td>0</td>\n",
       "    </tr>\n",
       "    <tr>\n",
       "      <th>19</th>\n",
       "      <td>state</td>\n",
       "      <td>2</td>\n",
       "      <td>0</td>\n",
       "    </tr>\n",
       "    <tr>\n",
       "      <th>20</th>\n",
       "      <td>strategy</td>\n",
       "      <td>2</td>\n",
       "      <td>2</td>\n",
       "    </tr>\n",
       "    <tr>\n",
       "      <th>21</th>\n",
       "      <td>template method</td>\n",
       "      <td>2</td>\n",
       "      <td>1</td>\n",
       "    </tr>\n",
       "    <tr>\n",
       "      <th>22</th>\n",
       "      <td>visitor</td>\n",
       "      <td>2</td>\n",
       "      <td>2</td>\n",
       "    </tr>\n",
       "  </tbody>\n",
       "</table>\n",
       "</div>"
      ],
      "text/plain": [
       "                       name  true_cluster  pred_cluster\n",
       "0          abstract factory             0             2\n",
       "1                   builder             0             1\n",
       "2            factory method             0             1\n",
       "3                 prototype             0             1\n",
       "4                 singleton             0             0\n",
       "5                   adapter             1             2\n",
       "6                    bridge             1             2\n",
       "7                 composite             1             2\n",
       "8                 decorator             1             2\n",
       "9                    facade             1             2\n",
       "10                flyweight             1             1\n",
       "11                    proxy             1             1\n",
       "12  chain of responsibility             2             2\n",
       "13                  command             2             1\n",
       "14              interpreter             2             2\n",
       "15                 iterator             2             2\n",
       "16                 mediator             2             2\n",
       "17                  memento             2             0\n",
       "18                 observer             2             0\n",
       "19                    state             2             0\n",
       "20                 strategy             2             2\n",
       "21          template method             2             1\n",
       "22                  visitor             2             2"
      ]
     },
     "execution_count": 22,
     "metadata": {},
     "output_type": "execute_result"
    },
    {
     "data": {
      "image/png": "[encoded data removed]",
      "text/plain": [
       "<Figure size 640x480 with 2 Axes>"
      ]
     },
     "metadata": {},
     "output_type": "display_data"
    }
   ],
   "source": [
    "from sklearn.metrics import confusion_matrix, ConfusionMatrixDisplay\n",
    "\n",
    "tmp = df2.loc[:, 'label':'title'].groupby(by='label').groups\n",
    "clusters = {}\n",
    "clusters['behavioral'] = max(tmp, key=lambda x: len(tmp[x]))\n",
    "del tmp[clusters['behavioral']]\n",
    "clusters['structural'] = max(tmp, key=lambda x: len(tmp[x]))\n",
    "del tmp[clusters['structural']]\n",
    "clusters['creational'] = max(tmp, key=lambda x: len(tmp[x]))\n",
    "del tmp[clusters['creational']]\n",
    "\n",
    "# display(clusters)\n",
    "\n",
    "tmp = df2.loc[:, 'label':'title'].groupby(by='label').groups\n",
    "\n",
    "y_true = [0] * 5 # Creational\n",
    "y_true.extend([1] * 7) # Structural\n",
    "y_true.extend([2] * 11) # Behavioral\n",
    "\n",
    "display(y_true)\n",
    "\n",
    "# display(df3.loc[:,['name','pred_label']])\n",
    "\n",
    "y_pred = frame['cluster'].tolist()\n",
    "\n",
    "display(y_pred)\n",
    "\n",
    "y_pred = pd.Series([2,1,1,1,0,2,2,2,2,2,1,1,2,1,2,2,2,0,0,0,2,1,2])\n",
    "\n",
    "# display(y_pred)\n",
    "\n",
    "cm = confusion_matrix(y_true, y_pred)\n",
    "disp = ConfusionMatrixDisplay(confusion_matrix=cm)\n",
    "disp.plot()\n",
    "\n",
    "# Goal is to have all numbers in the downward right diagonal.\n",
    "\n",
    "from sklearn.metrics import precision_recall_fscore_support\n",
    "\n",
    "display(precision_recall_fscore_support(y_true, y_pred))\n",
    "\n",
    "pd.DataFrame(data={'name':frame['name'].tolist(),'true_cluster':y_true,'pred_cluster':y_pred})"
   ]
  },
  {
   "cell_type": "code",
   "execution_count": null,
   "id": "f6b0a58a-db67-4fd1-a9d4-ab869ee0368e",
   "metadata": {},
   "outputs": [],
   "source": []
  }
 ],
 "metadata": {
  "kernelspec": {
   "display_name": "Python 3 (ipykernel)",
   "language": "python",
   "name": "python3"
  },
  "language_info": {
   "codemirror_mode": {
    "name": "ipython",
    "version": 3
   },
   "file_extension": ".py",
   "mimetype": "text/x-python",
   "name": "python",
   "nbconvert_exporter": "python",
   "pygments_lexer": "ipython3",
   "version": "3.9.13"
  }
 },
 "nbformat": 4,
 "nbformat_minor": 5
}
