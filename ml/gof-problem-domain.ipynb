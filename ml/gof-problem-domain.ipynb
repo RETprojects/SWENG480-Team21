{
 "cells": [
  {
   "cell_type": "code",
   "execution_count": 1,
   "id": "cf52daaa-e82a-425c-8f53-ce19362fe077",
   "metadata": {},
   "outputs": [
    {
     "data": {
      "text/html": [
       "<div>\n",
       "<style scoped>\n",
       "    .dataframe tbody tr th:only-of-type {\n",
       "        vertical-align: middle;\n",
       "    }\n",
       "\n",
       "    .dataframe tbody tr th {\n",
       "        vertical-align: top;\n",
       "    }\n",
       "\n",
       "    .dataframe thead th {\n",
       "        text-align: right;\n",
       "    }\n",
       "</style>\n",
       "<table border=\"1\" class=\"dataframe\">\n",
       "  <thead>\n",
       "    <tr style=\"text-align: right;\">\n",
       "      <th></th>\n",
       "      <th>name</th>\n",
       "      <th>intent</th>\n",
       "      <th>motivation</th>\n",
       "      <th>applicability</th>\n",
       "    </tr>\n",
       "  </thead>\n",
       "  <tbody>\n",
       "    <tr>\n",
       "      <th>0</th>\n",
       "      <td>abstract factory</td>\n",
       "      <td>Provide an interface for creating families of related or dependent objects without specifying their concrete classes.</td>\n",
       "      <td>Consider a user interface toolkit that supports multiple look-and-feel standards, such as Motif and Presentation Manager. Different look-and-feels define different appearances and behaviors for user interface “widgets” like scroll bars, windows, and buttons. To be portable across look-and-feel s...</td>\n",
       "      <td>Use the Abstract Factory pattern when\n",
       "\n",
       "• a system should be independent of how its products are created, composed, and represented.\n",
       "\n",
       "• a system should be configured with one of multiple families of products.\n",
       "\n",
       "• a family of related product objects is designed to be used together, and you need to ...</td>\n",
       "    </tr>\n",
       "    <tr>\n",
       "      <th>1</th>\n",
       "      <td>builder</td>\n",
       "      <td>Separate the construction of a complex object from its representation so that the same construction process can create different representations.</td>\n",
       "      <td>A reader for the RTF (Rich Text Format) document exchange format should be able to convert RTF to many text formats. The reader might convert RTF documents into plain ASCII text or into a text widget that can be edited interactively. The problem, however, is that the number of possible conversio...</td>\n",
       "      <td>Use the Builder pattern when\n",
       "\n",
       "• the algorithm for creating a complex object should be independent of the parts that make up the object and how they’re assembled.\n",
       "\n",
       "• the construction process must allow different representations for the object that’s constructed.</td>\n",
       "    </tr>\n",
       "  </tbody>\n",
       "</table>\n",
       "</div>"
      ],
      "text/plain": [
       "               name  \\\n",
       "0  abstract factory   \n",
       "1           builder   \n",
       "\n",
       "                                                                                                                                              intent  \\\n",
       "0                              Provide an interface for creating families of related or dependent objects without specifying their concrete classes.   \n",
       "1  Separate the construction of a complex object from its representation so that the same construction process can create different representations.   \n",
       "\n",
       "                                                                                                                                                                                                                                                                                                    motivation  \\\n",
       "0  Consider a user interface toolkit that supports multiple look-and-feel standards, such as Motif and Presentation Manager. Different look-and-feels define different appearances and behaviors for user interface “widgets” like scroll bars, windows, and buttons. To be portable across look-and-feel s...   \n",
       "1  A reader for the RTF (Rich Text Format) document exchange format should be able to convert RTF to many text formats. The reader might convert RTF documents into plain ASCII text or into a text widget that can be edited interactively. The problem, however, is that the number of possible conversio...   \n",
       "\n",
       "                                                                                                                                                                                                                                                                                                 applicability  \n",
       "0  Use the Abstract Factory pattern when\n",
       "\n",
       "• a system should be independent of how its products are created, composed, and represented.\n",
       "\n",
       "• a system should be configured with one of multiple families of products.\n",
       "\n",
       "• a family of related product objects is designed to be used together, and you need to ...  \n",
       "1                                        Use the Builder pattern when\n",
       "\n",
       "• the algorithm for creating a complex object should be independent of the parts that make up the object and how they’re assembled.\n",
       "\n",
       "• the construction process must allow different representations for the object that’s constructed.  "
      ]
     },
     "execution_count": 1,
     "metadata": {},
     "output_type": "execute_result"
    }
   ],
   "source": [
    "from IPython.display import display\n",
    "import pandas as pd\n",
    "\n",
    "pd.set_option('display.max_colwidth', 300)\n",
    "\n",
    "df = pd.read_excel('gof-problem-domain.xlsx', dtype='string')\n",
    "\n",
    "df.iloc[:2]"
   ]
  },
  {
   "cell_type": "code",
   "execution_count": 2,
   "id": "78c325ab-92de-4d59-b909-34587aa5f76f",
   "metadata": {},
   "outputs": [
    {
     "data": {
      "text/html": [
       "<div>\n",
       "<style scoped>\n",
       "    .dataframe tbody tr th:only-of-type {\n",
       "        vertical-align: middle;\n",
       "    }\n",
       "\n",
       "    .dataframe tbody tr th {\n",
       "        vertical-align: top;\n",
       "    }\n",
       "\n",
       "    .dataframe thead th {\n",
       "        text-align: right;\n",
       "    }\n",
       "</style>\n",
       "<table border=\"1\" class=\"dataframe\">\n",
       "  <thead>\n",
       "    <tr style=\"text-align: right;\">\n",
       "      <th></th>\n",
       "      <th>name</th>\n",
       "      <th>intent</th>\n",
       "      <th>motivation</th>\n",
       "      <th>applicability</th>\n",
       "    </tr>\n",
       "  </thead>\n",
       "  <tbody>\n",
       "    <tr>\n",
       "      <th>0</th>\n",
       "      <td>abstract factory</td>\n",
       "      <td>provide an interface for creating families of related or dependent objects without specifying their concrete classes</td>\n",
       "      <td>consider a user interface toolkit that supports multiple look and feel standards  such as motif and presentation manager  different look and feels define different appearances and behaviors for user interface  widgets  like scroll bars  windows  and buttons  to be portable across look and feel s...</td>\n",
       "      <td>use the abstract factory pattern when    a system should be independent of how its products are created  composed  and represented     a system should be configured with one of multiple families of products     a family of related product objects is designed to be used together  and you need to ...</td>\n",
       "    </tr>\n",
       "    <tr>\n",
       "      <th>1</th>\n",
       "      <td>builder</td>\n",
       "      <td>separate the construction of a complex object from its representation so that the same construction process can create different representations</td>\n",
       "      <td>a reader for the rtf  rich text format  document exchange format should be able to convert rtf to many text formats  the reader might convert rtf documents into plain ascii text or into a text widget that can be edited interactively  the problem  however  is that the number of possible conversio...</td>\n",
       "      <td>use the builder pattern when    the algorithm for creating a complex object should be independent of the parts that make up the object and how they re assembled     the construction process must allow different representations for the object that s constructed</td>\n",
       "    </tr>\n",
       "  </tbody>\n",
       "</table>\n",
       "</div>"
      ],
      "text/plain": [
       "               name  \\\n",
       "0  abstract factory   \n",
       "1           builder   \n",
       "\n",
       "                                                                                                                                              intent  \\\n",
       "0                              provide an interface for creating families of related or dependent objects without specifying their concrete classes    \n",
       "1  separate the construction of a complex object from its representation so that the same construction process can create different representations    \n",
       "\n",
       "                                                                                                                                                                                                                                                                                                    motivation  \\\n",
       "0  consider a user interface toolkit that supports multiple look and feel standards  such as motif and presentation manager  different look and feels define different appearances and behaviors for user interface  widgets  like scroll bars  windows  and buttons  to be portable across look and feel s...   \n",
       "1  a reader for the rtf  rich text format  document exchange format should be able to convert rtf to many text formats  the reader might convert rtf documents into plain ascii text or into a text widget that can be edited interactively  the problem  however  is that the number of possible conversio...   \n",
       "\n",
       "                                                                                                                                                                                                                                                                                                 applicability  \n",
       "0  use the abstract factory pattern when    a system should be independent of how its products are created  composed  and represented     a system should be configured with one of multiple families of products     a family of related product objects is designed to be used together  and you need to ...  \n",
       "1                                        use the builder pattern when    the algorithm for creating a complex object should be independent of the parts that make up the object and how they re assembled     the construction process must allow different representations for the object that s constructed   "
      ]
     },
     "execution_count": 2,
     "metadata": {},
     "output_type": "execute_result"
    }
   ],
   "source": [
    "df = df.apply(lambda x: x.str.lower()) \\\n",
    "    .replace(to_replace=r'[^\\w]', value=' ', regex=True)\n",
    "    # .replace(to_replace=u'(\\u2018|\\u2019)', value='\\'', regex=True) \\\n",
    "    # .replace(to_replace=r'[^\\w\\']', value=' ', regex=True)\n",
    "    \n",
    "\n",
    "df.iloc[:2]"
   ]
  },
  {
   "cell_type": "code",
   "execution_count": 3,
   "id": "8a2a9fad-da15-42d8-980e-15e34bae1947",
   "metadata": {},
   "outputs": [
    {
     "data": {
      "text/html": [
       "<div>\n",
       "<style scoped>\n",
       "    .dataframe tbody tr th:only-of-type {\n",
       "        vertical-align: middle;\n",
       "    }\n",
       "\n",
       "    .dataframe tbody tr th {\n",
       "        vertical-align: top;\n",
       "    }\n",
       "\n",
       "    .dataframe thead th {\n",
       "        text-align: right;\n",
       "    }\n",
       "</style>\n",
       "<table border=\"1\" class=\"dataframe\">\n",
       "  <thead>\n",
       "    <tr style=\"text-align: right;\">\n",
       "      <th></th>\n",
       "      <th>name</th>\n",
       "      <th>intent</th>\n",
       "      <th>motivation</th>\n",
       "      <th>applicability</th>\n",
       "    </tr>\n",
       "  </thead>\n",
       "  <tbody>\n",
       "    <tr>\n",
       "      <th>0</th>\n",
       "      <td>abstract factory</td>\n",
       "      <td>provid interfac creat famili relat depend object without specifi concret class</td>\n",
       "      <td>consid user interfac toolkit support multipl look feel standard motif present manag differ look feel defin differ appear behavior user interfac widget like scroll bar window button portabl across look feel standard applic hard code widget particular look feel instanti look feel specif class widg...</td>\n",
       "      <td>use abstract factori pattern system independ product creat compos repres system configur one multipl famili product famili relat product object design use togeth need enforc constraint want provid class librari product want reveal interfac implement</td>\n",
       "    </tr>\n",
       "    <tr>\n",
       "      <th>1</th>\n",
       "      <td>builder</td>\n",
       "      <td>separ construct complex object represent construct process creat differ represent</td>\n",
       "      <td>reader rtf rich text format document exchang format abl convert rtf mani text format reader might convert rtf document plain ascii text text widget edit interact problem howev number possibl convers open end easi add new convers without modifi reader solut configur rtfreader class textconvert ob...</td>\n",
       "      <td>use builder pattern algorithm creat complex object independ part make object assembl construct process must allow differ represent object construct</td>\n",
       "    </tr>\n",
       "  </tbody>\n",
       "</table>\n",
       "</div>"
      ],
      "text/plain": [
       "               name  \\\n",
       "0  abstract factory   \n",
       "1           builder   \n",
       "\n",
       "                                                                              intent  \\\n",
       "0     provid interfac creat famili relat depend object without specifi concret class   \n",
       "1  separ construct complex object represent construct process creat differ represent   \n",
       "\n",
       "                                                                                                                                                                                                                                                                                                    motivation  \\\n",
       "0  consid user interfac toolkit support multipl look feel standard motif present manag differ look feel defin differ appear behavior user interfac widget like scroll bar window button portabl across look feel standard applic hard code widget particular look feel instanti look feel specif class widg...   \n",
       "1  reader rtf rich text format document exchang format abl convert rtf mani text format reader might convert rtf document plain ascii text text widget edit interact problem howev number possibl convers open end easi add new convers without modifi reader solut configur rtfreader class textconvert ob...   \n",
       "\n",
       "                                                                                                                                                                                                                                               applicability  \n",
       "0  use abstract factori pattern system independ product creat compos repres system configur one multipl famili product famili relat product object design use togeth need enforc constraint want provid class librari product want reveal interfac implement  \n",
       "1                                                                                                        use builder pattern algorithm creat complex object independ part make object assembl construct process must allow differ represent object construct  "
      ]
     },
     "execution_count": 3,
     "metadata": {},
     "output_type": "execute_result"
    }
   ],
   "source": [
    "from nltk.corpus import stopwords\n",
    "from nltk.stem.porter import PorterStemmer\n",
    "from nltk.tokenize import word_tokenize\n",
    "\n",
    "stop_words = set(stopwords.words('english'))\n",
    "stemmer = PorterStemmer()\n",
    "\n",
    "# Don't transform the name column\n",
    "df.loc[:, 'intent':'applicability'] = \\\n",
    "    df.loc[:, 'intent':'applicability'].applymap(lambda x: ' '.join([word for word in x.split() if word not in (stop_words)])) \\\n",
    "    .applymap(lambda x: ' '.join([stemmer.stem(word) for word in x.split()]))\n",
    "\n",
    "df.iloc[:2]"
   ]
  },
  {
   "cell_type": "code",
   "execution_count": 4,
   "id": "faef5faf-c25d-4b39-8357-90fdb317a83e",
   "metadata": {},
   "outputs": [
    {
     "name": "stdout",
     "output_type": "stream",
     "text": [
      "Vocabulary size is 1101\n"
     ]
    }
   ],
   "source": [
    "unique = set()\n",
    "\n",
    "df.loc[:, 'intent':'applicability'].applymap(lambda x: unique.update(x.split()))\n",
    "\n",
    "print('Vocabulary size is', len(unique))"
   ]
  },
  {
   "cell_type": "code",
   "execution_count": 35,
   "id": "f903d9ab-b5ee-44cd-994c-2ddeca8276af",
   "metadata": {},
   "outputs": [
    {
     "data": {
      "text/plain": [
       "array(['10', '100', '107', '88', '91', 'abl', 'abouttoopendocu',\n",
       "       'abstract', 'abstractlist', 'accept'], dtype=object)"
      ]
     },
     "metadata": {},
     "output_type": "display_data"
    },
    {
     "data": {
      "text/plain": [
       "array([0, 0, 0, 0, 0, 0, 0, 5, 0, 0])"
      ]
     },
     "metadata": {},
     "output_type": "display_data"
    },
    {
     "data": {
      "text/plain": [
       "5"
      ]
     },
     "metadata": {},
     "output_type": "display_data"
    }
   ],
   "source": [
    "from sklearn.feature_extraction.text import TfidfVectorizer, CountVectorizer\n",
    "import numpy as np\n",
    "import sys\n",
    "\n",
    "# Merge all the problem domain columns into a list\n",
    "problem_domain = df.loc[:, 'intent':'applicability'].agg(' '.join, axis=1).tolist()\n",
    "\n",
    "count_vectorizer = CountVectorizer()\n",
    "\n",
    "# np.set_printoptions(threshold=sys.maxsize)\n",
    "\n",
    "count_matrix = count_vectorizer.fit_transform(problem_domain)\n",
    "\n",
    "\"\"\"\n",
    "Here's a quick demonstration on how the CountVectorizer works.\n",
    "- The first array that's printed is a truncated list of all the words in the vocabulary, i.e., the features.\n",
    "- The second output is the truncated counts of each word in the problem domain for Abstract Factory. Observe that 'abstract' is counted 5 times.\n",
    "- The third output is the manual count of 'abstract' in the problem domain, which is indeed 5!\n",
    "\"\"\"\n",
    "display(count_vectorizer.get_feature_names_out()[:10])\n",
    "display(count_matrix.toarray()[0][:10])\n",
    "display(problem_domain[0].count('abstract'))\n"
   ]
  },
  {
   "cell_type": "code",
   "execution_count": null,
   "id": "4288a8ea-5a33-456a-80e8-0ffc02a9bc85",
   "metadata": {},
   "outputs": [],
   "source": [
    "terms = tfidf_vectorizer.get_feature_names_out()\n",
    "\n",
    "import numpy as np\n",
    "np.set_printoptions(threshold=np.inf)\n",
    "\n",
    "display(terms[:100])\n",
    "\n",
    "from sklearn.metrics.pairwise import cosine_similarity\n",
    "dist = 1 - cosine_similarity(tfidf_matrix)"
   ]
  },
  {
   "cell_type": "code",
   "execution_count": null,
   "id": "0b484c75-aa47-436b-8d95-b1e7df728d5d",
   "metadata": {},
   "outputs": [],
   "source": [
    "\n",
    "from sklearn.cluster import KMeans\n",
    "\n",
    "num_clusters = 3\n",
    "\n",
    "km = KMeans(n_clusters=num_clusters)\n",
    "\n",
    "%time km.fit(tfidf_matrix)\n",
    "\n",
    "clusters = km.labels_.tolist()"
   ]
  },
  {
   "cell_type": "code",
   "execution_count": null,
   "id": "542a44cf-7e0a-4465-875e-88afac345a65",
   "metadata": {},
   "outputs": [],
   "source": [
    "import joblib\n",
    "\n",
    "#uncomment the below to save your model \n",
    "#since I've already run my model I am loading from the pickle\n",
    "\n",
    "joblib.dump(km,  'doc_cluster1.pkl')\n",
    "\n",
    "km = joblib.load('doc_cluster1.pkl')\n",
    "clusters = km.labels_.tolist()"
   ]
  },
  {
   "cell_type": "code",
   "execution_count": null,
   "id": "d7347634-e883-4552-b35c-1c4da857702a",
   "metadata": {},
   "outputs": [],
   "source": [
    "films = {\n",
    "    'name': df['name'].tolist(), 'intent': df['intent'].tolist(), 'motivation': df['motivation'].tolist(), 'applicability': df['applicability'].tolist(), 'cluster': clusters }\n",
    "\n",
    "frame = pd.DataFrame(films, index = [clusters] , columns = ['name', 'intent', 'motivation', 'applicability', 'cluster'])"
   ]
  },
  {
   "cell_type": "code",
   "execution_count": null,
   "id": "9b1431c5-eddf-48d4-8228-d210569ceb48",
   "metadata": {},
   "outputs": [],
   "source": [
    "display(frame['cluster'].value_counts()) #number of films per cluster (clusters from 0 to 4)\n",
    "\n",
    "frame"
   ]
  },
  {
   "cell_type": "code",
   "execution_count": null,
   "id": "4cf46395-f11f-41cc-8cbf-c8f203b7378e",
   "metadata": {},
   "outputs": [],
   "source": [
    "from __future__ import print_function\n",
    "\n",
    "print(\"Top terms per cluster:\")\n",
    "print()\n",
    "#sort cluster centers by proximity to centroid\n",
    "order_centroids = km.cluster_centers_.argsort()[:, ::-1] \n",
    "\n",
    "for i in range(num_clusters):\n",
    "    print(\"Cluster %d words:\" % i, end='')\n",
    "    \n",
    "    for ind in order_centroids[i, :6]: #replace 6 with n words per cluster\n",
    "        print(' %s' % vocab_frame.loc[terms[ind].split(' ')].values.tolist()[0][0].encode('utf-8', 'ignore'), end=',')\n",
    "    print() #add whitespace\n",
    "    print() #add whitespace\n",
    "    \n",
    "    print(\"Cluster %d names:\" % i, end='')\n",
    "    for title in frame.loc[i]['name'].values.tolist():\n",
    "        print(' %s,' % title, end='')\n",
    "    print() #add whitespace\n",
    "    print() #add whitespace\n",
    "    \n",
    "print()\n",
    "print()"
   ]
  },
  {
   "cell_type": "code",
   "execution_count": null,
   "id": "d54f8e11-ead9-4735-91d0-afb472c3923b",
   "metadata": {},
   "outputs": [],
   "source": [
    "import os  # for os.path.basename\n",
    "\n",
    "import matplotlib.pyplot as plt\n",
    "import matplotlib as mpl\n",
    "\n",
    "from sklearn.manifold import MDS\n",
    "\n",
    "MDS()\n",
    "\n",
    "# convert two components as we're plotting points in a two-dimensional plane\n",
    "# \"precomputed\" because we provide a distance matrix\n",
    "# we will also specify `random_state` so the plot is reproducible.\n",
    "mds = MDS(n_components=2, dissimilarity=\"precomputed\", random_state=1)\n",
    "\n",
    "pos = mds.fit_transform(dist)  # shape (n_components, n_samples)\n",
    "\n",
    "xs, ys = pos[:, 0], pos[:, 1]\n",
    "print()\n",
    "print()"
   ]
  },
  {
   "cell_type": "code",
   "execution_count": null,
   "id": "eec235b9-f564-4689-a73d-c9a1726b5792",
   "metadata": {},
   "outputs": [],
   "source": [
    "#set up colors per clusters using a dict\n",
    "cluster_colors = {0: '#1b9e77', 1: '#d95f02', 2: '#7570b3', 3: '#e7298a', 4: '#66a61e'}\n",
    "\n",
    "#set up cluster names using a dict\n",
    "cluster_names = {0: 'graphical, request, interface, user, drawing, editor', \n",
    "                 1: 'document, application, creating, subclasses, request, text', \n",
    "                 2: 'interface, clients, instances, define, change, abstract'}"
   ]
  },
  {
   "cell_type": "code",
   "execution_count": null,
   "id": "1f175366-b5e2-4401-8289-f80cafd81720",
   "metadata": {},
   "outputs": [],
   "source": [
    "\n",
    "#some ipython magic to show the matplotlib plots inline\n",
    "%matplotlib inline \n",
    "\n",
    "#create data frame that has the result of the MDS plus the cluster numbers and titles\n",
    "df = pd.DataFrame(dict(x=xs, y=ys, label=clusters, title=df['title'].tolist())) \n",
    "\n",
    "#group by cluster\n",
    "groups = df.groupby('label')\n",
    "\n",
    "\n",
    "# set up plot\n",
    "fig, ax = plt.subplots(figsize=(17, 9)) # set size\n",
    "ax.margins(0.05) # Optional, just adds 5% padding to the autoscaling\n",
    "\n",
    "#iterate through groups to layer the plot\n",
    "#note that I use the cluster_name and cluster_color dicts with the 'name' lookup to return the appropriate color/label\n",
    "for name, group in groups:\n",
    "    ax.plot(group.x, group.y, marker='o', linestyle='', ms=12, \n",
    "            label=cluster_names[name], color=cluster_colors[name], \n",
    "            mec='none')\n",
    "    ax.set_aspect('auto')\n",
    "    ax.tick_params(\\\n",
    "        axis= 'x',          # changes apply to the x-axis\n",
    "        which='both',      # both major and minor ticks are affected\n",
    "        bottom='off',      # ticks along the bottom edge are off\n",
    "        top='off',         # ticks along the top edge are off\n",
    "        labelbottom='off')\n",
    "    ax.tick_params(\\\n",
    "        axis= 'y',         # changes apply to the y-axis\n",
    "        which='both',      # both major and minor ticks are affected\n",
    "        left='off',      # ticks along the bottom edge are off\n",
    "        top='off',         # ticks along the top edge are off\n",
    "        labelleft='off')\n",
    "    \n",
    "ax.legend(numpoints=1)  #show legend with only 1 point\n",
    "\n",
    "#add label in x,y position with the label as the film title\n",
    "for i in range(len(df)):\n",
    "    ax.text(df.loc[i]['x'], df.loc[i]['y'], df.loc[i]['title'], size=8)  \n",
    "\n",
    "    \n",
    "    \n",
    "plt.show() #show the plot\n",
    "\n",
    "#uncomment the below to save the plot if need be\n",
    "#plt.savefig('clusters_small_noaxes.png', dpi=200)"
   ]
  },
  {
   "cell_type": "code",
   "execution_count": null,
   "id": "cb9db531-e9b9-4563-9752-8a4fed69811b",
   "metadata": {},
   "outputs": [],
   "source": []
  }
 ],
 "metadata": {
  "kernelspec": {
   "display_name": "Python 3 (ipykernel)",
   "language": "python",
   "name": "python3"
  },
  "language_info": {
   "codemirror_mode": {
    "name": "ipython",
    "version": 3
   },
   "file_extension": ".py",
   "mimetype": "text/x-python",
   "name": "python",
   "nbconvert_exporter": "python",
   "pygments_lexer": "ipython3",
   "version": "3.9.13"
  }
 },
 "nbformat": 4,
 "nbformat_minor": 5
}
