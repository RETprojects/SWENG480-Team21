{
  "nbformat": 4,
  "nbformat_minor": 0,
  "metadata": {
    "colab": {
      "provenance": []
    },
    "kernelspec": {
      "name": "python3",
      "display_name": "Python 3"
    },
    "language_info": {
      "name": "python"
    }
  },
  "cells": [
    {
      "cell_type": "code",
      "execution_count": 9,
      "metadata": {
        "colab": {
          "base_uri": "https://localhost:8080/"
        },
        "id": "9CKeWrqn7QGd",
        "outputId": "8d66c51b-9f54-4366-b54a-a9b438a1438b"
      },
      "outputs": [
        {
          "output_type": "stream",
          "name": "stdout",
          "text": [
            "Looking in indexes: https://pypi.org/simple, https://us-python.pkg.dev/colab-wheels/public/simple/\n",
            "Requirement already satisfied: mpld3 in /usr/local/lib/python3.8/dist-packages (0.5.9)\n",
            "Requirement already satisfied: jinja2 in /usr/local/lib/python3.8/dist-packages (from mpld3) (2.11.3)\n",
            "Requirement already satisfied: matplotlib in /usr/local/lib/python3.8/dist-packages (from mpld3) (3.2.2)\n",
            "Requirement already satisfied: MarkupSafe>=0.23 in /usr/local/lib/python3.8/dist-packages (from jinja2->mpld3) (2.0.1)\n",
            "Requirement already satisfied: python-dateutil>=2.1 in /usr/local/lib/python3.8/dist-packages (from matplotlib->mpld3) (2.8.2)\n",
            "Requirement already satisfied: numpy>=1.11 in /usr/local/lib/python3.8/dist-packages (from matplotlib->mpld3) (1.21.6)\n",
            "Requirement already satisfied: pyparsing!=2.0.4,!=2.1.2,!=2.1.6,>=2.0.1 in /usr/local/lib/python3.8/dist-packages (from matplotlib->mpld3) (3.0.9)\n",
            "Requirement already satisfied: cycler>=0.10 in /usr/local/lib/python3.8/dist-packages (from matplotlib->mpld3) (0.11.0)\n",
            "Requirement already satisfied: kiwisolver>=1.0.1 in /usr/local/lib/python3.8/dist-packages (from matplotlib->mpld3) (1.4.4)\n",
            "Requirement already satisfied: six>=1.5 in /usr/local/lib/python3.8/dist-packages (from python-dateutil>=2.1->matplotlib->mpld3) (1.15.0)\n"
          ]
        }
      ],
      "source": [
        "# Import all the necessary libraries, files, etc.\n",
        "\n",
        "import numpy as np\n",
        "import pandas as pd\n",
        "import nltk\n",
        "import re\n",
        "import os\n",
        "import codecs\n",
        "from sklearn import feature_extraction\n",
        "!pip install mpld3\n",
        "import mpld3\n",
        "from sklearn.cluster import KMeans\n",
        "from sklearn.metrics import silhouette_samples, silhouette_score"
      ]
    },
    {
      "cell_type": "code",
      "source": [
        "# Get the collection of design patterns from the file.\n",
        "\n",
        "import csv\n",
        "\n",
        "df_patterns = pd.read_csv(\"GoF problem domain (complete).csv\") # replace with one of Hussain's datasets\n",
        "#create an overview column\n",
        "df_patterns['overview'] = df_patterns['intent'] + \" \" + df_patterns['motivation'] + \" \" + df_patterns['applicability']\n",
        "print(df_patterns)"
      ],
      "metadata": {
        "colab": {
          "base_uri": "https://localhost:8080/"
        },
        "id": "u_V-wbPm9wca",
        "outputId": "373918b6-6db0-4715-bd89-69b0f9ed58a6"
      },
      "execution_count": 10,
      "outputs": [
        {
          "output_type": "stream",
          "name": "stdout",
          "text": [
            "                       name  correct_category  \\\n",
            "0          abstract factory                 2   \n",
            "1                   builder                 2   \n",
            "2            factory method                 2   \n",
            "3                 prototype                 2   \n",
            "4                 singleton                 2   \n",
            "5                   adapter                 1   \n",
            "6                    bridge                 1   \n",
            "7                 composite                 1   \n",
            "8                 decorator                 1   \n",
            "9                    facade                 1   \n",
            "10                flyweight                 1   \n",
            "11                    proxy                 1   \n",
            "12  chain of responsibility                 0   \n",
            "13                  command                 0   \n",
            "14              interpreter                 0   \n",
            "15                 iterator                 0   \n",
            "16                 mediator                 0   \n",
            "17                  memento                 0   \n",
            "18                 observer                 0   \n",
            "19                    state                 0   \n",
            "20                 strategy                 0   \n",
            "21          template method                 0   \n",
            "22                  visitor                 0   \n",
            "\n",
            "                                               intent  \\\n",
            "0   Provide an interface for creating families of ...   \n",
            "1   Separate the construction of a complex object ...   \n",
            "2   Define an interface for creating an object, bu...   \n",
            "3   Specify the kinds of objects to create using a...   \n",
            "4   Ensure a class only has one instance, and prov...   \n",
            "5   Convert the interface of a class into another ...   \n",
            "6   Decouple an abstraction from its implementatio...   \n",
            "7   Compose objects into tree structures to repres...   \n",
            "8   Attach additional responsibilities to an objec...   \n",
            "9   Provide a unified interface to a set of interf...   \n",
            "10  Use sharing to support large numbers of fine-g...   \n",
            "11  Provide a surrogate or placeholder for another...   \n",
            "12  Avoid coupling the sender of a request to its ...   \n",
            "13  Encapsulate a request as an object, thereby le...   \n",
            "14  Given a language, define a represention for it...   \n",
            "15  Provide a way to access the elements of an agg...   \n",
            "16  Define an object that encapsulates how a set o...   \n",
            "17  Without violating encapsulation, capture and e...   \n",
            "18  Define a one-to-many dependency between object...   \n",
            "19  Allow an object to alter its behavior when its...   \n",
            "20  Define a family of algorithms, encapsulate eac...   \n",
            "21  Define the skeleton of an algorithm in an oper...   \n",
            "22  Represent an operation to be performed on the ...   \n",
            "\n",
            "                                           motivation  \\\n",
            "0   Consider a user interface toolkit that support...   \n",
            "1   A reader for the RTF (Rich Text Format) docume...   \n",
            "2   Frameworks use abstract classes to define and ...   \n",
            "3   You could build an editor for music scores by ...   \n",
            "4   It’s important for some classes to have exactl...   \n",
            "5   Sometimes a toolkit class that’s designed for ...   \n",
            "6   When an abstraction can have one of several po...   \n",
            "7   Graphics applications like drawing editors and...   \n",
            "8   Sometimes we want to add responsibilities to i...   \n",
            "9   Structuring a system into subsystems helps red...   \n",
            "10  Some applications could benefit from using obj...   \n",
            "11  One reason for controlling access to an object...   \n",
            "12  Consider a context-sensitive help facility for...   \n",
            "13  Sometimes it’s necessary to issue requests to ...   \n",
            "14  If a particular kind of problem occurs often e...   \n",
            "15  An aggregate object such as a list should give...   \n",
            "16  Object-oriented design encourages the distribu...   \n",
            "17  Sometimes it’s necessary to record the interna...   \n",
            "18  A common side-effect of partitioning a system ...   \n",
            "19  Consider a class TCPConnection that represents...   \n",
            "20  Many algorithms exist for breaking a stream of...   \n",
            "21  Consider an application framework that provide...   \n",
            "22  Consider a compiler that represents programs a...   \n",
            "\n",
            "                                        applicability  \\\n",
            "0   Use the Abstract Factory pattern when\\n\\n• a s...   \n",
            "1   Use the Builder pattern when\\n\\n• the algorith...   \n",
            "2   Use the Factory Method pattern when\\n\\n• a cla...   \n",
            "3   Use the Prototype pattern when a system should...   \n",
            "4   Use the Singleton pattern when\\n\\n• there must...   \n",
            "5   Use the Adapter pattern when\\n\\n• you want to ...   \n",
            "6   Use the Bridge pattern when\\n\\n• you want to a...   \n",
            "7   Use the Composite pattern when\\n\\n• you want t...   \n",
            "8   Use Decorator\\n\\n• to add responsibilities to ...   \n",
            "9   Use the Facade pattern when\\n\\n• you want to p...   \n",
            "10  The Flyweight pattern’s effectiveness depends ...   \n",
            "11  Proxy is applicable whenever there is a need f...   \n",
            "12  Use Chain of Responsibility when\\n\\n• more tha...   \n",
            "13  Use the Command pattern when you want to\\n\\n• ...   \n",
            "14  Use the Interpreter pattern when there is a la...   \n",
            "15  Use the Iterator pattern\\n\\n• to access an agg...   \n",
            "16  Use the Mediator pattern when\\n\\n• a set of ob...   \n",
            "17  Use the Memento pattern when\\n\\n• a snapshot o...   \n",
            "18  Use the Observer pattern in any of the followi...   \n",
            "19  Use the State pattern in either of the followi...   \n",
            "20  Use the Strategy pattern when\\n\\n• many relate...   \n",
            "21  The Template Method pattern should be used\\n\\n...   \n",
            "22  Use the Visitor pattern when\\n\\n• an object st...   \n",
            "\n",
            "                                             overview  \n",
            "0   Provide an interface for creating families of ...  \n",
            "1   Separate the construction of a complex object ...  \n",
            "2   Define an interface for creating an object, bu...  \n",
            "3   Specify the kinds of objects to create using a...  \n",
            "4   Ensure a class only has one instance, and prov...  \n",
            "5   Convert the interface of a class into another ...  \n",
            "6   Decouple an abstraction from its implementatio...  \n",
            "7   Compose objects into tree structures to repres...  \n",
            "8   Attach additional responsibilities to an objec...  \n",
            "9   Provide a unified interface to a set of interf...  \n",
            "10  Use sharing to support large numbers of fine-g...  \n",
            "11  Provide a surrogate or placeholder for another...  \n",
            "12  Avoid coupling the sender of a request to its ...  \n",
            "13  Encapsulate a request as an object, thereby le...  \n",
            "14  Given a language, define a represention for it...  \n",
            "15  Provide a way to access the elements of an agg...  \n",
            "16  Define an object that encapsulates how a set o...  \n",
            "17  Without violating encapsulation, capture and e...  \n",
            "18  Define a one-to-many dependency between object...  \n",
            "19  Allow an object to alter its behavior when its...  \n",
            "20  Define a family of algorithms, encapsulate eac...  \n",
            "21  Define the skeleton of an algorithm in an oper...  \n",
            "22  Represent an operation to be performed on the ...  \n"
          ]
        }
      ]
    },
    {
      "cell_type": "code",
      "source": [
        "# Preprocess the pattern dataset.\n"
      ],
      "metadata": {
        "id": "YDmnQr6T95xH"
      },
      "execution_count": 11,
      "outputs": []
    },
    {
      "cell_type": "code",
      "source": [
        "# Calculate the silhouette index.\n",
        "\n",
        "# Source: https://stackoverflow.com/a/51144254\n",
        "\n",
        "range_n_clusters = [ 2, 3, 4, 5, 6, 7, 8 ]\n",
        "for n_clusters in range_n_clusters:\n",
        "    clusterer = KMeans(n_clusters=n_clusters)\n",
        "    preds = clusterer.fit_predict(df_patterns)\n",
        "    centers = clusterer.cluster_centers_\n",
        "\n",
        "    score = silhouette_score(df_patterns, preds)\n",
        "    print(\"For n_clusters = {}, silhouette score is {})\".format(n_clusters, score))"
      ],
      "metadata": {
        "colab": {
          "base_uri": "https://localhost:8080/",
          "height": 375
        },
        "id": "LrBweXpWHURa",
        "outputId": "f44230d3-7036-473e-8c89-8625b749d0f2"
      },
      "execution_count": 12,
      "outputs": [
        {
          "output_type": "error",
          "ename": "ValueError",
          "evalue": "ignored",
          "traceback": [
            "\u001b[0;31m---------------------------------------------------------------------------\u001b[0m",
            "\u001b[0;31mValueError\u001b[0m                                Traceback (most recent call last)",
            "\u001b[0;32m<ipython-input-12-ed451756113f>\u001b[0m in \u001b[0;36m<module>\u001b[0;34m\u001b[0m\n\u001b[1;32m      6\u001b[0m \u001b[0;32mfor\u001b[0m \u001b[0mn_clusters\u001b[0m \u001b[0;32min\u001b[0m \u001b[0mrange_n_clusters\u001b[0m\u001b[0;34m:\u001b[0m\u001b[0;34m\u001b[0m\u001b[0;34m\u001b[0m\u001b[0m\n\u001b[1;32m      7\u001b[0m     \u001b[0mclusterer\u001b[0m \u001b[0;34m=\u001b[0m \u001b[0mKMeans\u001b[0m\u001b[0;34m(\u001b[0m\u001b[0mn_clusters\u001b[0m\u001b[0;34m=\u001b[0m\u001b[0mn_clusters\u001b[0m\u001b[0;34m)\u001b[0m\u001b[0;34m\u001b[0m\u001b[0;34m\u001b[0m\u001b[0m\n\u001b[0;32m----> 8\u001b[0;31m     \u001b[0mpreds\u001b[0m \u001b[0;34m=\u001b[0m \u001b[0mclusterer\u001b[0m\u001b[0;34m.\u001b[0m\u001b[0mfit_predict\u001b[0m\u001b[0;34m(\u001b[0m\u001b[0mdf_patterns\u001b[0m\u001b[0;34m)\u001b[0m\u001b[0;34m\u001b[0m\u001b[0;34m\u001b[0m\u001b[0m\n\u001b[0m\u001b[1;32m      9\u001b[0m     \u001b[0mcenters\u001b[0m \u001b[0;34m=\u001b[0m \u001b[0mclusterer\u001b[0m\u001b[0;34m.\u001b[0m\u001b[0mcluster_centers_\u001b[0m\u001b[0;34m\u001b[0m\u001b[0;34m\u001b[0m\u001b[0m\n\u001b[1;32m     10\u001b[0m \u001b[0;34m\u001b[0m\u001b[0m\n",
            "\u001b[0;32m/usr/local/lib/python3.8/dist-packages/sklearn/cluster/_kmeans.py\u001b[0m in \u001b[0;36mfit_predict\u001b[0;34m(self, X, y, sample_weight)\u001b[0m\n\u001b[1;32m   1253\u001b[0m             \u001b[0mIndex\u001b[0m \u001b[0mof\u001b[0m \u001b[0mthe\u001b[0m \u001b[0mcluster\u001b[0m \u001b[0meach\u001b[0m \u001b[0msample\u001b[0m \u001b[0mbelongs\u001b[0m \u001b[0mto\u001b[0m\u001b[0;34m.\u001b[0m\u001b[0;34m\u001b[0m\u001b[0;34m\u001b[0m\u001b[0m\n\u001b[1;32m   1254\u001b[0m         \"\"\"\n\u001b[0;32m-> 1255\u001b[0;31m         \u001b[0;32mreturn\u001b[0m \u001b[0mself\u001b[0m\u001b[0;34m.\u001b[0m\u001b[0mfit\u001b[0m\u001b[0;34m(\u001b[0m\u001b[0mX\u001b[0m\u001b[0;34m,\u001b[0m \u001b[0msample_weight\u001b[0m\u001b[0;34m=\u001b[0m\u001b[0msample_weight\u001b[0m\u001b[0;34m)\u001b[0m\u001b[0;34m.\u001b[0m\u001b[0mlabels_\u001b[0m\u001b[0;34m\u001b[0m\u001b[0;34m\u001b[0m\u001b[0m\n\u001b[0m\u001b[1;32m   1256\u001b[0m \u001b[0;34m\u001b[0m\u001b[0m\n\u001b[1;32m   1257\u001b[0m     \u001b[0;32mdef\u001b[0m \u001b[0mfit_transform\u001b[0m\u001b[0;34m(\u001b[0m\u001b[0mself\u001b[0m\u001b[0;34m,\u001b[0m \u001b[0mX\u001b[0m\u001b[0;34m,\u001b[0m \u001b[0my\u001b[0m\u001b[0;34m=\u001b[0m\u001b[0;32mNone\u001b[0m\u001b[0;34m,\u001b[0m \u001b[0msample_weight\u001b[0m\u001b[0;34m=\u001b[0m\u001b[0;32mNone\u001b[0m\u001b[0;34m)\u001b[0m\u001b[0;34m:\u001b[0m\u001b[0;34m\u001b[0m\u001b[0;34m\u001b[0m\u001b[0m\n",
            "\u001b[0;32m/usr/local/lib/python3.8/dist-packages/sklearn/cluster/_kmeans.py\u001b[0m in \u001b[0;36mfit\u001b[0;34m(self, X, y, sample_weight)\u001b[0m\n\u001b[1;32m   1135\u001b[0m             \u001b[0mFitted\u001b[0m \u001b[0mestimator\u001b[0m\u001b[0;34m.\u001b[0m\u001b[0;34m\u001b[0m\u001b[0;34m\u001b[0m\u001b[0m\n\u001b[1;32m   1136\u001b[0m         \"\"\"\n\u001b[0;32m-> 1137\u001b[0;31m         X = self._validate_data(\n\u001b[0m\u001b[1;32m   1138\u001b[0m             \u001b[0mX\u001b[0m\u001b[0;34m,\u001b[0m\u001b[0;34m\u001b[0m\u001b[0;34m\u001b[0m\u001b[0m\n\u001b[1;32m   1139\u001b[0m             \u001b[0maccept_sparse\u001b[0m\u001b[0;34m=\u001b[0m\u001b[0;34m\"csr\"\u001b[0m\u001b[0;34m,\u001b[0m\u001b[0;34m\u001b[0m\u001b[0;34m\u001b[0m\u001b[0m\n",
            "\u001b[0;32m/usr/local/lib/python3.8/dist-packages/sklearn/base.py\u001b[0m in \u001b[0;36m_validate_data\u001b[0;34m(self, X, y, reset, validate_separately, **check_params)\u001b[0m\n\u001b[1;32m    564\u001b[0m             \u001b[0;32mraise\u001b[0m \u001b[0mValueError\u001b[0m\u001b[0;34m(\u001b[0m\u001b[0;34m\"Validation should be done on X, y or both.\"\u001b[0m\u001b[0;34m)\u001b[0m\u001b[0;34m\u001b[0m\u001b[0;34m\u001b[0m\u001b[0m\n\u001b[1;32m    565\u001b[0m         \u001b[0;32melif\u001b[0m \u001b[0;32mnot\u001b[0m \u001b[0mno_val_X\u001b[0m \u001b[0;32mand\u001b[0m \u001b[0mno_val_y\u001b[0m\u001b[0;34m:\u001b[0m\u001b[0;34m\u001b[0m\u001b[0;34m\u001b[0m\u001b[0m\n\u001b[0;32m--> 566\u001b[0;31m             \u001b[0mX\u001b[0m \u001b[0;34m=\u001b[0m \u001b[0mcheck_array\u001b[0m\u001b[0;34m(\u001b[0m\u001b[0mX\u001b[0m\u001b[0;34m,\u001b[0m \u001b[0;34m**\u001b[0m\u001b[0mcheck_params\u001b[0m\u001b[0;34m)\u001b[0m\u001b[0;34m\u001b[0m\u001b[0;34m\u001b[0m\u001b[0m\n\u001b[0m\u001b[1;32m    567\u001b[0m             \u001b[0mout\u001b[0m \u001b[0;34m=\u001b[0m \u001b[0mX\u001b[0m\u001b[0;34m\u001b[0m\u001b[0;34m\u001b[0m\u001b[0m\n\u001b[1;32m    568\u001b[0m         \u001b[0;32melif\u001b[0m \u001b[0mno_val_X\u001b[0m \u001b[0;32mand\u001b[0m \u001b[0;32mnot\u001b[0m \u001b[0mno_val_y\u001b[0m\u001b[0;34m:\u001b[0m\u001b[0;34m\u001b[0m\u001b[0;34m\u001b[0m\u001b[0m\n",
            "\u001b[0;32m/usr/local/lib/python3.8/dist-packages/sklearn/utils/validation.py\u001b[0m in \u001b[0;36mcheck_array\u001b[0;34m(array, accept_sparse, accept_large_sparse, dtype, order, copy, force_all_finite, ensure_2d, allow_nd, ensure_min_samples, ensure_min_features, estimator)\u001b[0m\n\u001b[1;32m    744\u001b[0m                     \u001b[0marray\u001b[0m \u001b[0;34m=\u001b[0m \u001b[0marray\u001b[0m\u001b[0;34m.\u001b[0m\u001b[0mastype\u001b[0m\u001b[0;34m(\u001b[0m\u001b[0mdtype\u001b[0m\u001b[0;34m,\u001b[0m \u001b[0mcasting\u001b[0m\u001b[0;34m=\u001b[0m\u001b[0;34m\"unsafe\"\u001b[0m\u001b[0;34m,\u001b[0m \u001b[0mcopy\u001b[0m\u001b[0;34m=\u001b[0m\u001b[0;32mFalse\u001b[0m\u001b[0;34m)\u001b[0m\u001b[0;34m\u001b[0m\u001b[0;34m\u001b[0m\u001b[0m\n\u001b[1;32m    745\u001b[0m                 \u001b[0;32melse\u001b[0m\u001b[0;34m:\u001b[0m\u001b[0;34m\u001b[0m\u001b[0;34m\u001b[0m\u001b[0m\n\u001b[0;32m--> 746\u001b[0;31m                     \u001b[0marray\u001b[0m \u001b[0;34m=\u001b[0m \u001b[0mnp\u001b[0m\u001b[0;34m.\u001b[0m\u001b[0masarray\u001b[0m\u001b[0;34m(\u001b[0m\u001b[0marray\u001b[0m\u001b[0;34m,\u001b[0m \u001b[0morder\u001b[0m\u001b[0;34m=\u001b[0m\u001b[0morder\u001b[0m\u001b[0;34m,\u001b[0m \u001b[0mdtype\u001b[0m\u001b[0;34m=\u001b[0m\u001b[0mdtype\u001b[0m\u001b[0;34m)\u001b[0m\u001b[0;34m\u001b[0m\u001b[0;34m\u001b[0m\u001b[0m\n\u001b[0m\u001b[1;32m    747\u001b[0m             \u001b[0;32mexcept\u001b[0m \u001b[0mComplexWarning\u001b[0m \u001b[0;32mas\u001b[0m \u001b[0mcomplex_warning\u001b[0m\u001b[0;34m:\u001b[0m\u001b[0;34m\u001b[0m\u001b[0;34m\u001b[0m\u001b[0m\n\u001b[1;32m    748\u001b[0m                 raise ValueError(\n",
            "\u001b[0;32m/usr/local/lib/python3.8/dist-packages/pandas/core/generic.py\u001b[0m in \u001b[0;36m__array__\u001b[0;34m(self, dtype)\u001b[0m\n\u001b[1;32m   1991\u001b[0m \u001b[0;34m\u001b[0m\u001b[0m\n\u001b[1;32m   1992\u001b[0m     \u001b[0;32mdef\u001b[0m \u001b[0m__array__\u001b[0m\u001b[0;34m(\u001b[0m\u001b[0mself\u001b[0m\u001b[0;34m,\u001b[0m \u001b[0mdtype\u001b[0m\u001b[0;34m:\u001b[0m \u001b[0mNpDtype\u001b[0m \u001b[0;34m|\u001b[0m \u001b[0;32mNone\u001b[0m \u001b[0;34m=\u001b[0m \u001b[0;32mNone\u001b[0m\u001b[0;34m)\u001b[0m \u001b[0;34m->\u001b[0m \u001b[0mnp\u001b[0m\u001b[0;34m.\u001b[0m\u001b[0mndarray\u001b[0m\u001b[0;34m:\u001b[0m\u001b[0;34m\u001b[0m\u001b[0;34m\u001b[0m\u001b[0m\n\u001b[0;32m-> 1993\u001b[0;31m         \u001b[0;32mreturn\u001b[0m \u001b[0mnp\u001b[0m\u001b[0;34m.\u001b[0m\u001b[0masarray\u001b[0m\u001b[0;34m(\u001b[0m\u001b[0mself\u001b[0m\u001b[0;34m.\u001b[0m\u001b[0m_values\u001b[0m\u001b[0;34m,\u001b[0m \u001b[0mdtype\u001b[0m\u001b[0;34m=\u001b[0m\u001b[0mdtype\u001b[0m\u001b[0;34m)\u001b[0m\u001b[0;34m\u001b[0m\u001b[0;34m\u001b[0m\u001b[0m\n\u001b[0m\u001b[1;32m   1994\u001b[0m \u001b[0;34m\u001b[0m\u001b[0m\n\u001b[1;32m   1995\u001b[0m     def __array_wrap__(\n",
            "\u001b[0;31mValueError\u001b[0m: could not convert string to float: 'abstract factory'"
          ]
        }
      ]
    },
    {
      "cell_type": "code",
      "source": [
        "# Organize the patterns into clusters.\n"
      ],
      "metadata": {
        "id": "IJQsUUpS-AQs"
      },
      "execution_count": null,
      "outputs": []
    },
    {
      "cell_type": "code",
      "source": [
        "# Add the design problem to the dataset. Preprocess as necessary.\n",
        "\n",
        "df_patterns.loc[len(df_patterns.index)] = ['design problem 1', 1, '', '', '', 'Design a system enabling to display on a screen some empty windows (no button, no menu…). A window can have several different styles depending on the platform used. We consider two platforms, XWindow and Presentation Manager. The client code must be written independently and without knowledge of the future execution platform. It is probable that the system evolves in order to display specialized windows by ‘application windows’ (able to manage applications) and ‘iconised windows’ (with an icon)']\n",
        "print(df_patterns)"
      ],
      "metadata": {
        "id": "sNr9Ja3U-DJ3"
      },
      "execution_count": null,
      "outputs": []
    },
    {
      "cell_type": "code",
      "source": [
        "# Run another clustering job and find out which cluster the problem belongs to.\n"
      ],
      "metadata": {
        "id": "cHw44EY6-Jgi"
      },
      "execution_count": null,
      "outputs": []
    },
    {
      "cell_type": "code",
      "source": [
        "# Find out which patterns (out of the candidate patterns from the problem's assigned cluster) are a best fit for the problem.\n"
      ],
      "metadata": {
        "id": "O1X2UakI-O-8"
      },
      "execution_count": null,
      "outputs": []
    }
  ]
}