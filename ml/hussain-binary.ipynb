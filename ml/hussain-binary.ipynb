{
 "cells": [
  {
   "cell_type": "code",
   "execution_count": 1,
   "id": "35da50db-6cd2-40d1-9d20-cbc6e74610bc",
   "metadata": {},
   "outputs": [
    {
     "data": {
      "text/html": [
       "<div>\n",
       "<style scoped>\n",
       "    .dataframe tbody tr th:only-of-type {\n",
       "        vertical-align: middle;\n",
       "    }\n",
       "\n",
       "    .dataframe tbody tr th {\n",
       "        vertical-align: top;\n",
       "    }\n",
       "\n",
       "    .dataframe thead th {\n",
       "        text-align: right;\n",
       "    }\n",
       "</style>\n",
       "<table border=\"1\" class=\"dataframe\">\n",
       "  <thead>\n",
       "    <tr style=\"text-align: right;\">\n",
       "      <th></th>\n",
       "      <th>alternationexpress</th>\n",
       "      <th>arraycompositorimpl</th>\n",
       "      <th>chang</th>\n",
       "      <th>class</th>\n",
       "      <th>client</th>\n",
       "      <th>differ</th>\n",
       "      <th>effici</th>\n",
       "      <th>literalexpress</th>\n",
       "      <th>mani</th>\n",
       "      <th>oper</th>\n",
       "      <th>...</th>\n",
       "      <th>worst</th>\n",
       "      <th>write</th>\n",
       "      <th>xiconwindow</th>\n",
       "      <th>xwindow</th>\n",
       "      <th>xwindowimp</th>\n",
       "      <th>yet</th>\n",
       "      <th>youcreat</th>\n",
       "      <th>youdont</th>\n",
       "      <th>youne</th>\n",
       "      <th>youwant</th>\n",
       "    </tr>\n",
       "  </thead>\n",
       "  <tbody>\n",
       "    <tr>\n",
       "      <th>0</th>\n",
       "      <td>0</td>\n",
       "      <td>0</td>\n",
       "      <td>0</td>\n",
       "      <td>0</td>\n",
       "      <td>0</td>\n",
       "      <td>0</td>\n",
       "      <td>0</td>\n",
       "      <td>0</td>\n",
       "      <td>0</td>\n",
       "      <td>0</td>\n",
       "      <td>...</td>\n",
       "      <td>0</td>\n",
       "      <td>0</td>\n",
       "      <td>0</td>\n",
       "      <td>0</td>\n",
       "      <td>0</td>\n",
       "      <td>0</td>\n",
       "      <td>0</td>\n",
       "      <td>0</td>\n",
       "      <td>0</td>\n",
       "      <td>0</td>\n",
       "    </tr>\n",
       "    <tr>\n",
       "      <th>1</th>\n",
       "      <td>0</td>\n",
       "      <td>0</td>\n",
       "      <td>1</td>\n",
       "      <td>0</td>\n",
       "      <td>0</td>\n",
       "      <td>0</td>\n",
       "      <td>0</td>\n",
       "      <td>0</td>\n",
       "      <td>0</td>\n",
       "      <td>0</td>\n",
       "      <td>...</td>\n",
       "      <td>0</td>\n",
       "      <td>1</td>\n",
       "      <td>1</td>\n",
       "      <td>1</td>\n",
       "      <td>1</td>\n",
       "      <td>1</td>\n",
       "      <td>0</td>\n",
       "      <td>0</td>\n",
       "      <td>0</td>\n",
       "      <td>0</td>\n",
       "    </tr>\n",
       "    <tr>\n",
       "      <th>2</th>\n",
       "      <td>0</td>\n",
       "      <td>0</td>\n",
       "      <td>1</td>\n",
       "      <td>0</td>\n",
       "      <td>0</td>\n",
       "      <td>0</td>\n",
       "      <td>0</td>\n",
       "      <td>0</td>\n",
       "      <td>0</td>\n",
       "      <td>0</td>\n",
       "      <td>...</td>\n",
       "      <td>0</td>\n",
       "      <td>1</td>\n",
       "      <td>1</td>\n",
       "      <td>1</td>\n",
       "      <td>1</td>\n",
       "      <td>1</td>\n",
       "      <td>0</td>\n",
       "      <td>0</td>\n",
       "      <td>0</td>\n",
       "      <td>0</td>\n",
       "    </tr>\n",
       "    <tr>\n",
       "      <th>3</th>\n",
       "      <td>0</td>\n",
       "      <td>0</td>\n",
       "      <td>0</td>\n",
       "      <td>0</td>\n",
       "      <td>0</td>\n",
       "      <td>0</td>\n",
       "      <td>0</td>\n",
       "      <td>0</td>\n",
       "      <td>0</td>\n",
       "      <td>0</td>\n",
       "      <td>...</td>\n",
       "      <td>0</td>\n",
       "      <td>0</td>\n",
       "      <td>0</td>\n",
       "      <td>0</td>\n",
       "      <td>0</td>\n",
       "      <td>0</td>\n",
       "      <td>0</td>\n",
       "      <td>0</td>\n",
       "      <td>0</td>\n",
       "      <td>0</td>\n",
       "    </tr>\n",
       "    <tr>\n",
       "      <th>4</th>\n",
       "      <td>0</td>\n",
       "      <td>0</td>\n",
       "      <td>0</td>\n",
       "      <td>0</td>\n",
       "      <td>0</td>\n",
       "      <td>0</td>\n",
       "      <td>0</td>\n",
       "      <td>0</td>\n",
       "      <td>0</td>\n",
       "      <td>0</td>\n",
       "      <td>...</td>\n",
       "      <td>0</td>\n",
       "      <td>0</td>\n",
       "      <td>0</td>\n",
       "      <td>0</td>\n",
       "      <td>0</td>\n",
       "      <td>0</td>\n",
       "      <td>0</td>\n",
       "      <td>0</td>\n",
       "      <td>0</td>\n",
       "      <td>0</td>\n",
       "    </tr>\n",
       "    <tr>\n",
       "      <th>5</th>\n",
       "      <td>0</td>\n",
       "      <td>0</td>\n",
       "      <td>0</td>\n",
       "      <td>0</td>\n",
       "      <td>0</td>\n",
       "      <td>0</td>\n",
       "      <td>0</td>\n",
       "      <td>0</td>\n",
       "      <td>0</td>\n",
       "      <td>0</td>\n",
       "      <td>...</td>\n",
       "      <td>0</td>\n",
       "      <td>0</td>\n",
       "      <td>0</td>\n",
       "      <td>0</td>\n",
       "      <td>0</td>\n",
       "      <td>0</td>\n",
       "      <td>0</td>\n",
       "      <td>0</td>\n",
       "      <td>0</td>\n",
       "      <td>0</td>\n",
       "    </tr>\n",
       "    <tr>\n",
       "      <th>6</th>\n",
       "      <td>0</td>\n",
       "      <td>0</td>\n",
       "      <td>0</td>\n",
       "      <td>0</td>\n",
       "      <td>0</td>\n",
       "      <td>0</td>\n",
       "      <td>0</td>\n",
       "      <td>0</td>\n",
       "      <td>0</td>\n",
       "      <td>0</td>\n",
       "      <td>...</td>\n",
       "      <td>0</td>\n",
       "      <td>0</td>\n",
       "      <td>0</td>\n",
       "      <td>0</td>\n",
       "      <td>0</td>\n",
       "      <td>0</td>\n",
       "      <td>0</td>\n",
       "      <td>0</td>\n",
       "      <td>0</td>\n",
       "      <td>0</td>\n",
       "    </tr>\n",
       "    <tr>\n",
       "      <th>7</th>\n",
       "      <td>0</td>\n",
       "      <td>0</td>\n",
       "      <td>0</td>\n",
       "      <td>0</td>\n",
       "      <td>0</td>\n",
       "      <td>0</td>\n",
       "      <td>0</td>\n",
       "      <td>0</td>\n",
       "      <td>0</td>\n",
       "      <td>0</td>\n",
       "      <td>...</td>\n",
       "      <td>0</td>\n",
       "      <td>0</td>\n",
       "      <td>0</td>\n",
       "      <td>0</td>\n",
       "      <td>0</td>\n",
       "      <td>0</td>\n",
       "      <td>0</td>\n",
       "      <td>0</td>\n",
       "      <td>0</td>\n",
       "      <td>0</td>\n",
       "    </tr>\n",
       "    <tr>\n",
       "      <th>8</th>\n",
       "      <td>0</td>\n",
       "      <td>0</td>\n",
       "      <td>0</td>\n",
       "      <td>1</td>\n",
       "      <td>0</td>\n",
       "      <td>0</td>\n",
       "      <td>0</td>\n",
       "      <td>0</td>\n",
       "      <td>0</td>\n",
       "      <td>0</td>\n",
       "      <td>...</td>\n",
       "      <td>0</td>\n",
       "      <td>0</td>\n",
       "      <td>0</td>\n",
       "      <td>0</td>\n",
       "      <td>0</td>\n",
       "      <td>0</td>\n",
       "      <td>0</td>\n",
       "      <td>0</td>\n",
       "      <td>0</td>\n",
       "      <td>0</td>\n",
       "    </tr>\n",
       "    <tr>\n",
       "      <th>9</th>\n",
       "      <td>0</td>\n",
       "      <td>0</td>\n",
       "      <td>0</td>\n",
       "      <td>0</td>\n",
       "      <td>0</td>\n",
       "      <td>0</td>\n",
       "      <td>0</td>\n",
       "      <td>0</td>\n",
       "      <td>0</td>\n",
       "      <td>0</td>\n",
       "      <td>...</td>\n",
       "      <td>0</td>\n",
       "      <td>0</td>\n",
       "      <td>0</td>\n",
       "      <td>0</td>\n",
       "      <td>0</td>\n",
       "      <td>0</td>\n",
       "      <td>0</td>\n",
       "      <td>0</td>\n",
       "      <td>0</td>\n",
       "      <td>0</td>\n",
       "    </tr>\n",
       "  </tbody>\n",
       "</table>\n",
       "<p>10 rows × 1465 columns</p>\n",
       "</div>"
      ],
      "text/plain": [
       "   alternationexpress  arraycompositorimpl  chang  class  client  differ  \\\n",
       "0                   0                    0      0      0       0       0   \n",
       "1                   0                    0      1      0       0       0   \n",
       "2                   0                    0      1      0       0       0   \n",
       "3                   0                    0      0      0       0       0   \n",
       "4                   0                    0      0      0       0       0   \n",
       "5                   0                    0      0      0       0       0   \n",
       "6                   0                    0      0      0       0       0   \n",
       "7                   0                    0      0      0       0       0   \n",
       "8                   0                    0      0      1       0       0   \n",
       "9                   0                    0      0      0       0       0   \n",
       "\n",
       "   effici  literalexpress  mani  oper  ...  worst  write  xiconwindow  \\\n",
       "0       0               0     0     0  ...      0      0            0   \n",
       "1       0               0     0     0  ...      0      1            1   \n",
       "2       0               0     0     0  ...      0      1            1   \n",
       "3       0               0     0     0  ...      0      0            0   \n",
       "4       0               0     0     0  ...      0      0            0   \n",
       "5       0               0     0     0  ...      0      0            0   \n",
       "6       0               0     0     0  ...      0      0            0   \n",
       "7       0               0     0     0  ...      0      0            0   \n",
       "8       0               0     0     0  ...      0      0            0   \n",
       "9       0               0     0     0  ...      0      0            0   \n",
       "\n",
       "   xwindow  xwindowimp  yet  youcreat  youdont  youne  youwant  \n",
       "0        0           0    0         0        0      0        0  \n",
       "1        1           1    1         0        0      0        0  \n",
       "2        1           1    1         0        0      0        0  \n",
       "3        0           0    0         0        0      0        0  \n",
       "4        0           0    0         0        0      0        0  \n",
       "5        0           0    0         0        0      0        0  \n",
       "6        0           0    0         0        0      0        0  \n",
       "7        0           0    0         0        0      0        0  \n",
       "8        0           0    0         0        0      0        0  \n",
       "9        0           0    0         0        0      0        0  \n",
       "\n",
       "[10 rows x 1465 columns]"
      ]
     },
     "execution_count": 1,
     "metadata": {},
     "output_type": "execute_result"
    }
   ],
   "source": [
    "import numpy as np\n",
    "import pandas as pd\n",
    "\n",
    "df = pd.read_csv('binary_orig.csv')\n",
    "\n",
    "df.drop(df.columns[[0]], axis=1, inplace=True) # Remove the first (junk) column\n",
    "\n",
    "df[:10] # Only show the first 10 columns"
   ]
  },
  {
   "cell_type": "markdown",
   "id": "d48ac1b8-a700-494d-9e51-8447e579ade6",
   "metadata": {},
   "source": [
    "***\n",
    "#### From Hussain's 2018 paper:\n",
    "\n",
    "Firstly, to determine the finest weighting\n",
    "method of each unsupervised learner (in each case study), we\n",
    "recommend a set of __micro-averaging__ measures (Eqs. (9) and (10)),\n",
    "namely Precision (P), Recall (R), and F-measure [32,50]. The aim\n",
    "of these measures is to figure out the best weighting method. For\n",
    "example, the finest weighting method for an unsupervised learner\n",
    "is decided on the bases of utmost F-measure value."
   ]
  },
  {
   "cell_type": "code",
   "execution_count": 37,
   "id": "74a0acc2-e7d4-4eb8-80b1-0eb0989e98f3",
   "metadata": {},
   "outputs": [
    {
     "name": "stdout",
     "output_type": "stream",
     "text": [
      "===========KMEANS===========\n",
      "Predicted labels:\n"
     ]
    },
    {
     "data": {
      "text/plain": [
       "[0, 0, 0, 0, 0, 1, 0, 0, 0, 0, 0, 0, 0, 0, 2, 0, 0, 0, 0, 0, 0, 0, 0]"
      ]
     },
     "metadata": {},
     "output_type": "display_data"
    },
    {
     "name": "stdout",
     "output_type": "stream",
     "text": [
      "\n",
      "Best fscore is: 0.478 from true_6\n"
     ]
    },
    {
     "data": {
      "text/plain": [
       "[2, 2, 2, 2, 2, 1, 1, 1, 1, 1, 1, 1, 0, 0, 0, 0, 0, 0, 0, 0, 0, 0, 0]"
      ]
     },
     "metadata": {},
     "output_type": "display_data"
    }
   ],
   "source": [
    "from sklearn.cluster import KMeans\n",
    "\n",
    "km = KMeans(n_clusters=3,init='random',n_init='auto',random_state=0).fit(df)\n",
    "\n",
    "print('===========KMEANS===========')\n",
    "print('Predicted labels:')\n",
    "display(km.labels_.tolist())\n",
    "\n",
    "true_1 = [0]*5 + [1]*7 + [2]*11\n",
    "true_2 = [0]*5 + [2]*7 + [1]*11\n",
    "true_3 = [1]*5 + [0]*7 + [2]*11\n",
    "true_4 = [1]*5 + [2]*7 + [0]*11\n",
    "true_5 = [2]*5 + [0]*7 + [1]*11\n",
    "true_6 = [2]*5 + [1]*7 + [0]*11\n",
    "\n",
    "from sklearn.metrics import f1_score\n",
    "\n",
    "fscores = [\n",
    "    f1_score(true_1, km.labels_.tolist(),average='micro'),\n",
    "    f1_score(true_2, km.labels_.tolist(),average='micro'),\n",
    "    f1_score(true_3, km.labels_.tolist(),average='micro'),\n",
    "    f1_score(true_4, km.labels_.tolist(),average='micro'),\n",
    "    f1_score(true_5, km.labels_.tolist(),average='micro'),\n",
    "    f1_score(true_6, km.labels_.tolist(),average='micro')\n",
    "]\n",
    "\n",
    "km_best = np.around(max(fscores),3)\n",
    "print('\\nBest fscore is:', km_best, 'from true_' + str(np.argmax(fscores) + 1))\n",
    "display(globals()['true_' + str(np.argmax(fscores) + 1)])"
   ]
  },
  {
   "cell_type": "markdown",
   "id": "3b39ea52-254f-4dcd-8d33-540ae8cabb1b",
   "metadata": {},
   "source": [
    "## Apply preprocessing to first design problem"
   ]
  },
  {
   "cell_type": "code",
   "execution_count": 54,
   "id": "58e0aba1-82b5-4e30-9dfc-13ade4773c20",
   "metadata": {
    "tags": []
   },
   "outputs": [],
   "source": [
    "dp_1 = \"\"\"Design a drawing editor. A design is composed\n",
    "of te graphics (lines, rectangles and roses), positioned at precise\n",
    "positions. Each graphic form must be modeled by a class that\n",
    "provides a method draw(): void. A rose is a complex graphic designed\n",
    "by a black-box class component. This component performs\n",
    "this drawing in memory, and provides access through a method\n",
    "getRose(): int that returns the address of the drawing. It is probable\n",
    "that the system evolves in order to draw circles\"\"\"\n",
    "\n",
    "import re\n",
    "import string\n",
    "\n",
    "dp_1 = dp_1.lower()\n",
    "dp_1 = dp_1.translate(str.maketrans('', '', string.punctuation))\n",
    "dp_1 = re.sub('\\\\n', ' ', dp_1)\n",
    "\n",
    "# print('Design Problem 1 with lowercase and symbol removal:')\n",
    "# print('======')\n",
    "# print(dp_1)\n",
    "\n",
    "from nltk.corpus import stopwords\n",
    "from nltk.stem import SnowballStemmer\n",
    "\n",
    "stop_words = set(stopwords.words('english'))\n",
    "stemmer = SnowballStemmer(\"english\")\n",
    "\n",
    "dp_1_words = set([stemmer.stem(word) for word in dp_1.split() if word not in stop_words])"
   ]
  },
  {
   "cell_type": "markdown",
   "id": "b9f5d529-b815-4ba0-b78f-8cb95082004f",
   "metadata": {},
   "source": [
    "## Create new DataFrame with extra row for prediction"
   ]
  },
  {
   "cell_type": "code",
   "execution_count": 129,
   "id": "1d5d1c81-2dda-4fb0-a0b9-21e051f5d6d5",
   "metadata": {
    "tags": []
   },
   "outputs": [
    {
     "name": "stdout",
     "output_type": "stream",
     "text": [
      "Design Problem 1 is predicted to be in cluster 0\n",
      "Correct cluster was 1\n"
     ]
    }
   ],
   "source": [
    "new_row = pd.Series([0] * len(df.columns), dtype=np.int64, index=df.columns)\n",
    "\n",
    "# Design Problem 1 is supposed to be Adapater (Structural)\n",
    "print('Design Problem 1 is predicted to be in cluster', km.predict(new_row.to_frame().T)[0])\n",
    "print('Correct cluster was', globals()['true_' + str(np.argmax(fscores) + 1)][5])\n",
    "# display()\n",
    "\n",
    "for idx, word in enumerate(list(df.columns.values)):\n",
    "    new_row[idx] = 1 if word in dp_1_words else 0\n",
    "\n",
    "df_with_new_row = pd.concat([df, new_row.to_frame().T], ignore_index=True)"
   ]
  },
  {
   "cell_type": "code",
   "execution_count": 3,
   "id": "15d07f15-ec9a-4c51-8db7-0f9df94aae8b",
   "metadata": {},
   "outputs": [
    {
     "name": "stdout",
     "output_type": "stream",
     "text": [
      "===========AGGLOMERATIVE===========\n",
      "Predicted labels:\n"
     ]
    },
    {
     "data": {
      "text/plain": [
       "[0, 1, 1, 0, 0, 2, 0, 0, 0, 0, 0, 0, 0, 0, 0, 0, 0, 0, 0, 0, 0, 0, 0]"
      ]
     },
     "metadata": {},
     "output_type": "display_data"
    },
    {
     "name": "stdout",
     "output_type": "stream",
     "text": [
      "\n",
      "Best fscore is: 0.609 from true_4\n"
     ]
    },
    {
     "data": {
      "text/plain": [
       "[1, 1, 1, 1, 1, 2, 2, 2, 2, 2, 2, 2, 0, 0, 0, 0, 0, 0, 0, 0, 0, 0, 0]"
      ]
     },
     "metadata": {},
     "output_type": "display_data"
    }
   ],
   "source": [
    "from sklearn.cluster import AgglomerativeClustering\n",
    "\n",
    "agg = AgglomerativeClustering(n_clusters=3).fit(df)\n",
    "\n",
    "print('===========AGGLOMERATIVE===========')\n",
    "print('Predicted labels:')\n",
    "display(agg.labels_.tolist())\n",
    "\n",
    "fscores = [\n",
    "    f1_score(true_1, agg.labels_.tolist(),average='micro'),\n",
    "    f1_score(true_2, agg.labels_.tolist(),average='micro'),\n",
    "    f1_score(true_3, agg.labels_.tolist(),average='micro'),\n",
    "    f1_score(true_4, agg.labels_.tolist(),average='micro'),\n",
    "    f1_score(true_5, agg.labels_.tolist(),average='micro'),\n",
    "    f1_score(true_6, agg.labels_.tolist(),average='micro')\n",
    "]\n",
    "\n",
    "agg_best = np.around(max(fscores),3)\n",
    "print('\\nBest fscore is:', agg_best, 'from true_' + str(np.argmax(fscores) + 1))\n",
    "display(globals()['true_' + str(np.argmax(fscores) + 1)])"
   ]
  },
  {
   "cell_type": "code",
   "execution_count": 4,
   "id": "97b013b3-0cb8-4b5d-9bb0-129104168236",
   "metadata": {},
   "outputs": [
    {
     "name": "stdout",
     "output_type": "stream",
     "text": [
      "===========PAM-EUCLIDEAN===========\n",
      "Predicted labels:\n"
     ]
    },
    {
     "data": {
      "text/plain": [
       "[1, 0, 0, 0, 0, 1, 2, 0, 1, 0, 2, 0, 0, 1, 0, 1, 1, 0, 0, 1, 1, 1, 2]"
      ]
     },
     "metadata": {},
     "output_type": "display_data"
    },
    {
     "name": "stdout",
     "output_type": "stream",
     "text": [
      "\n",
      "Best fscore is: 0.522 from true_2\n"
     ]
    },
    {
     "data": {
      "text/plain": [
       "[0, 0, 0, 0, 0, 2, 2, 2, 2, 2, 2, 2, 1, 1, 1, 1, 1, 1, 1, 1, 1, 1, 1]"
      ]
     },
     "metadata": {},
     "output_type": "display_data"
    }
   ],
   "source": [
    "from sklearn_extra.cluster import KMedoids\n",
    "\n",
    "kmed = KMedoids(n_clusters=3).fit(df)\n",
    "\n",
    "print('===========PAM-EUCLIDEAN===========')\n",
    "print('Predicted labels:')\n",
    "display(kmed.labels_.tolist())\n",
    "\n",
    "fscores = [\n",
    "    f1_score(true_1, kmed.labels_.tolist(),average='micro'),\n",
    "    f1_score(true_2, kmed.labels_.tolist(),average='micro'),\n",
    "    f1_score(true_3, kmed.labels_.tolist(),average='micro'),\n",
    "    f1_score(true_4, kmed.labels_.tolist(),average='micro'),\n",
    "    f1_score(true_5, kmed.labels_.tolist(),average='micro'),\n",
    "    f1_score(true_6, kmed.labels_.tolist(),average='micro')\n",
    "]\n",
    "\n",
    "pam_best = np.around(max(fscores),3)\n",
    "print('\\nBest fscore is:', pam_best, 'from true_' + str(np.argmax(fscores) + 1))\n",
    "display(globals()['true_' + str(np.argmax(fscores) + 1)])"
   ]
  },
  {
   "cell_type": "code",
   "execution_count": 5,
   "id": "12aafffe-eb1e-47c7-aa30-12a8168b72ed",
   "metadata": {
    "tags": []
   },
   "outputs": [
    {
     "name": "stdout",
     "output_type": "stream",
     "text": [
      "===========PAM-MANHATTAN===========\n",
      "Predicted labels:\n"
     ]
    },
    {
     "data": {
      "text/plain": [
       "[1, 0, 0, 0, 0, 1, 2, 0, 1, 0, 2, 0, 0, 1, 0, 1, 1, 0, 0, 1, 1, 1, 2]"
      ]
     },
     "metadata": {},
     "output_type": "display_data"
    },
    {
     "name": "stdout",
     "output_type": "stream",
     "text": [
      "\n",
      "Best fscore is: 0.522 from true_2\n"
     ]
    },
    {
     "data": {
      "text/plain": [
       "[0, 0, 0, 0, 0, 2, 2, 2, 2, 2, 2, 2, 1, 1, 1, 1, 1, 1, 1, 1, 1, 1, 1]"
      ]
     },
     "metadata": {},
     "output_type": "display_data"
    }
   ],
   "source": [
    "from sklearn_extra.cluster import KMedoids\n",
    "\n",
    "kmed_manhattan = KMedoids(n_clusters=3,metric='manhattan').fit(df)\n",
    "\n",
    "print('===========PAM-MANHATTAN===========')\n",
    "print('Predicted labels:')\n",
    "display(kmed_manhattan.labels_.tolist())\n",
    "\n",
    "fscores = [\n",
    "    f1_score(true_1, kmed_manhattan.labels_.tolist(),average='micro'),\n",
    "    f1_score(true_2, kmed_manhattan.labels_.tolist(),average='micro'),\n",
    "    f1_score(true_3, kmed_manhattan.labels_.tolist(),average='micro'),\n",
    "    f1_score(true_4, kmed_manhattan.labels_.tolist(),average='micro'),\n",
    "    f1_score(true_5, kmed_manhattan.labels_.tolist(),average='micro'),\n",
    "    f1_score(true_6, kmed_manhattan.labels_.tolist(),average='micro')\n",
    "]\n",
    "\n",
    "pam_manh_best = np.around(max(fscores),3)\n",
    "print('\\nBest fscore is:', pam_manh_best, 'from true_' + str(np.argmax(fscores) + 1))\n",
    "display(globals()['true_' + str(np.argmax(fscores) + 1)])"
   ]
  },
  {
   "cell_type": "code",
   "execution_count": 6,
   "id": "11bc940c-7943-4985-b06b-8f2e3f056ce9",
   "metadata": {
    "tags": []
   },
   "outputs": [
    {
     "name": "stdout",
     "output_type": "stream",
     "text": [
      "===========FUZZY-CMEANS===========\n",
      "Predicted labels:\n"
     ]
    },
    {
     "data": {
      "text/plain": [
       "[0, 2, 2, 0, 0, 0, 0, 0, 0, 0, 0, 0, 0, 0, 0, 0, 0, 0, 0, 0, 0, 0, 0]"
      ]
     },
     "metadata": {},
     "output_type": "display_data"
    },
    {
     "name": "stdout",
     "output_type": "stream",
     "text": [
      "\n",
      "Best fscore is: 0.565 from true_6\n"
     ]
    },
    {
     "data": {
      "text/plain": [
       "[2, 2, 2, 2, 2, 1, 1, 1, 1, 1, 1, 1, 0, 0, 0, 0, 0, 0, 0, 0, 0, 0, 0]"
      ]
     },
     "metadata": {},
     "output_type": "display_data"
    }
   ],
   "source": [
    "# https://towardsdatascience.com/fuzzy-c-means-clustering-with-python-f4908c714081\n",
    "from fcmeans import FCM\n",
    "\n",
    "cm = FCM(n_clusters=3)\n",
    "cm.fit(df.to_numpy())\n",
    "\n",
    "labels = cm.predict(df.to_numpy()).tolist()\n",
    "\n",
    "print('===========FUZZY-CMEANS===========')\n",
    "print('Predicted labels:')\n",
    "display(labels)\n",
    "\n",
    "fscores = [\n",
    "    f1_score(true_1, labels,average='micro'),\n",
    "    f1_score(true_2, labels,average='micro'),\n",
    "    f1_score(true_3, labels,average='micro'),\n",
    "    f1_score(true_4, labels,average='micro'),\n",
    "    f1_score(true_5, labels,average='micro'),\n",
    "    f1_score(true_6, labels,average='micro')\n",
    "]\n",
    "\n",
    "fcm_best = np.around(max(fscores),3)\n",
    "print('\\nBest fscore is:', fcm_best, 'from true_' + str(np.argmax(fscores) + 1))\n",
    "display(globals()['true_' + str(np.argmax(fscores) + 1)])"
   ]
  },
  {
   "cell_type": "code",
   "execution_count": 7,
   "id": "90ad1349-007e-460a-9b03-8a3a39923cc0",
   "metadata": {},
   "outputs": [
    {
     "data": {
      "image/png": "[encoded data removed]",
      "text/plain": [
       "<Figure size 640x480 with 1 Axes>"
      ]
     },
     "metadata": {},
     "output_type": "display_data"
    }
   ],
   "source": [
    "import matplotlib.pyplot as plt\n",
    "\n",
    "data = [fcm_best, agg_best, km_best, pam_best, pam_manh_best]\n",
    "labels = ['C-Means', 'Agglomerative', 'K-Means','PAM-Euclid','PAM-Manh']\n",
    "plt.xticks(range(len(data)), labels)\n",
    "plt.ylim([0, 0.8])\n",
    "plt.xlabel('Unsupervised Learners (TF-IDF)')\n",
    "plt.ylabel('F-Value')\n",
    "plt.bar(range(len(data)), data) \n",
    "plt.show()"
   ]
  },
  {
   "cell_type": "code",
   "execution_count": null,
   "id": "a1757ec5-94ef-4166-883e-8dee872e4ea9",
   "metadata": {},
   "outputs": [],
   "source": []
  }
 ],
 "metadata": {
  "kernelspec": {
   "display_name": "Python 3 (ipykernel)",
   "language": "python",
   "name": "python3"
  },
  "language_info": {
   "codemirror_mode": {
    "name": "ipython",
    "version": 3
   },
   "file_extension": ".py",
   "mimetype": "text/x-python",
   "name": "python",
   "nbconvert_exporter": "python",
   "pygments_lexer": "ipython3",
   "version": "3.10.2"
  }
 },
 "nbformat": 4,
 "nbformat_minor": 5
}
