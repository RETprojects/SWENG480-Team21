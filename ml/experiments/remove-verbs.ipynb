{
 "cells": [
  {
   "cell_type": "code",
   "execution_count": 1,
   "id": "952d1d1f-8ba4-476f-bf0f-258e589167cc",
   "metadata": {
    "tags": []
   },
   "outputs": [],
   "source": [
    "import os\n",
    "import re\n",
    "import sys\n",
    "\n",
    "import numpy as np\n",
    "import pandas as pd\n",
    "from fcmeans import FCM\n",
    "from nltk import PorterStemmer\n",
    "from nltk.corpus import stopwords\n",
    "from nltk.tag import pos_tag\n",
    "from nltk.tokenize import word_tokenize\n",
    "from sklearn import cluster\n",
    "from sklearn.cluster import AgglomerativeClustering, BisectingKMeans, KMeans\n",
    "from sklearn.feature_extraction.text import CountVectorizer, TfidfVectorizer\n",
    "from sklearn.metrics import f1_score\n",
    "from sklearn.metrics.pairwise import cosine_similarity\n",
    "from sklearn_extra.cluster import KMedoids"
   ]
  },
  {
   "cell_type": "code",
   "execution_count": 2,
   "id": "9b42158e-f9d6-4141-aa44-d47357524e78",
   "metadata": {
    "tags": []
   },
   "outputs": [],
   "source": [
    "def preprocess(series: pd.Series, verbs: bool=False):\n",
    "    stop_words = set(stopwords.words(\"english\"))\n",
    "\n",
    "    stemmer = PorterStemmer()\n",
    "\n",
    "    # Lowercase the string\n",
    "    series = series.str.lower()\n",
    "\n",
    "    # Replace all non-alphabetical characters with whitespace\n",
    "    series = series.str.replace(\"[^A-Za-z]\", repl=\" \", regex=True)\n",
    "\n",
    "    # Remove stop words and stem\n",
    "    if verbs:\n",
    "        print(\"verbs only\")\n",
    "        series = series.map(\n",
    "            lambda x: \" \".join(\n",
    "                [stemmer.stem(word) for word in x.split() if word not in stop_words and pos_tag([word], tagset=\"universal\")[0][1] == \"VERB\"]\n",
    "            )\n",
    "        )\n",
    "        display(series[:5])\n",
    "    else:\n",
    "        print(\"no verbs change\")\n",
    "        series = series.map(\n",
    "            lambda x: \" \".join(\n",
    "                [stemmer.stem(word) for word in x.split() if word not in stop_words]\n",
    "            )\n",
    "        )\n",
    "        display(series[:5])\n",
    "    \n",
    "    return series"
   ]
  },
  {
   "cell_type": "code",
   "execution_count": 3,
   "id": "cbd938e4-ab72-4978-bca7-ec09b9a4f950",
   "metadata": {
    "tags": []
   },
   "outputs": [
    {
     "data": {
      "text/html": [
       "<div>\n",
       "<style scoped>\n",
       "    .dataframe tbody tr th:only-of-type {\n",
       "        vertical-align: middle;\n",
       "    }\n",
       "\n",
       "    .dataframe tbody tr th {\n",
       "        vertical-align: top;\n",
       "    }\n",
       "\n",
       "    .dataframe thead th {\n",
       "        text-align: right;\n",
       "    }\n",
       "</style>\n",
       "<table border=\"1\" class=\"dataframe\">\n",
       "  <thead>\n",
       "    <tr style=\"text-align: right;\">\n",
       "      <th></th>\n",
       "      <th>name</th>\n",
       "      <th>overview</th>\n",
       "    </tr>\n",
       "  </thead>\n",
       "  <tbody>\n",
       "    <tr>\n",
       "      <th>0</th>\n",
       "      <td>abstract_factory</td>\n",
       "      <td>Provide an interface for creating families of ...</td>\n",
       "    </tr>\n",
       "    <tr>\n",
       "      <th>1</th>\n",
       "      <td>builder</td>\n",
       "      <td>Separate the construction of a complex object ...</td>\n",
       "    </tr>\n",
       "    <tr>\n",
       "      <th>2</th>\n",
       "      <td>factory_method</td>\n",
       "      <td>Define an interface for creating an object but...</td>\n",
       "    </tr>\n",
       "    <tr>\n",
       "      <th>3</th>\n",
       "      <td>prototype</td>\n",
       "      <td>Specify the kinds of objects to create using a...</td>\n",
       "    </tr>\n",
       "    <tr>\n",
       "      <th>4</th>\n",
       "      <td>singleton</td>\n",
       "      <td>Ensure a class only has one instance and provi...</td>\n",
       "    </tr>\n",
       "    <tr>\n",
       "      <th>5</th>\n",
       "      <td>adapter</td>\n",
       "      <td>Convert the interface of a class into another ...</td>\n",
       "    </tr>\n",
       "    <tr>\n",
       "      <th>6</th>\n",
       "      <td>bridge</td>\n",
       "      <td>Decouple an abstraction from its implementatio...</td>\n",
       "    </tr>\n",
       "    <tr>\n",
       "      <th>7</th>\n",
       "      <td>composite</td>\n",
       "      <td>Compose objects into tree structures to repres...</td>\n",
       "    </tr>\n",
       "    <tr>\n",
       "      <th>8</th>\n",
       "      <td>decorator</td>\n",
       "      <td>Attach additional responsibilities to an objec...</td>\n",
       "    </tr>\n",
       "    <tr>\n",
       "      <th>9</th>\n",
       "      <td>facade</td>\n",
       "      <td>Provide a unified interface to a set of interf...</td>\n",
       "    </tr>\n",
       "    <tr>\n",
       "      <th>10</th>\n",
       "      <td>flyweight</td>\n",
       "      <td>Use sharing to support large numbers of fine-g...</td>\n",
       "    </tr>\n",
       "    <tr>\n",
       "      <th>11</th>\n",
       "      <td>proxy</td>\n",
       "      <td>Provide a surrogate or placeholder for another...</td>\n",
       "    </tr>\n",
       "    <tr>\n",
       "      <th>12</th>\n",
       "      <td>chain_of_responsibility</td>\n",
       "      <td>Avoid coupling the sender of a request to its ...</td>\n",
       "    </tr>\n",
       "    <tr>\n",
       "      <th>13</th>\n",
       "      <td>command</td>\n",
       "      <td>Encapsulate a request as an object thereby let...</td>\n",
       "    </tr>\n",
       "    <tr>\n",
       "      <th>14</th>\n",
       "      <td>interpreter</td>\n",
       "      <td>Given a language define a represention for its...</td>\n",
       "    </tr>\n",
       "    <tr>\n",
       "      <th>15</th>\n",
       "      <td>iterator</td>\n",
       "      <td>Provide a way to access the elements of an agg...</td>\n",
       "    </tr>\n",
       "    <tr>\n",
       "      <th>16</th>\n",
       "      <td>mediator</td>\n",
       "      <td>Define an object that encapsulates how a set o...</td>\n",
       "    </tr>\n",
       "    <tr>\n",
       "      <th>17</th>\n",
       "      <td>memento</td>\n",
       "      <td>Without violating encapsulation capture and ex...</td>\n",
       "    </tr>\n",
       "    <tr>\n",
       "      <th>18</th>\n",
       "      <td>observer</td>\n",
       "      <td>Define a one-to-many dependency between object...</td>\n",
       "    </tr>\n",
       "    <tr>\n",
       "      <th>19</th>\n",
       "      <td>state</td>\n",
       "      <td>Allow an object to alter its behavior when its...</td>\n",
       "    </tr>\n",
       "    <tr>\n",
       "      <th>20</th>\n",
       "      <td>strategy</td>\n",
       "      <td>Define a family of algorithms encapsulate each...</td>\n",
       "    </tr>\n",
       "    <tr>\n",
       "      <th>21</th>\n",
       "      <td>template_method</td>\n",
       "      <td>Define the skeleton of an algorithm in an oper...</td>\n",
       "    </tr>\n",
       "    <tr>\n",
       "      <th>22</th>\n",
       "      <td>visitor</td>\n",
       "      <td>Represent an operation to be performed on the ...</td>\n",
       "    </tr>\n",
       "  </tbody>\n",
       "</table>\n",
       "</div>"
      ],
      "text/plain": [
       "                       name                                           overview\n",
       "0          abstract_factory  Provide an interface for creating families of ...\n",
       "1                   builder  Separate the construction of a complex object ...\n",
       "2            factory_method  Define an interface for creating an object but...\n",
       "3                 prototype  Specify the kinds of objects to create using a...\n",
       "4                 singleton  Ensure a class only has one instance and provi...\n",
       "5                   adapter  Convert the interface of a class into another ...\n",
       "6                    bridge  Decouple an abstraction from its implementatio...\n",
       "7                 composite  Compose objects into tree structures to repres...\n",
       "8                 decorator  Attach additional responsibilities to an objec...\n",
       "9                    facade  Provide a unified interface to a set of interf...\n",
       "10                flyweight  Use sharing to support large numbers of fine-g...\n",
       "11                    proxy  Provide a surrogate or placeholder for another...\n",
       "12  chain_of_responsibility  Avoid coupling the sender of a request to its ...\n",
       "13                  command  Encapsulate a request as an object thereby let...\n",
       "14              interpreter  Given a language define a represention for its...\n",
       "15                 iterator  Provide a way to access the elements of an agg...\n",
       "16                 mediator  Define an object that encapsulates how a set o...\n",
       "17                  memento  Without violating encapsulation capture and ex...\n",
       "18                 observer  Define a one-to-many dependency between object...\n",
       "19                    state  Allow an object to alter its behavior when its...\n",
       "20                 strategy  Define a family of algorithms encapsulate each...\n",
       "21          template_method  Define the skeleton of an algorithm in an oper...\n",
       "22                  visitor  Represent an operation to be performed on the ..."
      ]
     },
     "execution_count": 3,
     "metadata": {},
     "output_type": "execute_result"
    }
   ],
   "source": [
    "FILENAME = \"GOF Patterns (2.0).csv\"\n",
    "file_path = os.path.join(os.path.dirname(__file__), f\"../data/{FILENAME}\")\n",
    "\n",
    "df = pd.read_csv(file_path)\n",
    "    \n",
    "# ADAPTER\n",
    "design_problem = \"Design a drawing editor. A design is composed of te graphics (lines, rectangles and roses), positioned at precise positions. Each graphic form must be modeled by a class that provides a method draw(): void. A rose is a complex graphic designed by a black-box class component. This component performs this drawing in memory, and provides access through a method getRose(): int that returns the address of the drawing. It is probable that the system evolves in order to draw circles\"\n",
    "\n",
    "del df[\"correct_category\"]\n",
    "\n",
    "df"
   ]
  },
  {
   "cell_type": "code",
   "execution_count": 4,
   "id": "60812873-b331-460c-af74-95dafa66fc04",
   "metadata": {
    "tags": []
   },
   "outputs": [
    {
     "name": "stdout",
     "output_type": "stream",
     "text": [
      "no verbs change\n"
     ]
    },
    {
     "data": {
      "text/plain": [
       "0    provid interfac creat famili relat depend obje...\n",
       "1    separ construct complex object represent const...\n",
       "2    defin interfac creat object let subclass decid...\n",
       "3    specifi kind object creat use prototyp instanc...\n",
       "4    ensur class one instanc provid global point ac...\n",
       "Name: overview, dtype: object"
      ]
     },
     "metadata": {},
     "output_type": "display_data"
    },
    {
     "name": "stdout",
     "output_type": "stream",
     "text": [
      "verbs only\n"
     ]
    },
    {
     "data": {
      "text/plain": [
       "0    creat specifi consid instanti make defin creat...\n",
       "1    might edit end add modifi perform repres speci...\n",
       "2    creat let creat consid realiz draw manag requi...\n",
       "3    use could custom ad may ad would select move m...\n",
       "4    ensur dedic serv ensur make keep instanti make...\n",
       "Name: overview, dtype: object"
      ]
     },
     "metadata": {},
     "output_type": "display_data"
    }
   ],
   "source": [
    "vectorizer = TfidfVectorizer()\n",
    "df_tfidf = vectorizer.fit_transform(preprocess(df[\"overview\"]))\n",
    "df_tfidf = pd.DataFrame.sparse.from_spmatrix(df_tfidf, columns=vectorizer.get_feature_names_out()).sparse.to_dense()\n",
    "\n",
    "df_tfidf2 = vectorizer.fit_transform(preprocess(df[\"overview\"], verbs=True))\n",
    "df_tfidf2 = pd.DataFrame.sparse.from_spmatrix(df_tfidf2, columns=vectorizer.get_feature_names_out()).sparse.to_dense()"
   ]
  },
  {
   "cell_type": "code",
   "execution_count": 5,
   "id": "74a0acc2-e7d4-4eb8-80b1-0eb0989e98f3",
   "metadata": {},
   "outputs": [
    {
     "name": "stdout",
     "output_type": "stream",
     "text": [
      "===========KMEANS no change ===========\n",
      "Predicted labels:\n"
     ]
    },
    {
     "data": {
      "text/plain": [
       "[2, 2, 2, 2, 0, 2, 2, 2, 2, 2, 1, 2, 0, 0, 2, 2, 0, 1, 1, 1, 2, 2, 2]"
      ]
     },
     "metadata": {},
     "output_type": "display_data"
    },
    {
     "name": "stdout",
     "output_type": "stream",
     "text": [
      "\n",
      "Best fscore is: 0.435 from true_2\n"
     ]
    },
    {
     "data": {
      "text/plain": [
       "[0, 0, 0, 0, 0, 2, 2, 2, 2, 2, 2, 2, 1, 1, 1, 1, 1, 1, 1, 1, 1, 1, 1]"
      ]
     },
     "metadata": {},
     "output_type": "display_data"
    },
    {
     "name": "stdout",
     "output_type": "stream",
     "text": [
      "===========KMEANS verbs only ===========\n",
      "Predicted labels:\n"
     ]
    },
    {
     "data": {
      "text/plain": [
       "[1, 1, 2, 2, 0, 2, 0, 0, 2, 0, 2, 0, 0, 2, 1, 0, 0, 1, 0, 1, 1, 2, 2]"
      ]
     },
     "metadata": {},
     "output_type": "display_data"
    },
    {
     "name": "stdout",
     "output_type": "stream",
     "text": [
      "\n",
      "Best fscore is: 0.435 from true_5\n"
     ]
    },
    {
     "data": {
      "text/plain": [
       "[2, 2, 2, 2, 2, 0, 0, 0, 0, 0, 0, 0, 1, 1, 1, 1, 1, 1, 1, 1, 1, 1, 1]"
      ]
     },
     "metadata": {},
     "output_type": "display_data"
    }
   ],
   "source": [
    "true_1 = [0]*5 + [1]*7 + [2]*11\n",
    "true_2 = [0]*5 + [2]*7 + [1]*11\n",
    "true_3 = [1]*5 + [0]*7 + [2]*11\n",
    "true_4 = [1]*5 + [2]*7 + [0]*11\n",
    "true_5 = [2]*5 + [0]*7 + [1]*11\n",
    "true_6 = [2]*5 + [1]*7 + [0]*11\n",
    "\n",
    "km = KMeans(n_clusters=3,n_init='auto',random_state=0).fit(df_tfidf)\n",
    "km_verbs = KMeans(n_clusters=3,n_init='auto',random_state=0).fit(df_tfidf2)\n",
    "\n",
    "print('===========KMEANS no change ===========')\n",
    "print('Predicted labels:')\n",
    "display(km.labels_.tolist())\n",
    "\n",
    "fscores = [\n",
    "    f1_score(true_1, km.labels_.tolist(),average='micro'),\n",
    "    f1_score(true_2, km.labels_.tolist(),average='micro'),\n",
    "    f1_score(true_3, km.labels_.tolist(),average='micro'),\n",
    "    f1_score(true_4, km.labels_.tolist(),average='micro'),\n",
    "    f1_score(true_5, km.labels_.tolist(),average='micro'),\n",
    "    f1_score(true_6, km.labels_.tolist(),average='micro')\n",
    "]\n",
    "\n",
    "km_best = np.around(max(fscores),3)\n",
    "print('\\nBest fscore is:', km_best, 'from true_' + str(np.argmax(fscores) + 1))\n",
    "display(globals()['true_' + str(np.argmax(fscores) + 1)])\n",
    "\n",
    "print('===========KMEANS verbs only ===========')\n",
    "print('Predicted labels:')\n",
    "display(km_verbs.labels_.tolist())\n",
    "\n",
    "fscores_verbs = [\n",
    "    f1_score(true_1, km_verbs.labels_.tolist(),average='micro'),\n",
    "    f1_score(true_2, km_verbs.labels_.tolist(),average='micro'),\n",
    "    f1_score(true_3, km_verbs.labels_.tolist(),average='micro'),\n",
    "    f1_score(true_4, km_verbs.labels_.tolist(),average='micro'),\n",
    "    f1_score(true_5, km_verbs.labels_.tolist(),average='micro'),\n",
    "    f1_score(true_6, km_verbs.labels_.tolist(),average='micro')\n",
    "]\n",
    "\n",
    "km_verbs_best = np.around(max(fscores_verbs),3)\n",
    "print('\\nBest fscore is:', km_verbs_best, 'from true_' + str(np.argmax(fscores_verbs) + 1))\n",
    "display(globals()['true_' + str(np.argmax(fscores_verbs) + 1)])"
   ]
  },
  {
   "cell_type": "code",
   "execution_count": null,
   "id": "a25eb322-2353-4fab-bd59-aba505c0bb9e",
   "metadata": {},
   "outputs": [],
   "source": []
  }
 ],
 "metadata": {
  "kernelspec": {
   "display_name": "Python 3 (ipykernel)",
   "language": "python",
   "name": "python3"
  },
  "language_info": {
   "codemirror_mode": {
    "name": "ipython",
    "version": 3
   },
   "file_extension": ".py",
   "mimetype": "text/x-python",
   "name": "python",
   "nbconvert_exporter": "python",
   "pygments_lexer": "ipython3",
   "version": "3.10.2"
  }
 },
 "nbformat": 4,
 "nbformat_minor": 5
}
