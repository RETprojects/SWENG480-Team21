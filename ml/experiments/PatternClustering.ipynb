{
  "cells": [
    {
      "cell_type": "code",
      "execution_count": 1,
      "metadata": {
        "colab": {
          "base_uri": "https://localhost:8080/"
        },
        "id": "Psh3biPTjlG2",
        "outputId": "11e8ddf1-9ab1-4cc8-d4bf-162a07527b11"
      },
      "outputs": [
        {
          "output_type": "stream",
          "name": "stdout",
          "text": [
            "Looking in indexes: https://pypi.org/simple, https://us-python.pkg.dev/colab-wheels/public/simple/\n",
            "Collecting mpld3\n",
            "  Downloading mpld3-0.5.9-py3-none-any.whl (201 kB)\n",
            "\u001b[2K     \u001b[90m━━━━━━━━━━━━━━━━━━━━━━━━━━━━━━━━━━━━━━\u001b[0m \u001b[32m201.2/201.2 KB\u001b[0m \u001b[31m12.5 MB/s\u001b[0m eta \u001b[36m0:00:00\u001b[0m\n",
            "\u001b[?25hRequirement already satisfied: matplotlib in /usr/local/lib/python3.8/dist-packages (from mpld3) (3.2.2)\n",
            "Requirement already satisfied: jinja2 in /usr/local/lib/python3.8/dist-packages (from mpld3) (2.11.3)\n",
            "Requirement already satisfied: MarkupSafe>=0.23 in /usr/local/lib/python3.8/dist-packages (from jinja2->mpld3) (2.0.1)\n",
            "Requirement already satisfied: python-dateutil>=2.1 in /usr/local/lib/python3.8/dist-packages (from matplotlib->mpld3) (2.8.2)\n",
            "Requirement already satisfied: cycler>=0.10 in /usr/local/lib/python3.8/dist-packages (from matplotlib->mpld3) (0.11.0)\n",
            "Requirement already satisfied: numpy>=1.11 in /usr/local/lib/python3.8/dist-packages (from matplotlib->mpld3) (1.21.6)\n",
            "Requirement already satisfied: pyparsing!=2.0.4,!=2.1.2,!=2.1.6,>=2.0.1 in /usr/local/lib/python3.8/dist-packages (from matplotlib->mpld3) (3.0.9)\n",
            "Requirement already satisfied: kiwisolver>=1.0.1 in /usr/local/lib/python3.8/dist-packages (from matplotlib->mpld3) (1.4.4)\n",
            "Requirement already satisfied: six>=1.5 in /usr/local/lib/python3.8/dist-packages (from python-dateutil>=2.1->matplotlib->mpld3) (1.15.0)\n",
            "Installing collected packages: mpld3\n",
            "Successfully installed mpld3-0.5.9\n"
          ]
        }
      ],
      "source": [
        "# Source: http://brandonrose.org/clustering\n",
        "\n",
        "import numpy as np\n",
        "import pandas as pd\n",
        "import nltk\n",
        "import re\n",
        "import os\n",
        "import codecs\n",
        "from sklearn import feature_extraction\n",
        "!pip install mpld3\n",
        "import mpld3"
      ]
    },
    {
      "cell_type": "code",
      "execution_count": 2,
      "metadata": {
        "colab": {
          "base_uri": "https://localhost:8080/"
        },
        "id": "KRQaOoYooJ0N",
        "outputId": "39e36cca-2f1a-439d-b5f2-79c78c4bbeec"
      },
      "outputs": [
        {
          "output_type": "stream",
          "name": "stdout",
          "text": [
            "                       name  correct_category  \\\n",
            "0          abstract factory                 2   \n",
            "1                   builder                 2   \n",
            "2            factory method                 2   \n",
            "3                 prototype                 2   \n",
            "4                 singleton                 2   \n",
            "5                   adapter                 1   \n",
            "6                    bridge                 1   \n",
            "7                 composite                 1   \n",
            "8                 decorator                 1   \n",
            "9                    facade                 1   \n",
            "10                flyweight                 1   \n",
            "11                    proxy                 1   \n",
            "12  chain of responsibility                 0   \n",
            "13                  command                 0   \n",
            "14              interpreter                 0   \n",
            "15                 iterator                 0   \n",
            "16                 mediator                 0   \n",
            "17                  memento                 0   \n",
            "18                 observer                 0   \n",
            "19                    state                 0   \n",
            "20                 strategy                 0   \n",
            "21          template method                 0   \n",
            "22                  visitor                 0   \n",
            "\n",
            "                                               intent  \\\n",
            "0   Provide an interface for creating families of ...   \n",
            "1   Separate the construction of a complex object ...   \n",
            "2   Define an interface for creating an object, bu...   \n",
            "3   Specify the kinds of objects to create using a...   \n",
            "4   Ensure a class only has one instance, and prov...   \n",
            "5   Convert the interface of a class into another ...   \n",
            "6   Decouple an abstraction from its implementatio...   \n",
            "7   Compose objects into tree structures to repres...   \n",
            "8   Attach additional responsibilities to an objec...   \n",
            "9   Provide a unified interface to a set of interf...   \n",
            "10  Use sharing to support large numbers of fine-g...   \n",
            "11  Provide a surrogate or placeholder for another...   \n",
            "12  Avoid coupling the sender of a request to its ...   \n",
            "13  Encapsulate a request as an object, thereby le...   \n",
            "14  Given a language, define a represention for it...   \n",
            "15  Provide a way to access the elements of an agg...   \n",
            "16  Define an object that encapsulates how a set o...   \n",
            "17  Without violating encapsulation, capture and e...   \n",
            "18  Define a one-to-many dependency between object...   \n",
            "19  Allow an object to alter its behavior when its...   \n",
            "20  Define a family of algorithms, encapsulate eac...   \n",
            "21  Define the skeleton of an algorithm in an oper...   \n",
            "22  Represent an operation to be performed on the ...   \n",
            "\n",
            "                                           motivation  \\\n",
            "0   Consider a user interface toolkit that support...   \n",
            "1   A reader for the RTF (Rich Text Format) docume...   \n",
            "2   Frameworks use abstract classes to define and ...   \n",
            "3   You could build an editor for music scores by ...   \n",
            "4   It’s important for some classes to have exactl...   \n",
            "5   Sometimes a toolkit class that’s designed for ...   \n",
            "6   When an abstraction can have one of several po...   \n",
            "7   Graphics applications like drawing editors and...   \n",
            "8   Sometimes we want to add responsibilities to i...   \n",
            "9   Structuring a system into subsystems helps red...   \n",
            "10  Some applications could benefit from using obj...   \n",
            "11  One reason for controlling access to an object...   \n",
            "12  Consider a context-sensitive help facility for...   \n",
            "13  Sometimes it’s necessary to issue requests to ...   \n",
            "14  If a particular kind of problem occurs often e...   \n",
            "15  An aggregate object such as a list should give...   \n",
            "16  Object-oriented design encourages the distribu...   \n",
            "17  Sometimes it’s necessary to record the interna...   \n",
            "18  A common side-effect of partitioning a system ...   \n",
            "19  Consider a class TCPConnection that represents...   \n",
            "20  Many algorithms exist for breaking a stream of...   \n",
            "21  Consider an application framework that provide...   \n",
            "22  Consider a compiler that represents programs a...   \n",
            "\n",
            "                                        applicability  \\\n",
            "0   Use the Abstract Factory pattern when\\n\\n• a s...   \n",
            "1   Use the Builder pattern when\\n\\n• the algorith...   \n",
            "2   Use the Factory Method pattern when\\n\\n• a cla...   \n",
            "3   Use the Prototype pattern when a system should...   \n",
            "4   Use the Singleton pattern when\\n\\n• there must...   \n",
            "5   Use the Adapter pattern when\\n\\n• you want to ...   \n",
            "6   Use the Bridge pattern when\\n\\n• you want to a...   \n",
            "7   Use the Composite pattern when\\n\\n• you want t...   \n",
            "8   Use Decorator\\n\\n• to add responsibilities to ...   \n",
            "9   Use the Facade pattern when\\n\\n• you want to p...   \n",
            "10  The Flyweight pattern’s effectiveness depends ...   \n",
            "11  Proxy is applicable whenever there is a need f...   \n",
            "12  Use Chain of Responsibility when\\n\\n• more tha...   \n",
            "13  Use the Command pattern when you want to\\n\\n• ...   \n",
            "14  Use the Interpreter pattern when there is a la...   \n",
            "15  Use the Iterator pattern\\n\\n• to access an agg...   \n",
            "16  Use the Mediator pattern when\\n\\n• a set of ob...   \n",
            "17  Use the Memento pattern when\\n\\n• a snapshot o...   \n",
            "18  Use the Observer pattern in any of the followi...   \n",
            "19  Use the State pattern in either of the followi...   \n",
            "20  Use the Strategy pattern when\\n\\n• many relate...   \n",
            "21  The Template Method pattern should be used\\n\\n...   \n",
            "22  Use the Visitor pattern when\\n\\n• an object st...   \n",
            "\n",
            "                                             overview  \n",
            "0   Provide an interface for creating families of ...  \n",
            "1   Separate the construction of a complex object ...  \n",
            "2   Define an interface for creating an object, bu...  \n",
            "3   Specify the kinds of objects to create using a...  \n",
            "4   Ensure a class only has one instance, and prov...  \n",
            "5   Convert the interface of a class into another ...  \n",
            "6   Decouple an abstraction from its implementatio...  \n",
            "7   Compose objects into tree structures to repres...  \n",
            "8   Attach additional responsibilities to an objec...  \n",
            "9   Provide a unified interface to a set of interf...  \n",
            "10  Use sharing to support large numbers of fine-g...  \n",
            "11  Provide a surrogate or placeholder for another...  \n",
            "12  Avoid coupling the sender of a request to its ...  \n",
            "13  Encapsulate a request as an object, thereby le...  \n",
            "14  Given a language, define a represention for it...  \n",
            "15  Provide a way to access the elements of an agg...  \n",
            "16  Define an object that encapsulates how a set o...  \n",
            "17  Without violating encapsulation, capture and e...  \n",
            "18  Define a one-to-many dependency between object...  \n",
            "19  Allow an object to alter its behavior when its...  \n",
            "20  Define a family of algorithms, encapsulate eac...  \n",
            "21  Define the skeleton of an algorithm in an oper...  \n",
            "22  Represent an operation to be performed on the ...  \n"
          ]
        }
      ],
      "source": [
        "# Get all the lists we need.\n",
        "# Source: https://stackoverflow.com/a/24662707\n",
        "\n",
        "import csv\n",
        "\n",
        "#with open('scraped_pattern_data_gofpatterns_revised.csv', newline='') as f:\n",
        "# with open('GoF problem domain (complete).csv', newline='') as f:\n",
        "#     reader = csv.reader(f)\n",
        "#     list_gof = list(reader)\n",
        "#     list_gof.pop(0)\n",
        "#     list_gof = np.array(list_gof)\n",
        "#     #id_gof = list_gof[:,0]\n",
        "#     #cat_gof = list_gof[:,1]\n",
        "#     #name_gof = list_gof[:,2]\n",
        "#     #overview_gof = list_gof[:,3]\n",
        "#     name_gof = list_gof[:,0]\n",
        "#     cat_gof = list_gof[:,1]\n",
        "#     #overview_gof = np.concatenate((np.concatenate((list_gof[:,1], list_gof[:,2])), list_gof[:,3]))\n",
        "#     overview_gof = np.sum(list_gof[2:4], axis = 1)\n",
        "\n",
        "# print(overview_gof)\n",
        "\n",
        "df_patterns = pd.read_csv(\"GoF problem domain (complete).csv\")\n",
        "#df_patterns.pop(df_patterns.columns[-1]) #delete the last empty, unnamed column\n",
        "#create an overview column\n",
        "df_patterns['overview'] = df_patterns['intent'] + \" \" + df_patterns['motivation'] + \" \" + df_patterns['applicability']\n",
        "print(df_patterns)"
      ]
    },
    {
      "cell_type": "code",
      "execution_count": 3,
      "metadata": {
        "colab": {
          "base_uri": "https://localhost:8080/"
        },
        "id": "jaGqVrXWkift",
        "outputId": "4fac081f-51ae-4325-94e0-09cc6cf245f6"
      },
      "outputs": [
        {
          "output_type": "stream",
          "name": "stderr",
          "text": [
            "[nltk_data] Downloading package stopwords to /root/nltk_data...\n",
            "[nltk_data]   Unzipping corpora/stopwords.zip.\n"
          ]
        }
      ],
      "source": [
        "# load nltk's English stopwords as variable called 'stopwords'\n",
        "nltk.download('stopwords')\n",
        "stopwords = nltk.corpus.stopwords.words('english')"
      ]
    },
    {
      "cell_type": "code",
      "execution_count": 4,
      "metadata": {
        "id": "qq1mc3pik1MG"
      },
      "outputs": [],
      "source": [
        "# load nltk's SnowballStemmer as variabled 'stemmer'\n",
        "from nltk.stem.snowball import SnowballStemmer\n",
        "stemmer = SnowballStemmer(\"english\")"
      ]
    },
    {
      "cell_type": "code",
      "execution_count": 5,
      "metadata": {
        "id": "sDhZW67Yk637"
      },
      "outputs": [],
      "source": [
        "# here I define a tokenizer and stemmer which returns the set of stems in the text that it is passed\n",
        "\n",
        "def tokenize_and_stem(text):\n",
        "    # first tokenize by sentence, then by word to ensure that punctuation is caught as it's own token\n",
        "    tokens = [word for sent in nltk.sent_tokenize(text) for word in nltk.word_tokenize(sent)]\n",
        "    filtered_tokens = []\n",
        "    # filter out any tokens not containing letters (e.g., numeric tokens, raw punctuation)\n",
        "    for token in tokens:\n",
        "        if re.search('[a-zA-Z]', token):\n",
        "            filtered_tokens.append(token)\n",
        "    stems = [stemmer.stem(t) for t in filtered_tokens]\n",
        "    return stems\n",
        "\n",
        "\n",
        "def tokenize_only(text):\n",
        "    # first tokenize by sentence, then by word to ensure that punctuation is caught as it's own token\n",
        "    tokens = [word.lower() for sent in nltk.sent_tokenize(text) for word in nltk.word_tokenize(sent)]\n",
        "    filtered_tokens = []\n",
        "    # filter out any tokens not containing letters (e.g., numeric tokens, raw punctuation)\n",
        "    for token in tokens:\n",
        "        if re.search('[a-zA-Z]', token):\n",
        "            filtered_tokens.append(token)\n",
        "    return filtered_tokens"
      ]
    },
    {
      "cell_type": "code",
      "execution_count": 6,
      "metadata": {
        "colab": {
          "base_uri": "https://localhost:8080/"
        },
        "id": "kqdweo6iqHdc",
        "outputId": "8fc44a68-2b05-405b-d24b-24574df2a070"
      },
      "outputs": [
        {
          "output_type": "stream",
          "name": "stderr",
          "text": [
            "[nltk_data] Downloading package punkt to /root/nltk_data...\n",
            "[nltk_data]   Unzipping tokenizers/punkt.zip.\n"
          ]
        }
      ],
      "source": [
        "nltk.download('punkt')\n",
        "\n",
        "#not super pythonic, no, not at all.\n",
        "#use extend so it's a big flat list of vocab\n",
        "totalvocab_stemmed = []\n",
        "totalvocab_tokenized = []\n",
        "for i in df_patterns['overview']:\n",
        "    allwords_stemmed = tokenize_and_stem(i) #for each item in 'synopses', tokenize/stem\n",
        "    totalvocab_stemmed.extend(allwords_stemmed) #extend the 'totalvocab_stemmed' list\n",
        "    \n",
        "    allwords_tokenized = tokenize_only(i)\n",
        "    totalvocab_tokenized.extend(allwords_tokenized)"
      ]
    },
    {
      "cell_type": "code",
      "execution_count": 7,
      "metadata": {
        "colab": {
          "base_uri": "https://localhost:8080/"
        },
        "id": "Eoce3K_muQiZ",
        "outputId": "bcb57f05-27c1-45d7-be88-238f60719c07"
      },
      "outputs": [
        {
          "output_type": "stream",
          "name": "stdout",
          "text": [
            "there are 12561 items in vocab_frame\n"
          ]
        }
      ],
      "source": [
        "vocab_frame = pd.DataFrame({'words': totalvocab_tokenized}, index = totalvocab_stemmed)\n",
        "print('there are ' + str(vocab_frame.shape[0]) + ' items in vocab_frame')"
      ]
    },
    {
      "cell_type": "code",
      "execution_count": 8,
      "metadata": {
        "colab": {
          "base_uri": "https://localhost:8080/"
        },
        "id": "CpKSvg5guaKd",
        "outputId": "673509dd-d4d5-4ae6-b993-84ca508a34fb"
      },
      "outputs": [
        {
          "output_type": "stream",
          "name": "stdout",
          "text": [
            "              words\n",
            "provid      provide\n",
            "an               an\n",
            "interfac  interface\n",
            "for             for\n",
            "creat      creating\n"
          ]
        },
        {
          "output_type": "execute_result",
          "data": {
            "text/plain": [
              "<function print>"
            ]
          },
          "metadata": {},
          "execution_count": 8
        }
      ],
      "source": [
        "print(vocab_frame.head())\n",
        "print\n",
        "print\n",
        "print\n",
        "print"
      ]
    },
    {
      "cell_type": "code",
      "execution_count": 9,
      "metadata": {
        "colab": {
          "base_uri": "https://localhost:8080/"
        },
        "id": "R95fns1UvOj0",
        "outputId": "d3b66996-31f7-43ac-f493-34909642381b"
      },
      "outputs": [
        {
          "output_type": "stream",
          "name": "stderr",
          "text": [
            "/usr/local/lib/python3.8/dist-packages/sklearn/feature_extraction/text.py:396: UserWarning: Your stop_words may be inconsistent with your preprocessing. Tokenizing the stop words generated tokens ['abov', 'afterward', 'alon', 'alreadi', 'alway', 'ani', 'anoth', 'anyon', 'anyth', 'anywher', 'becam', 'becaus', 'becom', 'befor', 'besid', 'cri', 'describ', 'dure', 'els', 'elsewher', 'empti', 'everi', 'everyon', 'everyth', 'everywher', 'fifti', 'forti', 'henc', 'hereaft', 'herebi', 'howev', 'hundr', 'inde', 'mani', 'meanwhil', 'moreov', 'nobodi', 'noon', 'noth', 'nowher', 'onc', 'onli', 'otherwis', 'ourselv', 'perhap', 'pleas', 'sever', 'sinc', 'sincer', 'sixti', 'someon', 'someth', 'sometim', 'somewher', 'themselv', 'thenc', 'thereaft', 'therebi', 'therefor', 'togeth', 'twelv', 'twenti', 'veri', 'whatev', 'whenc', 'whenev', 'wherea', 'whereaft', 'wherebi', 'wherev', 'whi', 'yourselv'] not in stop_words.\n",
            "  warnings.warn(\n"
          ]
        },
        {
          "output_type": "stream",
          "name": "stdout",
          "text": [
            "CPU times: user 625 ms, sys: 7.32 ms, total: 633 ms\n",
            "Wall time: 988 ms\n",
            "(23, 152)\n"
          ]
        }
      ],
      "source": [
        "from sklearn.feature_extraction.text import TfidfVectorizer\n",
        "\n",
        "#define vectorizer parameters\n",
        "tfidf_vectorizer = TfidfVectorizer(max_df=0.8, max_features=200000,\n",
        "                                 min_df=0.2, stop_words='english',\n",
        "                                 use_idf=True, tokenizer=tokenize_and_stem, ngram_range=(1,3))\n",
        "\n",
        "%time tfidf_matrix = tfidf_vectorizer.fit_transform(df_patterns['overview']) #fit the vectorizer to synopses\n",
        "\n",
        "print(tfidf_matrix.shape)"
      ]
    },
    {
      "cell_type": "code",
      "execution_count": 10,
      "metadata": {
        "colab": {
          "base_uri": "https://localhost:8080/"
        },
        "id": "kh53xkClvn9s",
        "outputId": "412ec8fd-0069-4634-f97f-70faaeb99c4f"
      },
      "outputs": [
        {
          "output_type": "stream",
          "name": "stderr",
          "text": [
            "/usr/local/lib/python3.8/dist-packages/sklearn/utils/deprecation.py:87: FutureWarning: Function get_feature_names is deprecated; get_feature_names is deprecated in 1.0 and will be removed in 1.2. Please use get_feature_names_out instead.\n",
            "  warnings.warn(msg, category=FutureWarning)\n"
          ]
        }
      ],
      "source": [
        "terms = tfidf_vectorizer.get_feature_names()"
      ]
    },
    {
      "cell_type": "code",
      "execution_count": 11,
      "metadata": {
        "colab": {
          "base_uri": "https://localhost:8080/"
        },
        "id": "9aC4gq6Jvrdu",
        "outputId": "b7cccd49-8850-4ede-8bae-7e125a0a411e"
      },
      "outputs": [
        {
          "output_type": "execute_result",
          "data": {
            "text/plain": [
              "<function print>"
            ]
          },
          "metadata": {},
          "execution_count": 11
        }
      ],
      "source": [
        "from sklearn.metrics.pairwise import cosine_similarity\n",
        "dist = 1 - cosine_similarity(tfidf_matrix)\n",
        "print\n",
        "print"
      ]
    },
    {
      "cell_type": "code",
      "execution_count": 12,
      "metadata": {
        "colab": {
          "base_uri": "https://localhost:8080/"
        },
        "id": "dGCxd6Llvw1w",
        "outputId": "e6352afd-a599-4aae-e6b0-9c6a41b1f7ad"
      },
      "outputs": [
        {
          "output_type": "stream",
          "name": "stdout",
          "text": [
            "CPU times: user 255 ms, sys: 3.1 ms, total: 258 ms\n",
            "Wall time: 502 ms\n"
          ]
        }
      ],
      "source": [
        "from sklearn.cluster import KMeans\n",
        "\n",
        "num_clusters = 3\n",
        "\n",
        "km = KMeans(n_clusters=num_clusters)\n",
        "\n",
        "%time km.fit(tfidf_matrix)\n",
        "\n",
        "clusters_gof = km.labels_.tolist()"
      ]
    },
    {
      "cell_type": "code",
      "execution_count": 13,
      "metadata": {
        "id": "FHoxnFqlv3gM"
      },
      "outputs": [],
      "source": [
        "#!pip install sklearn\n",
        "#from sklearn.externals import joblib\n",
        "#import sklearn.external.joblib as extjoblib\n",
        "import joblib\n",
        "\n",
        "#uncomment the below to save your model \n",
        "#since I've already run my model I am loading from the pickle\n",
        "\n",
        "joblib.dump(km,  'doc_cluster.pkl')\n",
        "\n",
        "km = joblib.load('doc_cluster.pkl')\n",
        "clusters_gof = km.labels_.tolist()"
      ]
    },
    {
      "cell_type": "code",
      "execution_count": 14,
      "metadata": {
        "colab": {
          "base_uri": "https://localhost:8080/"
        },
        "id": "MX82kEuh0-eD",
        "outputId": "1a1a7227-a5cb-4a4e-9659-9648b7647594"
      },
      "outputs": [
        {
          "output_type": "stream",
          "name": "stdout",
          "text": [
            "{'name': 0            abstract factory\n",
            "1                     builder\n",
            "2              factory method\n",
            "3                   prototype\n",
            "4                   singleton\n",
            "5                     adapter\n",
            "6                      bridge\n",
            "7                   composite\n",
            "8                   decorator\n",
            "9                      facade\n",
            "10                  flyweight\n",
            "11                      proxy\n",
            "12    chain of responsibility\n",
            "13                    command\n",
            "14                interpreter\n",
            "15                   iterator\n",
            "16                   mediator\n",
            "17                    memento\n",
            "18                   observer\n",
            "19                      state\n",
            "20                   strategy\n",
            "21            template method\n",
            "22                    visitor\n",
            "Name: name, dtype: object, 'cat': 0     2\n",
            "1     2\n",
            "2     2\n",
            "3     2\n",
            "4     2\n",
            "5     1\n",
            "6     1\n",
            "7     1\n",
            "8     1\n",
            "9     1\n",
            "10    1\n",
            "11    1\n",
            "12    0\n",
            "13    0\n",
            "14    0\n",
            "15    0\n",
            "16    0\n",
            "17    0\n",
            "18    0\n",
            "19    0\n",
            "20    0\n",
            "21    0\n",
            "22    0\n",
            "Name: correct_category, dtype: int64, 'overview': 0     Provide an interface for creating families of ...\n",
            "1     Separate the construction of a complex object ...\n",
            "2     Define an interface for creating an object, bu...\n",
            "3     Specify the kinds of objects to create using a...\n",
            "4     Ensure a class only has one instance, and prov...\n",
            "5     Convert the interface of a class into another ...\n",
            "6     Decouple an abstraction from its implementatio...\n",
            "7     Compose objects into tree structures to repres...\n",
            "8     Attach additional responsibilities to an objec...\n",
            "9     Provide a unified interface to a set of interf...\n",
            "10    Use sharing to support large numbers of fine-g...\n",
            "11    Provide a surrogate or placeholder for another...\n",
            "12    Avoid coupling the sender of a request to its ...\n",
            "13    Encapsulate a request as an object, thereby le...\n",
            "14    Given a language, define a represention for it...\n",
            "15    Provide a way to access the elements of an agg...\n",
            "16    Define an object that encapsulates how a set o...\n",
            "17    Without violating encapsulation, capture and e...\n",
            "18    Define a one-to-many dependency between object...\n",
            "19    Allow an object to alter its behavior when its...\n",
            "20    Define a family of algorithms, encapsulate eac...\n",
            "21    Define the skeleton of an algorithm in an oper...\n",
            "22    Represent an operation to be performed on the ...\n",
            "Name: overview, dtype: object, 'cluster': [1, 0, 0, 0, 1, 1, 1, 1, 1, 1, 0, 0, 1, 0, 1, 1, 2, 2, 2, 2, 1, 0, 1]}\n"
          ]
        }
      ],
      "source": [
        "#patterns_gof = { 'id': id_gof, 'cat': cat_gof, 'name': name_gof, 'overview': overview_gof, 'cluster': clusters_gof }\n",
        "patterns_gof = { 'name': df_patterns['name'], 'cat': df_patterns['correct_category'], 'overview': df_patterns['overview'], 'cluster': clusters_gof }\n",
        "print(patterns_gof)\n",
        "\n",
        "frame_gof = pd.DataFrame(patterns_gof, index = [clusters_gof] , columns = ['name', 'cat', 'cluster'])"
      ]
    },
    {
      "cell_type": "code",
      "execution_count": 15,
      "metadata": {
        "colab": {
          "base_uri": "https://localhost:8080/"
        },
        "id": "I3qzttli2eny",
        "outputId": "cd5e9eea-cb15-4731-cdc6-48a790415a1d"
      },
      "outputs": [
        {
          "output_type": "execute_result",
          "data": {
            "text/plain": [
              "1    12\n",
              "0     7\n",
              "2     4\n",
              "Name: cluster, dtype: int64"
            ]
          },
          "metadata": {},
          "execution_count": 15
        }
      ],
      "source": [
        "frame_gof['cluster'].value_counts() #number of patterns per cluster (clusters from 0 to 2)"
      ]
    },
    {
      "cell_type": "code",
      "execution_count": 16,
      "metadata": {
        "id": "chR0vh352_xB"
      },
      "outputs": [],
      "source": [
        "#grouped = frame_gof['id'].groupby(frame_gof['cluster']) #groupby cluster for aggregation purposes\n",
        "\n",
        "#grouped.mean() #average id per cluster"
      ]
    },
    {
      "cell_type": "code",
      "execution_count": 18,
      "metadata": {
        "colab": {
          "base_uri": "https://localhost:8080/",
          "height": 317
        },
        "id": "jkR0We8V3NM-",
        "outputId": "304ba87a-e0e3-4744-b8e8-c2c0904c3ff3"
      },
      "outputs": [
        {
          "output_type": "stream",
          "name": "stdout",
          "text": [
            "Top terms per cluster:\n",
            "\n",
            "Cluster 0 words: b'document', b'creating', b'subclasses', b'application', b'request', b'instantiating',\n",
            "\n",
            "Cluster 0 titles:"
          ]
        },
        {
          "output_type": "error",
          "ename": "AttributeError",
          "evalue": "ignored",
          "traceback": [
            "\u001b[0;31m---------------------------------------------------------------------------\u001b[0m",
            "\u001b[0;31mAttributeError\u001b[0m                            Traceback (most recent call last)",
            "\u001b[0;32m<ipython-input-18-d0d5d4441d21>\u001b[0m in \u001b[0;36m<module>\u001b[0;34m\u001b[0m\n\u001b[1;32m     15\u001b[0m \u001b[0;34m\u001b[0m\u001b[0m\n\u001b[1;32m     16\u001b[0m     \u001b[0mprint\u001b[0m\u001b[0;34m(\u001b[0m\u001b[0;34m\"Cluster %d titles:\"\u001b[0m \u001b[0;34m%\u001b[0m \u001b[0mi\u001b[0m\u001b[0;34m,\u001b[0m \u001b[0mend\u001b[0m\u001b[0;34m=\u001b[0m\u001b[0;34m''\u001b[0m\u001b[0;34m)\u001b[0m\u001b[0;34m\u001b[0m\u001b[0;34m\u001b[0m\u001b[0m\n\u001b[0;32m---> 17\u001b[0;31m     \u001b[0;32mfor\u001b[0m \u001b[0mtitle\u001b[0m \u001b[0;32min\u001b[0m \u001b[0mframe_gof\u001b[0m\u001b[0;34m.\u001b[0m\u001b[0miloc\u001b[0m\u001b[0;34m[\u001b[0m\u001b[0mi\u001b[0m\u001b[0;34m]\u001b[0m\u001b[0;34m[\u001b[0m\u001b[0;34m'name'\u001b[0m\u001b[0;34m]\u001b[0m\u001b[0;34m.\u001b[0m\u001b[0mvalues\u001b[0m\u001b[0;34m.\u001b[0m\u001b[0mtolist\u001b[0m\u001b[0;34m(\u001b[0m\u001b[0;34m)\u001b[0m\u001b[0;34m:\u001b[0m\u001b[0;34m\u001b[0m\u001b[0;34m\u001b[0m\u001b[0m\n\u001b[0m\u001b[1;32m     18\u001b[0m         \u001b[0mprint\u001b[0m\u001b[0;34m(\u001b[0m\u001b[0;34m' %s,'\u001b[0m \u001b[0;34m%\u001b[0m \u001b[0mtitle\u001b[0m\u001b[0;34m,\u001b[0m \u001b[0mend\u001b[0m\u001b[0;34m=\u001b[0m\u001b[0;34m''\u001b[0m\u001b[0;34m)\u001b[0m\u001b[0;34m\u001b[0m\u001b[0;34m\u001b[0m\u001b[0m\n\u001b[1;32m     19\u001b[0m     \u001b[0mprint\u001b[0m\u001b[0;34m(\u001b[0m\u001b[0;34m)\u001b[0m \u001b[0;31m#add whitespace\u001b[0m\u001b[0;34m\u001b[0m\u001b[0;34m\u001b[0m\u001b[0m\n",
            "\u001b[0;31mAttributeError\u001b[0m: 'float' object has no attribute 'values'"
          ]
        }
      ],
      "source": [
        "from __future__ import print_function\n",
        "\n",
        "print(\"Top terms per cluster:\")\n",
        "print()\n",
        "#sort cluster centers by proximity to centroid\n",
        "order_centroids = km.cluster_centers_.argsort()[:, ::-1] \n",
        "\n",
        "for i in range(num_clusters):\n",
        "    print(\"Cluster %d words:\" % i, end='')\n",
        "    \n",
        "    for ind in order_centroids[i, :6]: #replace 6 with n words per cluster\n",
        "        print(' %s' % vocab_frame.loc[terms[ind].split(' ')].values.tolist()[0][0].encode('utf-8', 'ignore'), end=',')\n",
        "    print() #add whitespace\n",
        "    print() #add whitespace\n",
        "    \n",
        "    print(\"Cluster %d titles:\" % i, end='')\n",
        "    for title in frame_gof.iloc[i]['name'].values.tolist():\n",
        "        print(' %s,' % title, end='')\n",
        "    print() #add whitespace\n",
        "    print() #add whitespace\n",
        "    \n",
        "print()\n",
        "print()"
      ]
    },
    {
      "cell_type": "code",
      "execution_count": 19,
      "metadata": {
        "colab": {
          "base_uri": "https://localhost:8080/"
        },
        "id": "UN3nha7U4U2I",
        "outputId": "3cc5b203-85b4-4353-edbd-75a6e056f029"
      },
      "outputs": [
        {
          "output_type": "stream",
          "name": "stdout",
          "text": [
            "\n",
            "\n"
          ]
        }
      ],
      "source": [
        "import os  # for os.path.basename\n",
        "\n",
        "import matplotlib.pyplot as plt\n",
        "import matplotlib as mpl\n",
        "\n",
        "from sklearn.manifold import MDS\n",
        "\n",
        "MDS()\n",
        "\n",
        "# convert two components as we're plotting points in a two-dimensional plane\n",
        "# \"precomputed\" because we provide a distance matrix\n",
        "# we will also specify `random_state` so the plot is reproducible.\n",
        "mds = MDS(n_components=2, dissimilarity=\"precomputed\", random_state=1)\n",
        "\n",
        "pos = mds.fit_transform(dist)  # shape (n_components, n_samples)\n",
        "\n",
        "xs, ys = pos[:, 0], pos[:, 1]\n",
        "print()\n",
        "print()"
      ]
    },
    {
      "cell_type": "code",
      "execution_count": 20,
      "metadata": {
        "id": "Xe45coVQ4ZXi"
      },
      "outputs": [],
      "source": [
        "#set up colors per clusters using a dict\n",
        "cluster_colors = {0: '#1b9e77', 1: '#d95f02', 2: '#7570b3'}\n",
        "\n",
        "#set up cluster names using a dict\n",
        "cluster_names = {0: 'cluster 0', \n",
        "                 1: 'cluster 1', \n",
        "                 2: 'cluster 2'}"
      ]
    },
    {
      "cell_type": "code",
      "execution_count": 21,
      "metadata": {
        "colab": {
          "base_uri": "https://localhost:8080/",
          "height": 558
        },
        "id": "6stGDo-K4nTN",
        "outputId": "24bd79c4-4d35-4f41-eaaf-b6edc93e8298"
      },
      "outputs": [
        {
          "output_type": "display_data",
          "data": {
            "text/plain": [
              "<Figure size 1224x648 with 1 Axes>"
            ],
            "image/png": "[encoded data removed]"
          },
          "metadata": {
            "needs_background": "light"
          }
        },
        {
          "output_type": "display_data",
          "data": {
            "text/plain": [
              "<Figure size 432x288 with 0 Axes>"
            ]
          },
          "metadata": {}
        }
      ],
      "source": [
        "#some ipython magic to show the matplotlib plots inline\n",
        "%matplotlib inline \n",
        "\n",
        "#create data frame that has the result of the MDS plus the cluster numbers and titles\n",
        "df_gof = pd.DataFrame(dict(x=xs, y=ys, label=clusters_gof, name=df_patterns['name'])) \n",
        "\n",
        "#group by cluster\n",
        "groups = df_gof.groupby('label')\n",
        "\n",
        "\n",
        "# set up plot\n",
        "fig, ax = plt.subplots(figsize=(17, 9)) # set size\n",
        "ax.margins(0.05) # Optional, just adds 5% padding to the autoscaling\n",
        "\n",
        "#iterate through groups to layer the plot\n",
        "#note that I use the cluster_name and cluster_color dicts with the 'name' lookup to return the appropriate color/label\n",
        "for name, group in groups:\n",
        "    ax.plot(group.x, group.y, marker='o', linestyle='', ms=12, \n",
        "            label=cluster_names[name], color=cluster_colors[name], \n",
        "            mec='none')\n",
        "    ax.set_aspect('auto')\n",
        "    ax.tick_params(\\\n",
        "        axis= 'x',          # changes apply to the x-axis\n",
        "        which='both',      # both major and minor ticks are affected\n",
        "        bottom='off',      # ticks along the bottom edge are off\n",
        "        top='off',         # ticks along the top edge are off\n",
        "        labelbottom='off')\n",
        "    ax.tick_params(\\\n",
        "        axis= 'y',         # changes apply to the y-axis\n",
        "        which='both',      # both major and minor ticks are affected\n",
        "        left='off',      # ticks along the bottom edge are off\n",
        "        top='off',         # ticks along the top edge are off\n",
        "        labelleft='off')\n",
        "    \n",
        "ax.legend(numpoints=1)  #show legend with only 1 point\n",
        "\n",
        "#add label in x,y position with the label as the film title\n",
        "for i in range(len(df_gof)):\n",
        "    ax.text(df_gof.loc[i]['x'], df_gof.loc[i]['y'], df_gof.loc[i]['name'], size=8)  \n",
        "\n",
        "    \n",
        "    \n",
        "plt.show() #show the plot\n",
        "\n",
        "#uncomment the below to save the plot if need be\n",
        "plt.savefig('clusters_small_noaxes.png', dpi=200)"
      ]
    },
    {
      "cell_type": "code",
      "execution_count": 22,
      "metadata": {
        "id": "a1_2JWgV5GWm"
      },
      "outputs": [],
      "source": [
        "plt.close()"
      ]
    },
    {
      "cell_type": "code",
      "execution_count": 23,
      "metadata": {
        "id": "quBGtuQa5LY1"
      },
      "outputs": [],
      "source": [
        "#define custom toolbar location\n",
        "class TopToolbar(mpld3.plugins.PluginBase):\n",
        "    \"\"\"Plugin for moving toolbar to top of figure\"\"\"\n",
        "\n",
        "    JAVASCRIPT = \"\"\"\n",
        "    mpld3.register_plugin(\"toptoolbar\", TopToolbar);\n",
        "    TopToolbar.prototype = Object.create(mpld3.Plugin.prototype);\n",
        "    TopToolbar.prototype.constructor = TopToolbar;\n",
        "    function TopToolbar(fig, props){\n",
        "        mpld3.Plugin.call(this, fig, props);\n",
        "    };\n",
        "\n",
        "    TopToolbar.prototype.draw = function(){\n",
        "      // the toolbar svg doesn't exist\n",
        "      // yet, so first draw it\n",
        "      this.fig.toolbar.draw();\n",
        "\n",
        "      // then change the y position to be\n",
        "      // at the top of the figure\n",
        "      this.fig.toolbar.toolbar.attr(\"x\", 150);\n",
        "      this.fig.toolbar.toolbar.attr(\"y\", 400);\n",
        "\n",
        "      // then remove the draw function,\n",
        "      // so that it is not called again\n",
        "      this.fig.toolbar.draw = function() {}\n",
        "    }\n",
        "    \"\"\"\n",
        "    def __init__(self):\n",
        "        self.dict_ = {\"type\": \"toptoolbar\"}"
      ]
    },
    {
      "cell_type": "code",
      "execution_count": 24,
      "metadata": {
        "id": "fnp-5-L55MxE"
      },
      "outputs": [],
      "source": [
        "#create data frame that has the result of the MDS plus the cluster numbers and titles\n",
        "df_gof = pd.DataFrame(dict(x=xs, y=ys, label=clusters_gof, name=df_patterns['name']))\n",
        "\n",
        "#group by cluster\n",
        "groups = df_gof.groupby('label')\n",
        "\n",
        "#define custom css to format the font and to remove the axis labeling\n",
        "css = \"\"\"\n",
        "text.mpld3-text, div.mpld3-tooltip {\n",
        "  font-family:Arial, Helvetica, sans-serif;\n",
        "}\n",
        "\n",
        "g.mpld3-xaxis, g.mpld3-yaxis {\n",
        "display: none; }\n",
        "\n",
        "svg.mpld3-figure {\n",
        "margin-left: -200px;}\n",
        "\"\"\"\n",
        "\n",
        "# Plot \n",
        "fig, ax = plt.subplots(figsize=(14,6)) #set plot size\n",
        "ax.margins(0.03) # Optional, just adds 5% padding to the autoscaling\n",
        "\n",
        "#iterate through groups to layer the plot\n",
        "#note that I use the cluster_name and cluster_color dicts with the 'name' lookup to return the appropriate color/label\n",
        "for name, group in groups:\n",
        "    points = ax.plot(group.x, group.y, marker='o', linestyle='', ms=18, \n",
        "                     label=cluster_names[name], mec='none', \n",
        "                     color=cluster_colors[name])\n",
        "    ax.set_aspect('auto')\n",
        "    labels = [i for i in group.name]\n",
        "    \n",
        "    #set tooltip using points, labels and the already defined 'css'\n",
        "    tooltip = mpld3.plugins.PointHTMLTooltip(points[0], labels,\n",
        "                                       voffset=10, hoffset=10, css=css)\n",
        "    #connect tooltip to fig\n",
        "    mpld3.plugins.connect(fig, tooltip, TopToolbar())    \n",
        "    \n",
        "    #set tick marks as blank\n",
        "    ax.axes.get_xaxis().set_ticks([])\n",
        "    ax.axes.get_yaxis().set_ticks([])\n",
        "    \n",
        "    #set axis as blank\n",
        "    ax.axes.get_xaxis().set_visible(False)\n",
        "    ax.axes.get_yaxis().set_visible(False)\n",
        "\n",
        "    \n",
        "ax.legend(numpoints=1) #show legend with only one dot\n",
        "\n",
        "mpld3.display() #show the plot\n",
        "\n",
        "#uncomment the below to export to html\n",
        "html = mpld3.fig_to_html(fig)\n",
        "#print(html)"
      ]
    },
    {
      "cell_type": "code",
      "execution_count": 25,
      "metadata": {
        "id": "08PYO-gJ5eu5",
        "colab": {
          "base_uri": "https://localhost:8080/",
          "height": 1000
        },
        "outputId": "eb8d5732-ed86-4ac4-b6e3-9c0f4fc5568e"
      },
      "outputs": [
        {
          "output_type": "display_data",
          "data": {
            "text/plain": [
              "<Figure size 1080x1440 with 1 Axes>"
            ],
            "image/png": "[encoded data removed]"
          },
          "metadata": {
            "needs_background": "light"
          }
        }
      ],
      "source": [
        "from scipy.cluster.hierarchy import ward, dendrogram\n",
        "\n",
        "linkage_matrix = ward(dist) #define the linkage_matrix using ward clustering pre-computed distances\n",
        "\n",
        "fig, ax = plt.subplots(figsize=(15, 20)) # set size\n",
        "ax = dendrogram(linkage_matrix, orientation=\"right\", labels=df_patterns['name'].to_numpy());\n",
        "\n",
        "plt.tick_params(\\\n",
        "    axis= 'x',          # changes apply to the x-axis\n",
        "    which='both',      # both major and minor ticks are affected\n",
        "    bottom='off',      # ticks along the bottom edge are off\n",
        "    top='off',         # ticks along the top edge are off\n",
        "    labelbottom='off')\n",
        "\n",
        "plt.tight_layout() #show plot with tight layout\n",
        "\n",
        "#uncomment below to save figure\n",
        "plt.savefig('ward_clusters.png', dpi=200) #save figure as ward_clusters"
      ]
    },
    {
      "cell_type": "code",
      "execution_count": 26,
      "metadata": {
        "id": "8n5UxxSl5oSc"
      },
      "outputs": [],
      "source": [
        "plt.close()"
      ]
    },
    {
      "cell_type": "code",
      "execution_count": 27,
      "metadata": {
        "id": "327RnS2N5slC"
      },
      "outputs": [],
      "source": [
        "#strip any proper names from a text...unfortunately right now this is yanking the first word from a sentence too.\n",
        "import string\n",
        "def strip_proppers(text):\n",
        "    # first tokenize by sentence, then by word to ensure that punctuation is caught as it's own token\n",
        "    tokens = [word for sent in nltk.sent_tokenize(text) for word in nltk.word_tokenize(sent) if word.islower()]\n",
        "    return \"\".join([\" \"+i if not i.startswith(\"'\") and i not in string.punctuation else i for i in tokens]).strip()"
      ]
    },
    {
      "cell_type": "code",
      "execution_count": 28,
      "metadata": {
        "id": "lhcDm8Nv5uk8"
      },
      "outputs": [],
      "source": [
        "#strip any proper nouns (NNP) or plural proper nouns (NNPS) from a text\n",
        "from nltk.tag import pos_tag\n",
        "\n",
        "def strip_proppers_POS(text):\n",
        "    tagged = pos_tag(text.split()) #use NLTK's part of speech tagger\n",
        "    non_propernouns = [word for word,pos in tagged if pos != 'NNP' and pos != 'NNPS']\n",
        "    return non_propernouns"
      ]
    },
    {
      "cell_type": "code",
      "execution_count": 29,
      "metadata": {
        "id": "8tAh54Zm5xXp",
        "colab": {
          "base_uri": "https://localhost:8080/"
        },
        "outputId": "a680d617-b039-4540-f5dd-8e02a8f16641"
      },
      "outputs": [
        {
          "output_type": "stream",
          "name": "stdout",
          "text": [
            "CPU times: user 232 ms, sys: 329 µs, total: 233 ms\n",
            "Wall time: 375 ms\n",
            "CPU times: user 291 ms, sys: 1.25 ms, total: 293 ms\n",
            "Wall time: 323 ms\n",
            "CPU times: user 33.4 ms, sys: 0 ns, total: 33.4 ms\n",
            "Wall time: 56.3 ms\n"
          ]
        }
      ],
      "source": [
        "from gensim import corpora, models, similarities \n",
        "\n",
        "#remove proper names\n",
        "%time preprocess = [strip_proppers(doc) for doc in df_patterns['overview']]\n",
        "\n",
        "#tokenize\n",
        "%time tokenized_text = [tokenize_and_stem(text) for text in preprocess]\n",
        "\n",
        "#remove stop words\n",
        "%time texts = [[word for word in text if word not in stopwords] for text in tokenized_text]"
      ]
    },
    {
      "cell_type": "code",
      "execution_count": 30,
      "metadata": {
        "id": "lKdpIj0o57dQ"
      },
      "outputs": [],
      "source": [
        "#create a Gensim dictionary from the texts\n",
        "dictionary = corpora.Dictionary(texts)\n",
        "\n",
        "#remove extremes (similar to the min/max df step used when creating the tf-idf matrix)\n",
        "dictionary.filter_extremes(no_below=1, no_above=0.8)\n",
        "\n",
        "#convert the dictionary to a bag of words corpus for reference\n",
        "corpus = [dictionary.doc2bow(text) for text in texts]"
      ]
    },
    {
      "cell_type": "code",
      "execution_count": 31,
      "metadata": {
        "colab": {
          "base_uri": "https://localhost:8080/"
        },
        "id": "ijw-yH9r587O",
        "outputId": "1c7b876e-6277-4bad-d3c3-6e1a98a5412c"
      },
      "outputs": [
        {
          "output_type": "stream",
          "name": "stdout",
          "text": [
            "CPU times: user 4.87 s, sys: 15.5 ms, total: 4.89 s\n",
            "Wall time: 7.7 s\n"
          ]
        }
      ],
      "source": [
        "%time lda = models.LdaModel(corpus, num_topics=3, id2word=dictionary, update_every=5, chunksize=10000, passes=100)"
      ]
    },
    {
      "cell_type": "code",
      "execution_count": 32,
      "metadata": {
        "colab": {
          "base_uri": "https://localhost:8080/"
        },
        "id": "TZnaY9_L6N-t",
        "outputId": "110baae6-4302-47a1-9971-bbe74744e0f6"
      },
      "outputs": [
        {
          "output_type": "execute_result",
          "data": {
            "text/plain": [
              "[(0,\n",
              "  '0.019*\"widget\" + 0.018*\"interfac\" + 0.018*\"subclass\" + 0.017*\"list\" + 0.014*\"defin\" + 0.012*\"one\" + 0.012*\"entri\" + 0.012*\"chang\" + 0.012*\"box\" + 0.011*\"dialog\"'),\n",
              " (1,\n",
              "  '0.025*\"request\" + 0.017*\"creat\" + 0.014*\"subclass\" + 0.011*\"differ\" + 0.010*\"defin\" + 0.010*\"algorithm\" + 0.010*\"help\" + 0.010*\"document\" + 0.009*\"instanc\" + 0.009*\"receiv\"'),\n",
              " (2,\n",
              "  '0.022*\"state\" + 0.014*\"interfac\" + 0.011*\"depend\" + 0.010*\"need\" + 0.010*\"subclass\" + 0.010*\"client\" + 0.010*\"defin\" + 0.009*\"chang\" + 0.009*\"applic\" + 0.009*\"structur\"')]"
            ]
          },
          "metadata": {},
          "execution_count": 32
        }
      ],
      "source": [
        "lda.show_topics()"
      ]
    },
    {
      "cell_type": "code",
      "execution_count": 33,
      "metadata": {
        "colab": {
          "base_uri": "https://localhost:8080/"
        },
        "id": "dFOyB2dC6RKk",
        "outputId": "9cfe3286-3db7-464a-8ca4-27b603057c26"
      },
      "outputs": [
        {
          "output_type": "stream",
          "name": "stdout",
          "text": [
            "[\"('widget', 0.018950144)\", \"('interfac', 0.018488156)\", \"('subclass', 0.017928915)\", \"('list', 0.016802268)\", \"('defin', 0.014228228)\", \"('one', 0.01203524)\", \"('entri', 0.011980412)\", \"('chang', 0.011979946)\", \"('box', 0.011977036)\", \"('dialog', 0.010904816)\", \"('behavior', 0.010376503)\", \"('field', 0.0098287435)\", \"('creat', 0.0089687705)\", \"('director', 0.008761313)\", \"('instanc', 0.008218072)\", \"('know', 0.00783298)\", \"('iter', 0.0076842825)\", \"('onli', 0.0072778114)\", \"('call', 0.007201987)\", \"('text', 0.0071528405)\"]\n",
            "\n",
            "[\"('request', 0.024591459)\", \"('creat', 0.016730437)\", \"('subclass', 0.013995169)\", \"('differ', 0.01069318)\", \"('defin', 0.010116044)\", \"('algorithm', 0.009738568)\", \"('help', 0.009737701)\", \"('document', 0.00970056)\", \"('instanc', 0.0092619425)\", \"('receiv', 0.009259808)\", \"('interfac', 0.009186181)\", \"('express', 0.007820589)\", \"('one', 0.0077664987)\", \"('instanti', 0.0077506076)\", \"('user', 0.0072869034)\", \"('handl', 0.0068640653)\", \"('interpret', 0.006861407)\", \"('repres', 0.006386105)\", \"('proxi', 0.0063827033)\", \"('text', 0.0063817897)\"]\n",
            "\n",
            "[\"('state', 0.022151342)\", \"('interfac', 0.013782771)\", \"('depend', 0.010708433)\", \"('need', 0.010269588)\", \"('subclass', 0.0102616055)\", \"('client', 0.009829488)\", \"('defin', 0.009824341)\", \"('chang', 0.0093843965)\", \"('applic', 0.008948656)\", \"('structur', 0.008509059)\", \"('subsystem', 0.008506572)\", \"('differ', 0.008064217)\", \"('code', 0.0076300045)\", \"('make', 0.007627721)\", \"('charact', 0.007626589)\", \"('connect', 0.0071869707)\", \"('compil', 0.007186586)\", \"('compon', 0.0067485)\", \"('want', 0.0067478647)\", \"('repres', 0.0067478158)\"]\n",
            "\n"
          ]
        },
        {
          "output_type": "stream",
          "name": "stderr",
          "text": [
            "<ipython-input-33-37f9c4e5b9d9>:2: VisibleDeprecationWarning: Creating an ndarray from ragged nested sequences (which is a list-or-tuple of lists-or-tuples-or ndarrays with different lengths or shapes) is deprecated. If you meant to do this, you must specify 'dtype=object' when creating the ndarray.\n",
            "  topics_matrix = np.array(topics_matrix)\n"
          ]
        }
      ],
      "source": [
        "topics_matrix = lda.show_topics(formatted=False, num_words=20)\n",
        "topics_matrix = np.array(topics_matrix)\n",
        "\n",
        "topic_words = topics_matrix[:,1]\n",
        "for i in topic_words:\n",
        "    print([str(word) for word in i])\n",
        "    print()"
      ]
    },
    {
      "cell_type": "code",
      "execution_count": 34,
      "metadata": {
        "id": "1Q1DQt6Ke84T",
        "colab": {
          "base_uri": "https://localhost:8080/"
        },
        "outputId": "1f171e0b-c066-4f5e-83ab-ae57095c955e"
      },
      "outputs": [
        {
          "output_type": "stream",
          "name": "stdout",
          "text": [
            "           x         y  label                     name\n",
            "1  -0.290795 -0.486821      0                  builder\n",
            "13  0.235700  0.100393      0                  command\n",
            "2  -0.029290 -0.501548      0           factory method\n",
            "10  0.403279 -0.312469      0                flyweight\n",
            "3  -0.175488 -0.160749      0                prototype\n",
            "11  0.007473 -0.330023      0                    proxy\n",
            "21 -0.020412 -0.591692      0          template method\n",
            "0  -0.224331  0.267797      1         abstract factory\n",
            "5   0.030440  0.204624      1                  adapter\n",
            "6  -0.289688  0.613788      1                   bridge\n",
            "12  0.358000  0.483652      1  chain of responsibility\n",
            "7   0.301786 -0.471594      1                composite\n",
            "8  -0.008736  0.427222      1                decorator\n",
            "9  -0.391170  0.370662      1                   facade\n",
            "14 -0.554955 -0.177420      1              interpreter\n",
            "15 -0.338985  0.144692      1                 iterator\n",
            "4  -0.640843  0.164247      1                singleton\n",
            "20 -0.519982 -0.375088      1                 strategy\n",
            "22  0.164916 -0.115788      1                  visitor\n",
            "16  0.170310  0.535308      2                 mediator\n",
            "17  0.631545 -0.066197      2                  memento\n",
            "18  0.490809  0.255175      2                 observer\n",
            "19  0.690418  0.021830      2                    state\n"
          ]
        }
      ],
      "source": [
        "# from Jonathan\n",
        "print(df_gof.sort_values(by=['label', 'name']))"
      ]
    },
    {
      "cell_type": "code",
      "execution_count": 35,
      "metadata": {
        "id": "M-tUO3gHbmEc",
        "colab": {
          "base_uri": "https://localhost:8080/",
          "height": 1000
        },
        "outputId": "4cfc3258-e049-48ea-b2a0-1de9f149a339"
      },
      "outputs": [
        {
          "output_type": "stream",
          "name": "stdout",
          "text": [
            "{'name': 0            abstract factory\n",
            "1                     builder\n",
            "2              factory method\n",
            "3                   prototype\n",
            "4                   singleton\n",
            "5                     adapter\n",
            "6                      bridge\n",
            "7                   composite\n",
            "8                   decorator\n",
            "9                      facade\n",
            "10                  flyweight\n",
            "11                      proxy\n",
            "12    chain of responsibility\n",
            "13                    command\n",
            "14                interpreter\n",
            "15                   iterator\n",
            "16                   mediator\n",
            "17                    memento\n",
            "18                   observer\n",
            "19                      state\n",
            "20                   strategy\n",
            "21            template method\n",
            "22                    visitor\n",
            "Name: name, dtype: object, 'cat': 0     2\n",
            "1     2\n",
            "2     2\n",
            "3     2\n",
            "4     2\n",
            "5     1\n",
            "6     1\n",
            "7     1\n",
            "8     1\n",
            "9     1\n",
            "10    1\n",
            "11    1\n",
            "12    0\n",
            "13    0\n",
            "14    0\n",
            "15    0\n",
            "16    0\n",
            "17    0\n",
            "18    0\n",
            "19    0\n",
            "20    0\n",
            "21    0\n",
            "22    0\n",
            "Name: correct_category, dtype: int64, 'overview': 0     Provide an interface for creating families of ...\n",
            "1     Separate the construction of a complex object ...\n",
            "2     Define an interface for creating an object, bu...\n",
            "3     Specify the kinds of objects to create using a...\n",
            "4     Ensure a class only has one instance, and prov...\n",
            "5     Convert the interface of a class into another ...\n",
            "6     Decouple an abstraction from its implementatio...\n",
            "7     Compose objects into tree structures to repres...\n",
            "8     Attach additional responsibilities to an objec...\n",
            "9     Provide a unified interface to a set of interf...\n",
            "10    Use sharing to support large numbers of fine-g...\n",
            "11    Provide a surrogate or placeholder for another...\n",
            "12    Avoid coupling the sender of a request to its ...\n",
            "13    Encapsulate a request as an object, thereby le...\n",
            "14    Given a language, define a represention for it...\n",
            "15    Provide a way to access the elements of an agg...\n",
            "16    Define an object that encapsulates how a set o...\n",
            "17    Without violating encapsulation, capture and e...\n",
            "18    Define a one-to-many dependency between object...\n",
            "19    Allow an object to alter its behavior when its...\n",
            "20    Define a family of algorithms, encapsulate eac...\n",
            "21    Define the skeleton of an algorithm in an oper...\n",
            "22    Represent an operation to be performed on the ...\n",
            "Name: overview, dtype: object, 'cluster': [1, 0, 0, 0, 1, 1, 1, 1, 1, 1, 0, 0, 1, 0, 1, 1, 2, 2, 2, 2, 1, 0, 1]}\n",
            "          0                                                  1\n",
            "0      name  0            abstract factory\n",
            "1               ...\n",
            "1       cat  0     2\n",
            "1     2\n",
            "2     2\n",
            "3     2\n",
            "4     2\n",
            "5     ...\n",
            "2  overview  0     Provide an interface for creating famili...\n",
            "3   cluster  [1, 0, 0, 0, 1, 1, 1, 1, 1, 1, 0, 0, 1, 0, 1, ...\n"
          ]
        },
        {
          "output_type": "display_data",
          "data": {
            "text/plain": [
              "[]"
            ]
          },
          "metadata": {}
        },
        {
          "output_type": "display_data",
          "data": {
            "text/plain": [
              "[]"
            ]
          },
          "metadata": {}
        },
        {
          "output_type": "display_data",
          "data": {
            "text/plain": [
              "[]"
            ]
          },
          "metadata": {}
        },
        {
          "output_type": "display_data",
          "data": {
            "text/plain": [
              "[]"
            ]
          },
          "metadata": {}
        },
        {
          "output_type": "execute_result",
          "data": {
            "text/plain": [
              "0    None\n",
              "1    None\n",
              "2    None\n",
              "3    None\n",
              "dtype: object"
            ]
          },
          "metadata": {},
          "execution_count": 35
        }
      ],
      "source": [
        "# from Jonathan\n",
        "from collections import Counter\n",
        "patterns_gof_frame = pd.DataFrame(patterns_gof.items())\n",
        "print(patterns_gof)\n",
        "print(patterns_gof_frame)\n",
        "patterns_gof_frame.iloc[:4].loc[:, 'overview':].agg(' '.join, axis=1).apply(lambda x: display(Counter(x.split()).most_common(8)))"
      ]
    },
    {
      "cell_type": "code",
      "execution_count": 38,
      "metadata": {
        "id": "Iy9DmSSQhuC7",
        "colab": {
          "base_uri": "https://localhost:8080/"
        },
        "outputId": "21767e01-b55b-4444-9253-59e22706b5a3"
      },
      "outputs": [
        {
          "output_type": "stream",
          "name": "stdout",
          "text": [
            "[[3, 0, 1, 0, 2, 1, 8, 3, 3, 8, 0, 0, 1, 1, 0, 5, 0, 0, 0, 0, 5, 0, 0], [14, 5, 28, 21, 7, 28, 20, 10, 15, 9, 2, 4, 7, 11, 10, 10, 20, 1, 2, 12, 12, 17, 29], [2, 0, 5, 1, 0, 3, 2, 2, 0, 2, 6, 0, 1, 5, 0, 0, 0, 2, 3, 0, 0, 4, 4], [0, 0, 0, 0, 1, 0, 3, 0, 2, 0, 1, 0, 0, 1, 0, 0, 2, 0, 0, 0, 0, 0, 0], [0, 0, 0, 2, 0, 0, 3, 0, 0, 0, 0, 0, 0, 0, 1, 0, 0, 0, 0, 0, 1, 0, 4], [2, 0, 0, 2, 3, 0, 0, 2, 0, 21, 0, 2, 2, 4, 0, 0, 8, 1, 1, 0, 0, 0, 1], [0, 0, 0, 0, 0, 0, 0, 3, 0, 0, 4, 0, 0, 2, 0, 5, 3, 3, 0, 1, 1, 1, 8], [1, 0, 0, 0, 0, 0, 0, 0, 1, 0, 0, 0, 0, 0, 0, 0, 15, 0, 1, 6, 3, 3, 0], [1, 5, 0, 4, 0, 2, 4, 2, 1, 0, 3, 2, 1, 4, 0, 5, 2, 0, 2, 4, 6, 3, 2], [0, 0, 0, 0, 0, 0, 0, 0, 0, 0, 0, 0, 0, 0, 0, 0, 0, 0, 0, 0, 0, 0, 0]]\n"
          ]
        }
      ],
      "source": [
        "# Check for these words: client, class, application, extend, hierarchy, system, structure, behavior, differ, and execution. These words are important in determining the pattern category.\n",
        "occurrences = []\n",
        "special_words = [ 'client', 'class', 'application', 'extend', 'hierarchy', 'system', 'structure', 'behavior', 'differ', 'execution' ]\n",
        "\n",
        "# print(patterns_gof_frame)\n",
        "\n",
        "# for index, row in patterns_gof_frame.iterrows():\n",
        "#   print(row)\n",
        "#   pattern_info = []\n",
        "#   pattern_info.append(row['name'])\n",
        "#   for word in special_words:\n",
        "#     pattern_info.append(row['name'].count(word))\n",
        "#   occurrences.append(pattern_info)\n",
        "\n",
        "#print(occurrences)\n",
        "\n",
        "#print(df_patterns['overview'])\n",
        "\n",
        "# Source: https://www.w3resource.com/python-exercises/pandas/string/python-pandas-string-exercise-6.php\n",
        "for word in special_words:\n",
        "  #occurrences.append(df_patterns['overview'].value_counts().iloc[word])\n",
        "  occurrences.append(list(map(lambda x: x.count(word), df_patterns['overview'])))\n",
        "\n",
        "print(occurrences)"
      ]
    }
  ],
  "metadata": {
    "colab": {
      "provenance": []
    },
    "kernelspec": {
      "display_name": "Python 3",
      "name": "python3"
    },
    "language_info": {
      "name": "python"
    }
  },
  "nbformat": 4,
  "nbformat_minor": 0
}