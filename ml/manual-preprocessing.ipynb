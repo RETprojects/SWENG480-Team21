{
 "cells": [
  {
   "cell_type": "code",
   "execution_count": 2,
   "id": "1b7763ae-5c2d-4601-8f58-3f65faab5db1",
   "metadata": {
    "tags": []
   },
   "outputs": [
    {
     "data": {
      "text/plain": [
       "0    abstract factory provide an interface for crea...\n",
       "1    builder separate the construction of a complex...\n",
       "2    factory method define an interface for creatin...\n",
       "3    prototype specify the kinds of objects to crea...\n",
       "4    singleton ensure a class only has one instance...\n",
       "dtype: string"
      ]
     },
     "execution_count": 2,
     "metadata": {},
     "output_type": "execute_result"
    }
   ],
   "source": [
    "import numpy as np\n",
    "import pandas as pd\n",
    "\n",
    "# Read the data into a pandas DataFrame\n",
    "df = pd.read_excel('gof-problem-domain.xlsx', dtype='string')\n",
    "\n",
    "# Merge different parts of the problem domain (intent, motivation, etc.)\n",
    "series = df.agg(' '.join, axis=1).astype('string')\n",
    "\n",
    "# Replace all non-alphabetical characters with whitespace\n",
    "series = series.str.replace('[^A-Za-z]', repl=' ', regex=True)\n",
    "# Replace all repeated whitespace with a single whitespace character\n",
    "series = series.str.replace('\\s+', repl=' ', regex=True)\n",
    "# Lowercase the input\n",
    "series = series.str.lower()\n",
    "# Remove leading and trailing whitespace\n",
    "series = series.str.strip()\n",
    "\n",
    "series[:5]"
   ]
  },
  {
   "cell_type": "code",
   "execution_count": 7,
   "id": "10a9e680-4a85-4153-b1a6-6ca039aa6a1e",
   "metadata": {
    "tags": []
   },
   "outputs": [
    {
     "data": {
      "text/plain": [
       "0    abstract factori provid interfac creat famili ...\n",
       "1    builder separ construct complex object repr co...\n",
       "2    factori method defin interfac creat object let...\n",
       "3    prototyp specifi kind object creat use prototy...\n",
       "4    singleton ensur class one instanc provid globa...\n",
       "dtype: string"
      ]
     },
     "execution_count": 7,
     "metadata": {},
     "output_type": "execute_result"
    }
   ],
   "source": [
    "from nltk.corpus import stopwords\n",
    "from nltk.stem.snowball import SnowballStemmer\n",
    "\n",
    "# Put stop words in a set to improve performance\n",
    "stop_words = set(stopwords.words('english'))\n",
    "# Use Snowball stemmer to replicate Dr. Hussain's stemming\n",
    "stemmer = SnowballStemmer('english')\n",
    "\n",
    "series = series.apply(lambda row: ' '.join(\n",
    "    [stemmer.stem(word) for word in row.split() if word not in stop_words])).astype('string')\n",
    "\n",
    "series[:5]"
   ]
  },
  {
   "cell_type": "code",
   "execution_count": 124,
   "id": "6736e803-f872-48c9-9567-68846547a486",
   "metadata": {
    "tags": []
   },
   "outputs": [
    {
     "data": {
      "text/plain": [
       "['abl',\n",
       " 'abouttoopendocu',\n",
       " 'abstract',\n",
       " 'abstractlist',\n",
       " 'accept',\n",
       " 'access',\n",
       " 'accommod',\n",
       " 'accomplish',\n",
       " 'accord',\n",
       " 'account']"
      ]
     },
     "metadata": {},
     "output_type": "display_data"
    },
    {
     "name": "stdout",
     "output_type": "stream",
     "text": [
      "(23, 1080)\n"
     ]
    }
   ],
   "source": [
    "from sklearn.feature_extraction.text import TfidfVectorizer\n",
    "\n",
    "vectorizer = TfidfVectorizer()\n",
    "X = vectorizer.fit_transform(series)\n",
    "display(vectorizer.get_feature_names_out().tolist()[:10])\n",
    "print(X.shape)"
   ]
  },
  {
   "cell_type": "code",
   "execution_count": 125,
   "id": "362bcbca-bdf8-44fd-bfde-a002275554ec",
   "metadata": {
    "tags": []
   },
   "outputs": [
    {
     "data": {
      "text/plain": [
       "[2, 2, 2, 2, 0, 2, 2, 2, 2, 2, 1, 2, 0, 0, 2, 2, 0, 1, 1, 1, 2, 2, 2]"
      ]
     },
     "execution_count": 125,
     "metadata": {},
     "output_type": "execute_result"
    }
   ],
   "source": [
    "from sklearn.cluster import KMeans\n",
    "\n",
    "km = KMeans(n_clusters=3, random_state=0, n_init='auto').fit(X)\n",
    "km.labels_.tolist()"
   ]
  },
  {
   "cell_type": "code",
   "execution_count": 126,
   "id": "ac374e28-2fda-464a-bf9f-c0e530d7bb85",
   "metadata": {
    "tags": []
   },
   "outputs": [
    {
     "name": "stdout",
     "output_type": "stream",
     "text": [
      "Best fscore is: 0.435 from true_2\n"
     ]
    },
    {
     "data": {
      "text/plain": [
       "[0, 0, 0, 0, 0, 2, 2, 2, 2, 2, 2, 2, 1, 1, 1, 1, 1, 1, 1, 1, 1, 1, 1]"
      ]
     },
     "metadata": {},
     "output_type": "display_data"
    }
   ],
   "source": [
    "true_1 = [0]*5 + [1]*7 + [2]*11\n",
    "true_2 = [0]*5 + [2]*7 + [1]*11\n",
    "true_3 = [1]*5 + [0]*7 + [2]*11\n",
    "true_4 = [1]*5 + [2]*7 + [0]*11\n",
    "true_5 = [2]*5 + [0]*7 + [1]*11\n",
    "true_6 = [2]*5 + [1]*7 + [0]*11\n",
    "\n",
    "from sklearn.metrics import f1_score\n",
    "\n",
    "fscores = [\n",
    "    f1_score(true_1, km.labels_.tolist(),average='micro'),\n",
    "    f1_score(true_2, km.labels_.tolist(),average='micro'),\n",
    "    f1_score(true_3, km.labels_.tolist(),average='micro'),\n",
    "    f1_score(true_4, km.labels_.tolist(),average='micro'),\n",
    "    f1_score(true_5, km.labels_.tolist(),average='micro'),\n",
    "    f1_score(true_6, km.labels_.tolist(),average='micro')\n",
    "]\n",
    "\n",
    "km_best = np.around(max(fscores),3)\n",
    "print('Best fscore is:', km_best, 'from true_' + str(np.argmax(fscores) + 1))\n",
    "display(globals()['true_' + str(np.argmax(fscores) + 1)])"
   ]
  },
  {
   "cell_type": "code",
   "execution_count": null,
   "id": "85ed0ddc-75a8-4779-9c3f-996df90847b9",
   "metadata": {},
   "outputs": [],
   "source": []
  }
 ],
 "metadata": {
  "kernelspec": {
   "display_name": "Python 3 (ipykernel)",
   "language": "python",
   "name": "python3"
  },
  "language_info": {
   "codemirror_mode": {
    "name": "ipython",
    "version": 3
   },
   "file_extension": ".py",
   "mimetype": "text/x-python",
   "name": "python",
   "nbconvert_exporter": "python",
   "pygments_lexer": "ipython3",
   "version": "3.10.2"
  }
 },
 "nbformat": 4,
 "nbformat_minor": 5
}
